{
 "cells": [
  {
   "cell_type": "code",
   "execution_count": 1,
   "metadata": {},
   "outputs": [
    {
     "data": {
      "text/html": [
       "<style>.container { width:95% !important; }</style>"
      ],
      "text/plain": [
       "<IPython.core.display.HTML object>"
      ]
     },
     "metadata": {},
     "output_type": "display_data"
    }
   ],
   "source": [
    "from IPython.core.display import display, HTML\n",
    "display(HTML(\"<style>.container { width:95% !important; }</style>\"))"
   ]
  },
  {
   "cell_type": "markdown",
   "metadata": {},
   "source": [
    "# Business Cases for Data Science\n",
    "## Business Case 4 - ManyGiftsUK recommender system\n",
    "### Group AA\n",
    "**Members**:\n",
    "- Emil Ahmadov (m20201004@novaims.unl.pt)\n",
    "- Doris Macean (m20200609@novaims.unl.pt)\n",
    "- Doyun Shin (m20200565@novaims.unl.pt)\n",
    "- Anastasiia Tagiltseva (m20200041@novaims.unl.pt)"
   ]
  },
  {
   "cell_type": "markdown",
   "metadata": {},
   "source": [
    "<a class=\"anchor\" id=\"0.1\"></a>\n",
    "\n",
    "# **Table of Contents**\n",
    "\n",
    "1. [Business Understanding](#1)\n",
    "\n",
    "2. [Data Understanding](#2)\n",
    "   - 2.1 [Exploratory Data Analysis](#2.1)\n",
    "     - 2.1.1 [Retail dataset](#2.1.1)\n",
    "     - 2.1.2 [Events dataset](#2.1.2)\n",
    "  \n",
    "3. [Data Preparation](#3)\n",
    "   - 3.1 [Handling missing values](#3.1)\n",
    "   - 3.2 [Outliers](#3.2) \n",
    "   - 3.3 [Feature engineering](#3.3) \n",
    "   - 3.4 [Feature Selection](#3.4) \n",
    "   - 3.5 [Encoding](#3.5)\n",
    "   - 3.6 [Scaling](#3.6)\n",
    "   \n",
    "4. [Modeling](#4)\n",
    "   - 4.1 [](#4.1) \n",
    "   - 4.2 [](#4.2)\n",
    "   - 4.3 [](#4.3)\n",
    "   \n",
    "5. [Evaluation](#5)\n",
    " \n",
    "6. [Deployment](#6)"
   ]
  },
  {
   "cell_type": "markdown",
   "metadata": {},
   "source": [
    "# **1. Business Understanding** <a class=\"anchor\" id=\"1\"></a>"
   ]
  },
  {
   "cell_type": "markdown",
   "metadata": {},
   "source": [
    "**ManyGiftsUK** asked us \n",
    "\n",
    "1. Explore the data and build models to answer the problems:\n",
    "\n",
    "    -Recommender system: the website homepage offers a wide range of products the user might be interested on\n",
    "    \n",
    "    -Cold start: offer relevant products to new customers\n",
    "    \n",
    "2. Implement adequate evaluation strategies and select an appropriate quality measure\n",
    "3. In the deployment phase, elaborate on the challenges and recommendations in implementing the recommender system"
   ]
  },
  {
   "cell_type": "markdown",
   "metadata": {},
   "source": [
    "### Project Plan\n",
    "| Phase | Time | Resources | Risks |\n",
    "| :--: | :--------: |:--: | :--------: |\n",
    "| Business Understanding | 2 days | All analysts | Economic and market changes |\n",
    "| Data Understanding | 2 days | All analysts | Data problems, technological problems |\n",
    "| Data Preparation | 2 days | Data scientists, DB engineers | Data problems, technological problems |\n",
    "| Modeling |4 days | Data scientists | Technological problems, inability to build adequate model |\n",
    "| Evaluation | 2 days | All analysts | Economic change inability to implement results |\n",
    "| Deployment | 2 days | Data scientists, DB engineers, implementation team | Economic change inability to implement results |"
   ]
  },
  {
   "cell_type": "markdown",
   "metadata": {},
   "source": [
    "# **2. Data Understanding** <a class=\"anchor\" id=\"2\"></a>"
   ]
  },
  {
   "cell_type": "markdown",
   "metadata": {},
   "source": [
    "### Metadata\n",
    "| Name | Meaning | \n",
    "| :--: | :--------|\n",
    "| InvoiceNo | Invoice number. Nominal, a 6-digit integral number uniquely assigned to each transaction. If this code starts with letter 'c', it indicates a cancellation|\n",
    "| StockCode | Product (item) code. Nominal, a 5-digit integral number uniquely assigned to each distinct product|\n",
    "| Description | Product (item) name. Nominal|\n",
    "| Quantity | The quantities of each product (item) per transaction. Numeric|\n",
    "| InvoiceDate | Invoice Date and time. Numeric, the day and time when each transaction was generated|\n",
    "| UnitPrice | Unit price. Numeric, Product price per unit in pounds|\n",
    "| CustomerID | Customer number. Nominal, a 5-digit integral number uniquely assigned to each customer|\n",
    "| Country | Country name. Nominal, the name of the country where each customer resides|"
   ]
  },
  {
   "cell_type": "markdown",
   "metadata": {},
   "source": [
    "## 2.1 Exploratory Data Analysis <a class=\"anchor\" id=\"2.1\"></a>"
   ]
  },
  {
   "cell_type": "code",
   "execution_count": 2,
   "metadata": {},
   "outputs": [],
   "source": [
    "#conda install implicit -c conda-forge -n root"
   ]
  },
  {
   "cell_type": "code",
   "execution_count": 3,
   "metadata": {},
   "outputs": [],
   "source": [
    "#!pip install implicit"
   ]
  },
  {
   "cell_type": "code",
   "execution_count": 4,
   "metadata": {
    "scrolled": true
   },
   "outputs": [],
   "source": [
    "import pandas as pd\n",
    "import numpy as np\n",
    "import implicit\n",
    "from scipy import sparse\n",
    "from scipy.sparse import coo_matrix\n",
    "from implicit.als import AlternatingLeastSquares\n",
    "from implicit.evaluation import ranking_metrics_at_k\n",
    "from sklearn.decomposition import TruncatedSVD\n",
    "from tqdm import tqdm\n",
    "from sklearn.feature_extraction.text import TfidfVectorizer, CountVectorizer\n",
    "from sklearn.neighbors import NearestNeighbors\n",
    "from sklearn.cluster import KMeans\n",
    "from sklearn.metrics import adjusted_rand_score\n",
    "\n",
    "from sklearn.metrics.pairwise import cosine_similarity\n",
    "from implicit.evaluation import ranking_metrics_at_k, train_test_split\n",
    "\n",
    "import plotly.express as px\n",
    "import plotly.graph_objects as go\n",
    "import matplotlib.pyplot as plt\n",
    "import seaborn as sns\n",
    "plt.style.use(\"ggplot\")\n",
    "%matplotlib inline\n",
    "\n",
    "import warnings\n",
    "warnings.filterwarnings('ignore')"
   ]
  },
  {
   "cell_type": "code",
   "execution_count": 5,
   "metadata": {},
   "outputs": [
    {
     "data": {
      "text/html": [
       "<div>\n",
       "<style scoped>\n",
       "    .dataframe tbody tr th:only-of-type {\n",
       "        vertical-align: middle;\n",
       "    }\n",
       "\n",
       "    .dataframe tbody tr th {\n",
       "        vertical-align: top;\n",
       "    }\n",
       "\n",
       "    .dataframe thead th {\n",
       "        text-align: right;\n",
       "    }\n",
       "</style>\n",
       "<table border=\"1\" class=\"dataframe\">\n",
       "  <thead>\n",
       "    <tr style=\"text-align: right;\">\n",
       "      <th></th>\n",
       "      <th>InvoiceNo</th>\n",
       "      <th>StockCode</th>\n",
       "      <th>Description</th>\n",
       "      <th>Quantity</th>\n",
       "      <th>InvoiceDate</th>\n",
       "      <th>UnitPrice</th>\n",
       "      <th>CustomerID</th>\n",
       "      <th>Country</th>\n",
       "    </tr>\n",
       "  </thead>\n",
       "  <tbody>\n",
       "    <tr>\n",
       "      <th>0</th>\n",
       "      <td>536365</td>\n",
       "      <td>85123A</td>\n",
       "      <td>WHITE HANGING HEART T-LIGHT HOLDER</td>\n",
       "      <td>6</td>\n",
       "      <td>12/1/2010 8:26</td>\n",
       "      <td>2.55</td>\n",
       "      <td>17850.0</td>\n",
       "      <td>United Kingdom</td>\n",
       "    </tr>\n",
       "    <tr>\n",
       "      <th>1</th>\n",
       "      <td>536365</td>\n",
       "      <td>71053</td>\n",
       "      <td>WHITE METAL LANTERN</td>\n",
       "      <td>6</td>\n",
       "      <td>12/1/2010 8:26</td>\n",
       "      <td>3.39</td>\n",
       "      <td>17850.0</td>\n",
       "      <td>United Kingdom</td>\n",
       "    </tr>\n",
       "    <tr>\n",
       "      <th>2</th>\n",
       "      <td>536365</td>\n",
       "      <td>84406B</td>\n",
       "      <td>CREAM CUPID HEARTS COAT HANGER</td>\n",
       "      <td>8</td>\n",
       "      <td>12/1/2010 8:26</td>\n",
       "      <td>2.75</td>\n",
       "      <td>17850.0</td>\n",
       "      <td>United Kingdom</td>\n",
       "    </tr>\n",
       "    <tr>\n",
       "      <th>3</th>\n",
       "      <td>536365</td>\n",
       "      <td>84029G</td>\n",
       "      <td>KNITTED UNION FLAG HOT WATER BOTTLE</td>\n",
       "      <td>6</td>\n",
       "      <td>12/1/2010 8:26</td>\n",
       "      <td>3.39</td>\n",
       "      <td>17850.0</td>\n",
       "      <td>United Kingdom</td>\n",
       "    </tr>\n",
       "    <tr>\n",
       "      <th>4</th>\n",
       "      <td>536365</td>\n",
       "      <td>84029E</td>\n",
       "      <td>RED WOOLLY HOTTIE WHITE HEART.</td>\n",
       "      <td>6</td>\n",
       "      <td>12/1/2010 8:26</td>\n",
       "      <td>3.39</td>\n",
       "      <td>17850.0</td>\n",
       "      <td>United Kingdom</td>\n",
       "    </tr>\n",
       "  </tbody>\n",
       "</table>\n",
       "</div>"
      ],
      "text/plain": [
       "  InvoiceNo StockCode                          Description  Quantity  \\\n",
       "0    536365    85123A   WHITE HANGING HEART T-LIGHT HOLDER         6   \n",
       "1    536365     71053                  WHITE METAL LANTERN         6   \n",
       "2    536365    84406B       CREAM CUPID HEARTS COAT HANGER         8   \n",
       "3    536365    84029G  KNITTED UNION FLAG HOT WATER BOTTLE         6   \n",
       "4    536365    84029E       RED WOOLLY HOTTIE WHITE HEART.         6   \n",
       "\n",
       "      InvoiceDate  UnitPrice  CustomerID         Country  \n",
       "0  12/1/2010 8:26       2.55     17850.0  United Kingdom  \n",
       "1  12/1/2010 8:26       3.39     17850.0  United Kingdom  \n",
       "2  12/1/2010 8:26       2.75     17850.0  United Kingdom  \n",
       "3  12/1/2010 8:26       3.39     17850.0  United Kingdom  \n",
       "4  12/1/2010 8:26       3.39     17850.0  United Kingdom  "
      ]
     },
     "execution_count": 5,
     "metadata": {},
     "output_type": "execute_result"
    }
   ],
   "source": [
    "#load the dataset\n",
    "retail = pd.read_csv('retail.csv')\n",
    "retail.head()"
   ]
  },
  {
   "cell_type": "code",
   "execution_count": 6,
   "metadata": {},
   "outputs": [
    {
     "data": {
      "text/plain": [
       "(541909, 8)"
      ]
     },
     "execution_count": 6,
     "metadata": {},
     "output_type": "execute_result"
    }
   ],
   "source": [
    "#shape of our dataset\n",
    "retail.shape"
   ]
  },
  {
   "cell_type": "code",
   "execution_count": 7,
   "metadata": {},
   "outputs": [],
   "source": [
    "# Correctly encode the variables\n",
    "retail['InvoiceDate'] = pd.to_datetime(retail['InvoiceDate'])\n",
    "retail = retail.astype({'CustomerID': object})"
   ]
  },
  {
   "cell_type": "code",
   "execution_count": 8,
   "metadata": {},
   "outputs": [
    {
     "name": "stdout",
     "output_type": "stream",
     "text": [
      "Number of transactions:  25900\n",
      "Number of products:  4070\n",
      "Number of customers: 4372\n",
      "Percentage of customers NA (new):  24.93 %\n",
      "Number of countries:  38\n"
     ]
    }
   ],
   "source": [
    "#exploring the unique values of each attribute\n",
    "print(\"Number of transactions: \", retail['InvoiceNo'].nunique())\n",
    "print(\"Number of products: \",retail['StockCode'].nunique())\n",
    "print(\"Number of customers:\", retail['CustomerID'].nunique() )\n",
    "print(\"Percentage of customers NA (new): \", round(retail['CustomerID'].isnull().sum() * 100 / len(retail),2),\"%\" )\n",
    "print('Number of countries: ',retail['Country'].nunique())"
   ]
  },
  {
   "cell_type": "code",
   "execution_count": 9,
   "metadata": {},
   "outputs": [
    {
     "data": {
      "text/plain": [
       "<matplotlib.axes._subplots.AxesSubplot at 0x1d998377190>"
      ]
     },
     "execution_count": 9,
     "metadata": {},
     "output_type": "execute_result"
    },
    {
     "data": {
      "image/png": "[encoded data removed]",
      "text/plain": [
       "<Figure size 432x288 with 1 Axes>"
      ]
     },
     "metadata": {
      "needs_background": "light"
     },
     "output_type": "display_data"
    }
   ],
   "source": [
    "retail['StockCode'].value_counts().head(30).plot(kind='bar')"
   ]
  },
  {
   "cell_type": "code",
   "execution_count": 10,
   "metadata": {},
   "outputs": [
    {
     "data": {
      "text/plain": [
       "<matplotlib.axes._subplots.AxesSubplot at 0x1d998461b50>"
      ]
     },
     "execution_count": 10,
     "metadata": {},
     "output_type": "execute_result"
    },
    {
     "data": {
      "image/png": "[encoded data removed]",
      "text/plain": [
       "<Figure size 432x288 with 1 Axes>"
      ]
     },
     "metadata": {
      "needs_background": "light"
     },
     "output_type": "display_data"
    }
   ],
   "source": [
    "retail.groupby(['StockCode'])['Quantity'].sum().sort_values(ascending=False).head(30).plot(kind='bar')"
   ]
  },
  {
   "cell_type": "code",
   "execution_count": 11,
   "metadata": {},
   "outputs": [
    {
     "data": {
      "text/plain": [
       "WHITE HANGING HEART T-LIGHT HOLDER     2369\n",
       "REGENCY CAKESTAND 3 TIER               2200\n",
       "JUMBO BAG RED RETROSPOT                2159\n",
       "PARTY BUNTING                          1727\n",
       "LUNCH BAG RED RETROSPOT                1638\n",
       "                                       ... \n",
       "RUBY GLASS NECKLACE 42\"                   1\n",
       "SET/4 2 TONE EGG SHAPE MIXING BOWLS       1\n",
       "?sold as sets?                            1\n",
       "water damaged                             1\n",
       "BIG POLKADOT MUG                          1\n",
       "Name: Description, Length: 4223, dtype: int64"
      ]
     },
     "execution_count": 11,
     "metadata": {},
     "output_type": "execute_result"
    }
   ],
   "source": [
    "# address incorrect product descriptions\n",
    "retail['Description'].value_counts()"
   ]
  },
  {
   "cell_type": "code",
   "execution_count": 12,
   "metadata": {},
   "outputs": [
    {
     "data": {
      "text/plain": [
       "InvoiceNo           0\n",
       "StockCode           0\n",
       "Description      1454\n",
       "Quantity            0\n",
       "InvoiceDate         0\n",
       "UnitPrice           0\n",
       "CustomerID     135080\n",
       "Country             0\n",
       "dtype: int64"
      ]
     },
     "execution_count": 12,
     "metadata": {},
     "output_type": "execute_result"
    }
   ],
   "source": [
    "# check for missing values\n",
    "retail.isnull().sum()"
   ]
  },
  {
   "cell_type": "code",
   "execution_count": 13,
   "metadata": {},
   "outputs": [
    {
     "data": {
      "text/plain": [
       "5268"
      ]
     },
     "execution_count": 13,
     "metadata": {},
     "output_type": "execute_result"
    }
   ],
   "source": [
    "# check for duplicates (should we drop them&)\n",
    "retail.duplicated().sum()"
   ]
  },
  {
   "cell_type": "markdown",
   "metadata": {},
   "source": [
    "### UnitPrice"
   ]
  },
  {
   "cell_type": "code",
   "execution_count": 14,
   "metadata": {},
   "outputs": [
    {
     "data": {
      "text/plain": [
       "<matplotlib.axes._subplots.AxesSubplot at 0x1d9985bee80>"
      ]
     },
     "execution_count": 14,
     "metadata": {},
     "output_type": "execute_result"
    },
    {
     "data": {
      "image/png": "[encoded data removed]",
      "text/plain": [
       "<Figure size 432x288 with 1 Axes>"
      ]
     },
     "metadata": {
      "needs_background": "light"
     },
     "output_type": "display_data"
    }
   ],
   "source": [
    "sns.boxplot(x = retail['UnitPrice'])"
   ]
  },
  {
   "cell_type": "code",
   "execution_count": 15,
   "metadata": {},
   "outputs": [
    {
     "data": {
      "text/html": [
       "<div>\n",
       "<style scoped>\n",
       "    .dataframe tbody tr th:only-of-type {\n",
       "        vertical-align: middle;\n",
       "    }\n",
       "\n",
       "    .dataframe tbody tr th {\n",
       "        vertical-align: top;\n",
       "    }\n",
       "\n",
       "    .dataframe thead th {\n",
       "        text-align: right;\n",
       "    }\n",
       "</style>\n",
       "<table border=\"1\" class=\"dataframe\">\n",
       "  <thead>\n",
       "    <tr style=\"text-align: right;\">\n",
       "      <th></th>\n",
       "      <th>InvoiceNo</th>\n",
       "      <th>StockCode</th>\n",
       "      <th>Description</th>\n",
       "      <th>Quantity</th>\n",
       "      <th>InvoiceDate</th>\n",
       "      <th>UnitPrice</th>\n",
       "      <th>CustomerID</th>\n",
       "      <th>Country</th>\n",
       "    </tr>\n",
       "  </thead>\n",
       "  <tbody>\n",
       "    <tr>\n",
       "      <th>15016</th>\n",
       "      <td>C537630</td>\n",
       "      <td>AMAZONFEE</td>\n",
       "      <td>AMAZON FEE</td>\n",
       "      <td>-1</td>\n",
       "      <td>2010-12-07 15:04:00</td>\n",
       "      <td>13541.33</td>\n",
       "      <td>NaN</td>\n",
       "      <td>United Kingdom</td>\n",
       "    </tr>\n",
       "    <tr>\n",
       "      <th>15017</th>\n",
       "      <td>537632</td>\n",
       "      <td>AMAZONFEE</td>\n",
       "      <td>AMAZON FEE</td>\n",
       "      <td>1</td>\n",
       "      <td>2010-12-07 15:08:00</td>\n",
       "      <td>13541.33</td>\n",
       "      <td>NaN</td>\n",
       "      <td>United Kingdom</td>\n",
       "    </tr>\n",
       "    <tr>\n",
       "      <th>16232</th>\n",
       "      <td>C537644</td>\n",
       "      <td>AMAZONFEE</td>\n",
       "      <td>AMAZON FEE</td>\n",
       "      <td>-1</td>\n",
       "      <td>2010-12-07 15:34:00</td>\n",
       "      <td>13474.79</td>\n",
       "      <td>NaN</td>\n",
       "      <td>United Kingdom</td>\n",
       "    </tr>\n",
       "    <tr>\n",
       "      <th>16313</th>\n",
       "      <td>C537647</td>\n",
       "      <td>AMAZONFEE</td>\n",
       "      <td>AMAZON FEE</td>\n",
       "      <td>-1</td>\n",
       "      <td>2010-12-07 15:41:00</td>\n",
       "      <td>5519.25</td>\n",
       "      <td>NaN</td>\n",
       "      <td>United Kingdom</td>\n",
       "    </tr>\n",
       "    <tr>\n",
       "      <th>16356</th>\n",
       "      <td>C537651</td>\n",
       "      <td>AMAZONFEE</td>\n",
       "      <td>AMAZON FEE</td>\n",
       "      <td>-1</td>\n",
       "      <td>2010-12-07 15:49:00</td>\n",
       "      <td>13541.33</td>\n",
       "      <td>NaN</td>\n",
       "      <td>United Kingdom</td>\n",
       "    </tr>\n",
       "    <tr>\n",
       "      <th>16357</th>\n",
       "      <td>C537652</td>\n",
       "      <td>AMAZONFEE</td>\n",
       "      <td>AMAZON FEE</td>\n",
       "      <td>-1</td>\n",
       "      <td>2010-12-07 15:51:00</td>\n",
       "      <td>6706.71</td>\n",
       "      <td>NaN</td>\n",
       "      <td>United Kingdom</td>\n",
       "    </tr>\n",
       "    <tr>\n",
       "      <th>43702</th>\n",
       "      <td>C540117</td>\n",
       "      <td>AMAZONFEE</td>\n",
       "      <td>AMAZON FEE</td>\n",
       "      <td>-1</td>\n",
       "      <td>2011-01-05 09:55:00</td>\n",
       "      <td>16888.02</td>\n",
       "      <td>NaN</td>\n",
       "      <td>United Kingdom</td>\n",
       "    </tr>\n",
       "    <tr>\n",
       "      <th>43703</th>\n",
       "      <td>C540118</td>\n",
       "      <td>AMAZONFEE</td>\n",
       "      <td>AMAZON FEE</td>\n",
       "      <td>-1</td>\n",
       "      <td>2011-01-05 09:57:00</td>\n",
       "      <td>16453.71</td>\n",
       "      <td>NaN</td>\n",
       "      <td>United Kingdom</td>\n",
       "    </tr>\n",
       "    <tr>\n",
       "      <th>96844</th>\n",
       "      <td>C544587</td>\n",
       "      <td>AMAZONFEE</td>\n",
       "      <td>AMAZON FEE</td>\n",
       "      <td>-1</td>\n",
       "      <td>2011-02-21 15:07:00</td>\n",
       "      <td>5575.28</td>\n",
       "      <td>NaN</td>\n",
       "      <td>United Kingdom</td>\n",
       "    </tr>\n",
       "    <tr>\n",
       "      <th>96845</th>\n",
       "      <td>C544589</td>\n",
       "      <td>AMAZONFEE</td>\n",
       "      <td>AMAZON FEE</td>\n",
       "      <td>-1</td>\n",
       "      <td>2011-02-21 15:11:00</td>\n",
       "      <td>5258.77</td>\n",
       "      <td>NaN</td>\n",
       "      <td>United Kingdom</td>\n",
       "    </tr>\n",
       "    <tr>\n",
       "      <th>124741</th>\n",
       "      <td>C546987</td>\n",
       "      <td>AMAZONFEE</td>\n",
       "      <td>AMAZON FEE</td>\n",
       "      <td>-1</td>\n",
       "      <td>2011-03-18 12:56:00</td>\n",
       "      <td>5693.05</td>\n",
       "      <td>NaN</td>\n",
       "      <td>United Kingdom</td>\n",
       "    </tr>\n",
       "    <tr>\n",
       "      <th>124787</th>\n",
       "      <td>C546989</td>\n",
       "      <td>AMAZONFEE</td>\n",
       "      <td>AMAZON FEE</td>\n",
       "      <td>-1</td>\n",
       "      <td>2011-03-18 12:59:00</td>\n",
       "      <td>5225.03</td>\n",
       "      <td>NaN</td>\n",
       "      <td>United Kingdom</td>\n",
       "    </tr>\n",
       "    <tr>\n",
       "      <th>173277</th>\n",
       "      <td>C551685</td>\n",
       "      <td>POST</td>\n",
       "      <td>POSTAGE</td>\n",
       "      <td>-1</td>\n",
       "      <td>2011-05-03 12:51:00</td>\n",
       "      <td>8142.75</td>\n",
       "      <td>16029</td>\n",
       "      <td>United Kingdom</td>\n",
       "    </tr>\n",
       "    <tr>\n",
       "      <th>173382</th>\n",
       "      <td>551697</td>\n",
       "      <td>POST</td>\n",
       "      <td>POSTAGE</td>\n",
       "      <td>1</td>\n",
       "      <td>2011-05-03 13:46:00</td>\n",
       "      <td>8142.75</td>\n",
       "      <td>16029</td>\n",
       "      <td>United Kingdom</td>\n",
       "    </tr>\n",
       "    <tr>\n",
       "      <th>173391</th>\n",
       "      <td>C551699</td>\n",
       "      <td>M</td>\n",
       "      <td>Manual</td>\n",
       "      <td>-1</td>\n",
       "      <td>2011-05-03 14:12:00</td>\n",
       "      <td>6930.00</td>\n",
       "      <td>16029</td>\n",
       "      <td>United Kingdom</td>\n",
       "    </tr>\n",
       "    <tr>\n",
       "      <th>191385</th>\n",
       "      <td>C553354</td>\n",
       "      <td>AMAZONFEE</td>\n",
       "      <td>AMAZON FEE</td>\n",
       "      <td>-1</td>\n",
       "      <td>2011-05-16 13:54:00</td>\n",
       "      <td>5876.40</td>\n",
       "      <td>NaN</td>\n",
       "      <td>United Kingdom</td>\n",
       "    </tr>\n",
       "    <tr>\n",
       "      <th>191386</th>\n",
       "      <td>C553355</td>\n",
       "      <td>AMAZONFEE</td>\n",
       "      <td>AMAZON FEE</td>\n",
       "      <td>-1</td>\n",
       "      <td>2011-05-16 13:58:00</td>\n",
       "      <td>7006.83</td>\n",
       "      <td>NaN</td>\n",
       "      <td>United Kingdom</td>\n",
       "    </tr>\n",
       "    <tr>\n",
       "      <th>222681</th>\n",
       "      <td>C556445</td>\n",
       "      <td>M</td>\n",
       "      <td>Manual</td>\n",
       "      <td>-1</td>\n",
       "      <td>2011-06-10 15:31:00</td>\n",
       "      <td>38970.00</td>\n",
       "      <td>15098</td>\n",
       "      <td>United Kingdom</td>\n",
       "    </tr>\n",
       "    <tr>\n",
       "      <th>239250</th>\n",
       "      <td>C558036</td>\n",
       "      <td>AMAZONFEE</td>\n",
       "      <td>AMAZON FEE</td>\n",
       "      <td>-1</td>\n",
       "      <td>2011-06-24 12:31:00</td>\n",
       "      <td>5791.18</td>\n",
       "      <td>NaN</td>\n",
       "      <td>United Kingdom</td>\n",
       "    </tr>\n",
       "    <tr>\n",
       "      <th>239251</th>\n",
       "      <td>C558037</td>\n",
       "      <td>AMAZONFEE</td>\n",
       "      <td>AMAZON FEE</td>\n",
       "      <td>-1</td>\n",
       "      <td>2011-06-24 12:33:00</td>\n",
       "      <td>4534.24</td>\n",
       "      <td>NaN</td>\n",
       "      <td>United Kingdom</td>\n",
       "    </tr>\n",
       "    <tr>\n",
       "      <th>262413</th>\n",
       "      <td>C559915</td>\n",
       "      <td>AMAZONFEE</td>\n",
       "      <td>AMAZON FEE</td>\n",
       "      <td>-1</td>\n",
       "      <td>2011-07-13 15:18:00</td>\n",
       "      <td>4383.62</td>\n",
       "      <td>NaN</td>\n",
       "      <td>United Kingdom</td>\n",
       "    </tr>\n",
       "    <tr>\n",
       "      <th>262414</th>\n",
       "      <td>C559917</td>\n",
       "      <td>AMAZONFEE</td>\n",
       "      <td>AMAZON FEE</td>\n",
       "      <td>-1</td>\n",
       "      <td>2011-07-13 15:21:00</td>\n",
       "      <td>6497.47</td>\n",
       "      <td>NaN</td>\n",
       "      <td>United Kingdom</td>\n",
       "    </tr>\n",
       "    <tr>\n",
       "      <th>268027</th>\n",
       "      <td>C560372</td>\n",
       "      <td>M</td>\n",
       "      <td>Manual</td>\n",
       "      <td>-1</td>\n",
       "      <td>2011-07-18 12:26:00</td>\n",
       "      <td>4287.63</td>\n",
       "      <td>17448</td>\n",
       "      <td>United Kingdom</td>\n",
       "    </tr>\n",
       "    <tr>\n",
       "      <th>268028</th>\n",
       "      <td>560373</td>\n",
       "      <td>M</td>\n",
       "      <td>Manual</td>\n",
       "      <td>1</td>\n",
       "      <td>2011-07-18 12:30:00</td>\n",
       "      <td>4287.63</td>\n",
       "      <td>NaN</td>\n",
       "      <td>United Kingdom</td>\n",
       "    </tr>\n",
       "    <tr>\n",
       "      <th>271151</th>\n",
       "      <td>C560647</td>\n",
       "      <td>M</td>\n",
       "      <td>Manual</td>\n",
       "      <td>-1</td>\n",
       "      <td>2011-07-20 11:31:00</td>\n",
       "      <td>3060.60</td>\n",
       "      <td>18102</td>\n",
       "      <td>United Kingdom</td>\n",
       "    </tr>\n",
       "    <tr>\n",
       "      <th>287103</th>\n",
       "      <td>C562062</td>\n",
       "      <td>AMAZONFEE</td>\n",
       "      <td>AMAZON FEE</td>\n",
       "      <td>-1</td>\n",
       "      <td>2011-08-02 12:17:00</td>\n",
       "      <td>4575.64</td>\n",
       "      <td>NaN</td>\n",
       "      <td>United Kingdom</td>\n",
       "    </tr>\n",
       "    <tr>\n",
       "      <th>287150</th>\n",
       "      <td>C562086</td>\n",
       "      <td>AMAZONFEE</td>\n",
       "      <td>AMAZON FEE</td>\n",
       "      <td>-1</td>\n",
       "      <td>2011-08-02 12:27:00</td>\n",
       "      <td>6721.37</td>\n",
       "      <td>NaN</td>\n",
       "      <td>United Kingdom</td>\n",
       "    </tr>\n",
       "    <tr>\n",
       "      <th>293842</th>\n",
       "      <td>C562647</td>\n",
       "      <td>M</td>\n",
       "      <td>Manual</td>\n",
       "      <td>-1</td>\n",
       "      <td>2011-08-08 12:56:00</td>\n",
       "      <td>3155.95</td>\n",
       "      <td>15502</td>\n",
       "      <td>United Kingdom</td>\n",
       "    </tr>\n",
       "    <tr>\n",
       "      <th>297723</th>\n",
       "      <td>562955</td>\n",
       "      <td>DOT</td>\n",
       "      <td>DOTCOM POSTAGE</td>\n",
       "      <td>1</td>\n",
       "      <td>2011-08-11 10:14:00</td>\n",
       "      <td>4505.17</td>\n",
       "      <td>NaN</td>\n",
       "      <td>United Kingdom</td>\n",
       "    </tr>\n",
       "    <tr>\n",
       "      <th>299982</th>\n",
       "      <td>A563185</td>\n",
       "      <td>B</td>\n",
       "      <td>Adjust bad debt</td>\n",
       "      <td>1</td>\n",
       "      <td>2011-08-12 14:50:00</td>\n",
       "      <td>11062.06</td>\n",
       "      <td>NaN</td>\n",
       "      <td>United Kingdom</td>\n",
       "    </tr>\n",
       "    <tr>\n",
       "      <th>299983</th>\n",
       "      <td>A563186</td>\n",
       "      <td>B</td>\n",
       "      <td>Adjust bad debt</td>\n",
       "      <td>1</td>\n",
       "      <td>2011-08-12 14:51:00</td>\n",
       "      <td>-11062.06</td>\n",
       "      <td>NaN</td>\n",
       "      <td>United Kingdom</td>\n",
       "    </tr>\n",
       "    <tr>\n",
       "      <th>299984</th>\n",
       "      <td>A563187</td>\n",
       "      <td>B</td>\n",
       "      <td>Adjust bad debt</td>\n",
       "      <td>1</td>\n",
       "      <td>2011-08-12 14:52:00</td>\n",
       "      <td>-11062.06</td>\n",
       "      <td>NaN</td>\n",
       "      <td>United Kingdom</td>\n",
       "    </tr>\n",
       "    <tr>\n",
       "      <th>312092</th>\n",
       "      <td>C564340</td>\n",
       "      <td>AMAZONFEE</td>\n",
       "      <td>AMAZON FEE</td>\n",
       "      <td>-1</td>\n",
       "      <td>2011-08-24 14:50:00</td>\n",
       "      <td>4527.65</td>\n",
       "      <td>NaN</td>\n",
       "      <td>United Kingdom</td>\n",
       "    </tr>\n",
       "    <tr>\n",
       "      <th>312246</th>\n",
       "      <td>C564341</td>\n",
       "      <td>AMAZONFEE</td>\n",
       "      <td>AMAZON FEE</td>\n",
       "      <td>-1</td>\n",
       "      <td>2011-08-24 14:53:00</td>\n",
       "      <td>6662.51</td>\n",
       "      <td>NaN</td>\n",
       "      <td>United Kingdom</td>\n",
       "    </tr>\n",
       "    <tr>\n",
       "      <th>342611</th>\n",
       "      <td>C566889</td>\n",
       "      <td>AMAZONFEE</td>\n",
       "      <td>AMAZON FEE</td>\n",
       "      <td>-1</td>\n",
       "      <td>2011-09-15 13:50:00</td>\n",
       "      <td>5522.14</td>\n",
       "      <td>NaN</td>\n",
       "      <td>United Kingdom</td>\n",
       "    </tr>\n",
       "    <tr>\n",
       "      <th>342635</th>\n",
       "      <td>C566899</td>\n",
       "      <td>AMAZONFEE</td>\n",
       "      <td>AMAZON FEE</td>\n",
       "      <td>-1</td>\n",
       "      <td>2011-09-15 13:53:00</td>\n",
       "      <td>7427.97</td>\n",
       "      <td>NaN</td>\n",
       "      <td>United Kingdom</td>\n",
       "    </tr>\n",
       "    <tr>\n",
       "      <th>374542</th>\n",
       "      <td>569382</td>\n",
       "      <td>M</td>\n",
       "      <td>Manual</td>\n",
       "      <td>1</td>\n",
       "      <td>2011-10-03 16:44:00</td>\n",
       "      <td>3155.95</td>\n",
       "      <td>15502</td>\n",
       "      <td>United Kingdom</td>\n",
       "    </tr>\n",
       "    <tr>\n",
       "      <th>383495</th>\n",
       "      <td>C570025</td>\n",
       "      <td>AMAZONFEE</td>\n",
       "      <td>AMAZON FEE</td>\n",
       "      <td>-1</td>\n",
       "      <td>2011-10-07 10:29:00</td>\n",
       "      <td>5942.57</td>\n",
       "      <td>NaN</td>\n",
       "      <td>United Kingdom</td>\n",
       "    </tr>\n",
       "    <tr>\n",
       "      <th>406404</th>\n",
       "      <td>C571750</td>\n",
       "      <td>M</td>\n",
       "      <td>Manual</td>\n",
       "      <td>-1</td>\n",
       "      <td>2011-10-19 11:16:00</td>\n",
       "      <td>3949.32</td>\n",
       "      <td>12744</td>\n",
       "      <td>Singapore</td>\n",
       "    </tr>\n",
       "    <tr>\n",
       "      <th>406406</th>\n",
       "      <td>571751</td>\n",
       "      <td>M</td>\n",
       "      <td>Manual</td>\n",
       "      <td>1</td>\n",
       "      <td>2011-10-19 11:18:00</td>\n",
       "      <td>3949.32</td>\n",
       "      <td>12744</td>\n",
       "      <td>Singapore</td>\n",
       "    </tr>\n",
       "    <tr>\n",
       "      <th>422351</th>\n",
       "      <td>573077</td>\n",
       "      <td>M</td>\n",
       "      <td>Manual</td>\n",
       "      <td>1</td>\n",
       "      <td>2011-10-27 14:13:00</td>\n",
       "      <td>4161.06</td>\n",
       "      <td>12536</td>\n",
       "      <td>France</td>\n",
       "    </tr>\n",
       "    <tr>\n",
       "      <th>422375</th>\n",
       "      <td>C573079</td>\n",
       "      <td>M</td>\n",
       "      <td>Manual</td>\n",
       "      <td>-2</td>\n",
       "      <td>2011-10-27 14:15:00</td>\n",
       "      <td>4161.06</td>\n",
       "      <td>12536</td>\n",
       "      <td>France</td>\n",
       "    </tr>\n",
       "    <tr>\n",
       "      <th>422376</th>\n",
       "      <td>573080</td>\n",
       "      <td>M</td>\n",
       "      <td>Manual</td>\n",
       "      <td>1</td>\n",
       "      <td>2011-10-27 14:20:00</td>\n",
       "      <td>4161.06</td>\n",
       "      <td>12536</td>\n",
       "      <td>France</td>\n",
       "    </tr>\n",
       "    <tr>\n",
       "      <th>429248</th>\n",
       "      <td>C573549</td>\n",
       "      <td>AMAZONFEE</td>\n",
       "      <td>AMAZON FEE</td>\n",
       "      <td>-1</td>\n",
       "      <td>2011-10-31 13:23:00</td>\n",
       "      <td>5942.57</td>\n",
       "      <td>NaN</td>\n",
       "      <td>United Kingdom</td>\n",
       "    </tr>\n",
       "    <tr>\n",
       "      <th>446434</th>\n",
       "      <td>C574897</td>\n",
       "      <td>AMAZONFEE</td>\n",
       "      <td>AMAZON FEE</td>\n",
       "      <td>-1</td>\n",
       "      <td>2011-11-07 15:03:00</td>\n",
       "      <td>5877.18</td>\n",
       "      <td>NaN</td>\n",
       "      <td>United Kingdom</td>\n",
       "    </tr>\n",
       "    <tr>\n",
       "      <th>446533</th>\n",
       "      <td>C574902</td>\n",
       "      <td>AMAZONFEE</td>\n",
       "      <td>AMAZON FEE</td>\n",
       "      <td>-1</td>\n",
       "      <td>2011-11-07 15:21:00</td>\n",
       "      <td>8286.22</td>\n",
       "      <td>NaN</td>\n",
       "      <td>United Kingdom</td>\n",
       "    </tr>\n",
       "    <tr>\n",
       "      <th>524601</th>\n",
       "      <td>C580604</td>\n",
       "      <td>AMAZONFEE</td>\n",
       "      <td>AMAZON FEE</td>\n",
       "      <td>-1</td>\n",
       "      <td>2011-12-05 11:35:00</td>\n",
       "      <td>11586.50</td>\n",
       "      <td>NaN</td>\n",
       "      <td>United Kingdom</td>\n",
       "    </tr>\n",
       "    <tr>\n",
       "      <th>524602</th>\n",
       "      <td>C580605</td>\n",
       "      <td>AMAZONFEE</td>\n",
       "      <td>AMAZON FEE</td>\n",
       "      <td>-1</td>\n",
       "      <td>2011-12-05 11:36:00</td>\n",
       "      <td>17836.46</td>\n",
       "      <td>NaN</td>\n",
       "      <td>United Kingdom</td>\n",
       "    </tr>\n",
       "  </tbody>\n",
       "</table>\n",
       "</div>"
      ],
      "text/plain": [
       "       InvoiceNo  StockCode      Description  Quantity         InvoiceDate  \\\n",
       "15016    C537630  AMAZONFEE       AMAZON FEE        -1 2010-12-07 15:04:00   \n",
       "15017     537632  AMAZONFEE       AMAZON FEE         1 2010-12-07 15:08:00   \n",
       "16232    C537644  AMAZONFEE       AMAZON FEE        -1 2010-12-07 15:34:00   \n",
       "16313    C537647  AMAZONFEE       AMAZON FEE        -1 2010-12-07 15:41:00   \n",
       "16356    C537651  AMAZONFEE       AMAZON FEE        -1 2010-12-07 15:49:00   \n",
       "16357    C537652  AMAZONFEE       AMAZON FEE        -1 2010-12-07 15:51:00   \n",
       "43702    C540117  AMAZONFEE       AMAZON FEE        -1 2011-01-05 09:55:00   \n",
       "43703    C540118  AMAZONFEE       AMAZON FEE        -1 2011-01-05 09:57:00   \n",
       "96844    C544587  AMAZONFEE       AMAZON FEE        -1 2011-02-21 15:07:00   \n",
       "96845    C544589  AMAZONFEE       AMAZON FEE        -1 2011-02-21 15:11:00   \n",
       "124741   C546987  AMAZONFEE       AMAZON FEE        -1 2011-03-18 12:56:00   \n",
       "124787   C546989  AMAZONFEE       AMAZON FEE        -1 2011-03-18 12:59:00   \n",
       "173277   C551685       POST          POSTAGE        -1 2011-05-03 12:51:00   \n",
       "173382    551697       POST          POSTAGE         1 2011-05-03 13:46:00   \n",
       "173391   C551699          M           Manual        -1 2011-05-03 14:12:00   \n",
       "191385   C553354  AMAZONFEE       AMAZON FEE        -1 2011-05-16 13:54:00   \n",
       "191386   C553355  AMAZONFEE       AMAZON FEE        -1 2011-05-16 13:58:00   \n",
       "222681   C556445          M           Manual        -1 2011-06-10 15:31:00   \n",
       "239250   C558036  AMAZONFEE       AMAZON FEE        -1 2011-06-24 12:31:00   \n",
       "239251   C558037  AMAZONFEE       AMAZON FEE        -1 2011-06-24 12:33:00   \n",
       "262413   C559915  AMAZONFEE       AMAZON FEE        -1 2011-07-13 15:18:00   \n",
       "262414   C559917  AMAZONFEE       AMAZON FEE        -1 2011-07-13 15:21:00   \n",
       "268027   C560372          M           Manual        -1 2011-07-18 12:26:00   \n",
       "268028    560373          M           Manual         1 2011-07-18 12:30:00   \n",
       "271151   C560647          M           Manual        -1 2011-07-20 11:31:00   \n",
       "287103   C562062  AMAZONFEE       AMAZON FEE        -1 2011-08-02 12:17:00   \n",
       "287150   C562086  AMAZONFEE       AMAZON FEE        -1 2011-08-02 12:27:00   \n",
       "293842   C562647          M           Manual        -1 2011-08-08 12:56:00   \n",
       "297723    562955        DOT   DOTCOM POSTAGE         1 2011-08-11 10:14:00   \n",
       "299982   A563185          B  Adjust bad debt         1 2011-08-12 14:50:00   \n",
       "299983   A563186          B  Adjust bad debt         1 2011-08-12 14:51:00   \n",
       "299984   A563187          B  Adjust bad debt         1 2011-08-12 14:52:00   \n",
       "312092   C564340  AMAZONFEE       AMAZON FEE        -1 2011-08-24 14:50:00   \n",
       "312246   C564341  AMAZONFEE       AMAZON FEE        -1 2011-08-24 14:53:00   \n",
       "342611   C566889  AMAZONFEE       AMAZON FEE        -1 2011-09-15 13:50:00   \n",
       "342635   C566899  AMAZONFEE       AMAZON FEE        -1 2011-09-15 13:53:00   \n",
       "374542    569382          M           Manual         1 2011-10-03 16:44:00   \n",
       "383495   C570025  AMAZONFEE       AMAZON FEE        -1 2011-10-07 10:29:00   \n",
       "406404   C571750          M           Manual        -1 2011-10-19 11:16:00   \n",
       "406406    571751          M           Manual         1 2011-10-19 11:18:00   \n",
       "422351    573077          M           Manual         1 2011-10-27 14:13:00   \n",
       "422375   C573079          M           Manual        -2 2011-10-27 14:15:00   \n",
       "422376    573080          M           Manual         1 2011-10-27 14:20:00   \n",
       "429248   C573549  AMAZONFEE       AMAZON FEE        -1 2011-10-31 13:23:00   \n",
       "446434   C574897  AMAZONFEE       AMAZON FEE        -1 2011-11-07 15:03:00   \n",
       "446533   C574902  AMAZONFEE       AMAZON FEE        -1 2011-11-07 15:21:00   \n",
       "524601   C580604  AMAZONFEE       AMAZON FEE        -1 2011-12-05 11:35:00   \n",
       "524602   C580605  AMAZONFEE       AMAZON FEE        -1 2011-12-05 11:36:00   \n",
       "\n",
       "        UnitPrice CustomerID         Country  \n",
       "15016    13541.33        NaN  United Kingdom  \n",
       "15017    13541.33        NaN  United Kingdom  \n",
       "16232    13474.79        NaN  United Kingdom  \n",
       "16313     5519.25        NaN  United Kingdom  \n",
       "16356    13541.33        NaN  United Kingdom  \n",
       "16357     6706.71        NaN  United Kingdom  \n",
       "43702    16888.02        NaN  United Kingdom  \n",
       "43703    16453.71        NaN  United Kingdom  \n",
       "96844     5575.28        NaN  United Kingdom  \n",
       "96845     5258.77        NaN  United Kingdom  \n",
       "124741    5693.05        NaN  United Kingdom  \n",
       "124787    5225.03        NaN  United Kingdom  \n",
       "173277    8142.75      16029  United Kingdom  \n",
       "173382    8142.75      16029  United Kingdom  \n",
       "173391    6930.00      16029  United Kingdom  \n",
       "191385    5876.40        NaN  United Kingdom  \n",
       "191386    7006.83        NaN  United Kingdom  \n",
       "222681   38970.00      15098  United Kingdom  \n",
       "239250    5791.18        NaN  United Kingdom  \n",
       "239251    4534.24        NaN  United Kingdom  \n",
       "262413    4383.62        NaN  United Kingdom  \n",
       "262414    6497.47        NaN  United Kingdom  \n",
       "268027    4287.63      17448  United Kingdom  \n",
       "268028    4287.63        NaN  United Kingdom  \n",
       "271151    3060.60      18102  United Kingdom  \n",
       "287103    4575.64        NaN  United Kingdom  \n",
       "287150    6721.37        NaN  United Kingdom  \n",
       "293842    3155.95      15502  United Kingdom  \n",
       "297723    4505.17        NaN  United Kingdom  \n",
       "299982   11062.06        NaN  United Kingdom  \n",
       "299983  -11062.06        NaN  United Kingdom  \n",
       "299984  -11062.06        NaN  United Kingdom  \n",
       "312092    4527.65        NaN  United Kingdom  \n",
       "312246    6662.51        NaN  United Kingdom  \n",
       "342611    5522.14        NaN  United Kingdom  \n",
       "342635    7427.97        NaN  United Kingdom  \n",
       "374542    3155.95      15502  United Kingdom  \n",
       "383495    5942.57        NaN  United Kingdom  \n",
       "406404    3949.32      12744       Singapore  \n",
       "406406    3949.32      12744       Singapore  \n",
       "422351    4161.06      12536          France  \n",
       "422375    4161.06      12536          France  \n",
       "422376    4161.06      12536          France  \n",
       "429248    5942.57        NaN  United Kingdom  \n",
       "446434    5877.18        NaN  United Kingdom  \n",
       "446533    8286.22        NaN  United Kingdom  \n",
       "524601   11586.50        NaN  United Kingdom  \n",
       "524602   17836.46        NaN  United Kingdom  "
      ]
     },
     "execution_count": 15,
     "metadata": {},
     "output_type": "execute_result"
    }
   ],
   "source": [
    "retail[abs(retail['UnitPrice']) > 3000]"
   ]
  },
  {
   "cell_type": "code",
   "execution_count": 16,
   "metadata": {},
   "outputs": [
    {
     "data": {
      "text/html": [
       "<div>\n",
       "<style scoped>\n",
       "    .dataframe tbody tr th:only-of-type {\n",
       "        vertical-align: middle;\n",
       "    }\n",
       "\n",
       "    .dataframe tbody tr th {\n",
       "        vertical-align: top;\n",
       "    }\n",
       "\n",
       "    .dataframe thead th {\n",
       "        text-align: right;\n",
       "    }\n",
       "</style>\n",
       "<table border=\"1\" class=\"dataframe\">\n",
       "  <thead>\n",
       "    <tr style=\"text-align: right;\">\n",
       "      <th></th>\n",
       "      <th>InvoiceNo</th>\n",
       "      <th>StockCode</th>\n",
       "      <th>Description</th>\n",
       "      <th>Quantity</th>\n",
       "      <th>InvoiceDate</th>\n",
       "      <th>UnitPrice</th>\n",
       "      <th>CustomerID</th>\n",
       "      <th>Country</th>\n",
       "    </tr>\n",
       "  </thead>\n",
       "  <tbody>\n",
       "    <tr>\n",
       "      <th>622</th>\n",
       "      <td>536414</td>\n",
       "      <td>22139</td>\n",
       "      <td>NaN</td>\n",
       "      <td>56</td>\n",
       "      <td>2010-12-01 11:52:00</td>\n",
       "      <td>0.0</td>\n",
       "      <td>NaN</td>\n",
       "      <td>United Kingdom</td>\n",
       "    </tr>\n",
       "    <tr>\n",
       "      <th>1970</th>\n",
       "      <td>536545</td>\n",
       "      <td>21134</td>\n",
       "      <td>NaN</td>\n",
       "      <td>1</td>\n",
       "      <td>2010-12-01 14:32:00</td>\n",
       "      <td>0.0</td>\n",
       "      <td>NaN</td>\n",
       "      <td>United Kingdom</td>\n",
       "    </tr>\n",
       "    <tr>\n",
       "      <th>1971</th>\n",
       "      <td>536546</td>\n",
       "      <td>22145</td>\n",
       "      <td>NaN</td>\n",
       "      <td>1</td>\n",
       "      <td>2010-12-01 14:33:00</td>\n",
       "      <td>0.0</td>\n",
       "      <td>NaN</td>\n",
       "      <td>United Kingdom</td>\n",
       "    </tr>\n",
       "    <tr>\n",
       "      <th>1972</th>\n",
       "      <td>536547</td>\n",
       "      <td>37509</td>\n",
       "      <td>NaN</td>\n",
       "      <td>1</td>\n",
       "      <td>2010-12-01 14:33:00</td>\n",
       "      <td>0.0</td>\n",
       "      <td>NaN</td>\n",
       "      <td>United Kingdom</td>\n",
       "    </tr>\n",
       "    <tr>\n",
       "      <th>1987</th>\n",
       "      <td>536549</td>\n",
       "      <td>85226A</td>\n",
       "      <td>NaN</td>\n",
       "      <td>1</td>\n",
       "      <td>2010-12-01 14:34:00</td>\n",
       "      <td>0.0</td>\n",
       "      <td>NaN</td>\n",
       "      <td>United Kingdom</td>\n",
       "    </tr>\n",
       "    <tr>\n",
       "      <th>...</th>\n",
       "      <td>...</td>\n",
       "      <td>...</td>\n",
       "      <td>...</td>\n",
       "      <td>...</td>\n",
       "      <td>...</td>\n",
       "      <td>...</td>\n",
       "      <td>...</td>\n",
       "      <td>...</td>\n",
       "    </tr>\n",
       "    <tr>\n",
       "      <th>536981</th>\n",
       "      <td>581234</td>\n",
       "      <td>72817</td>\n",
       "      <td>NaN</td>\n",
       "      <td>27</td>\n",
       "      <td>2011-12-08 10:33:00</td>\n",
       "      <td>0.0</td>\n",
       "      <td>NaN</td>\n",
       "      <td>United Kingdom</td>\n",
       "    </tr>\n",
       "    <tr>\n",
       "      <th>538504</th>\n",
       "      <td>581406</td>\n",
       "      <td>46000M</td>\n",
       "      <td>POLYESTER FILLER PAD 45x45cm</td>\n",
       "      <td>240</td>\n",
       "      <td>2011-12-08 13:58:00</td>\n",
       "      <td>0.0</td>\n",
       "      <td>NaN</td>\n",
       "      <td>United Kingdom</td>\n",
       "    </tr>\n",
       "    <tr>\n",
       "      <th>538505</th>\n",
       "      <td>581406</td>\n",
       "      <td>46000S</td>\n",
       "      <td>POLYESTER FILLER PAD 40x40cm</td>\n",
       "      <td>300</td>\n",
       "      <td>2011-12-08 13:58:00</td>\n",
       "      <td>0.0</td>\n",
       "      <td>NaN</td>\n",
       "      <td>United Kingdom</td>\n",
       "    </tr>\n",
       "    <tr>\n",
       "      <th>538554</th>\n",
       "      <td>581408</td>\n",
       "      <td>85175</td>\n",
       "      <td>NaN</td>\n",
       "      <td>20</td>\n",
       "      <td>2011-12-08 14:06:00</td>\n",
       "      <td>0.0</td>\n",
       "      <td>NaN</td>\n",
       "      <td>United Kingdom</td>\n",
       "    </tr>\n",
       "    <tr>\n",
       "      <th>538919</th>\n",
       "      <td>581422</td>\n",
       "      <td>23169</td>\n",
       "      <td>smashed</td>\n",
       "      <td>-235</td>\n",
       "      <td>2011-12-08 15:24:00</td>\n",
       "      <td>0.0</td>\n",
       "      <td>NaN</td>\n",
       "      <td>United Kingdom</td>\n",
       "    </tr>\n",
       "  </tbody>\n",
       "</table>\n",
       "<p>2515 rows × 8 columns</p>\n",
       "</div>"
      ],
      "text/plain": [
       "       InvoiceNo StockCode                   Description  Quantity  \\\n",
       "622       536414     22139                           NaN        56   \n",
       "1970      536545     21134                           NaN         1   \n",
       "1971      536546     22145                           NaN         1   \n",
       "1972      536547     37509                           NaN         1   \n",
       "1987      536549    85226A                           NaN         1   \n",
       "...          ...       ...                           ...       ...   \n",
       "536981    581234     72817                           NaN        27   \n",
       "538504    581406    46000M  POLYESTER FILLER PAD 45x45cm       240   \n",
       "538505    581406    46000S  POLYESTER FILLER PAD 40x40cm       300   \n",
       "538554    581408     85175                           NaN        20   \n",
       "538919    581422     23169                       smashed      -235   \n",
       "\n",
       "               InvoiceDate  UnitPrice CustomerID         Country  \n",
       "622    2010-12-01 11:52:00        0.0        NaN  United Kingdom  \n",
       "1970   2010-12-01 14:32:00        0.0        NaN  United Kingdom  \n",
       "1971   2010-12-01 14:33:00        0.0        NaN  United Kingdom  \n",
       "1972   2010-12-01 14:33:00        0.0        NaN  United Kingdom  \n",
       "1987   2010-12-01 14:34:00        0.0        NaN  United Kingdom  \n",
       "...                    ...        ...        ...             ...  \n",
       "536981 2011-12-08 10:33:00        0.0        NaN  United Kingdom  \n",
       "538504 2011-12-08 13:58:00        0.0        NaN  United Kingdom  \n",
       "538505 2011-12-08 13:58:00        0.0        NaN  United Kingdom  \n",
       "538554 2011-12-08 14:06:00        0.0        NaN  United Kingdom  \n",
       "538919 2011-12-08 15:24:00        0.0        NaN  United Kingdom  \n",
       "\n",
       "[2515 rows x 8 columns]"
      ]
     },
     "execution_count": 16,
     "metadata": {},
     "output_type": "execute_result"
    }
   ],
   "source": [
    "retail[retail['UnitPrice']==0]"
   ]
  },
  {
   "cell_type": "markdown",
   "metadata": {},
   "source": [
    "### Quantity"
   ]
  },
  {
   "cell_type": "code",
   "execution_count": 17,
   "metadata": {},
   "outputs": [
    {
     "data": {
      "text/plain": [
       "<matplotlib.axes._subplots.AxesSubplot at 0x1d998622190>"
      ]
     },
     "execution_count": 17,
     "metadata": {},
     "output_type": "execute_result"
    },
    {
     "data": {
      "image/png": "[encoded data removed]",
      "text/plain": [
       "<Figure size 432x288 with 1 Axes>"
      ]
     },
     "metadata": {
      "needs_background": "light"
     },
     "output_type": "display_data"
    }
   ],
   "source": [
    "sns.boxplot(x = retail['Quantity'])"
   ]
  },
  {
   "cell_type": "code",
   "execution_count": 18,
   "metadata": {},
   "outputs": [
    {
     "data": {
      "text/html": [
       "<div>\n",
       "<style scoped>\n",
       "    .dataframe tbody tr th:only-of-type {\n",
       "        vertical-align: middle;\n",
       "    }\n",
       "\n",
       "    .dataframe tbody tr th {\n",
       "        vertical-align: top;\n",
       "    }\n",
       "\n",
       "    .dataframe thead th {\n",
       "        text-align: right;\n",
       "    }\n",
       "</style>\n",
       "<table border=\"1\" class=\"dataframe\">\n",
       "  <thead>\n",
       "    <tr style=\"text-align: right;\">\n",
       "      <th></th>\n",
       "      <th>InvoiceNo</th>\n",
       "      <th>StockCode</th>\n",
       "      <th>Description</th>\n",
       "      <th>Quantity</th>\n",
       "      <th>InvoiceDate</th>\n",
       "      <th>UnitPrice</th>\n",
       "      <th>CustomerID</th>\n",
       "      <th>Country</th>\n",
       "    </tr>\n",
       "  </thead>\n",
       "  <tbody>\n",
       "    <tr>\n",
       "      <th>4287</th>\n",
       "      <td>C536757</td>\n",
       "      <td>84347</td>\n",
       "      <td>ROTATING SILVER ANGELS T-LIGHT HLDR</td>\n",
       "      <td>-9360</td>\n",
       "      <td>2010-12-02 14:23:00</td>\n",
       "      <td>0.03</td>\n",
       "      <td>15838</td>\n",
       "      <td>United Kingdom</td>\n",
       "    </tr>\n",
       "    <tr>\n",
       "      <th>4945</th>\n",
       "      <td>536830</td>\n",
       "      <td>84077</td>\n",
       "      <td>WORLD WAR 2 GLIDERS ASSTD DESIGNS</td>\n",
       "      <td>2880</td>\n",
       "      <td>2010-12-02 17:38:00</td>\n",
       "      <td>0.18</td>\n",
       "      <td>16754</td>\n",
       "      <td>United Kingdom</td>\n",
       "    </tr>\n",
       "    <tr>\n",
       "      <th>32671</th>\n",
       "      <td>539101</td>\n",
       "      <td>22693</td>\n",
       "      <td>GROW A FLYTRAP OR SUNFLOWER IN TIN</td>\n",
       "      <td>2400</td>\n",
       "      <td>2010-12-16 10:35:00</td>\n",
       "      <td>0.94</td>\n",
       "      <td>16029</td>\n",
       "      <td>United Kingdom</td>\n",
       "    </tr>\n",
       "    <tr>\n",
       "      <th>50849</th>\n",
       "      <td>540564</td>\n",
       "      <td>22617</td>\n",
       "      <td>mouldy, thrown away.</td>\n",
       "      <td>-2600</td>\n",
       "      <td>2011-01-10 10:36:00</td>\n",
       "      <td>0.00</td>\n",
       "      <td>NaN</td>\n",
       "      <td>United Kingdom</td>\n",
       "    </tr>\n",
       "    <tr>\n",
       "      <th>52711</th>\n",
       "      <td>540815</td>\n",
       "      <td>21108</td>\n",
       "      <td>FAIRY CAKE FLANNEL ASSORTED COLOUR</td>\n",
       "      <td>3114</td>\n",
       "      <td>2011-01-11 12:55:00</td>\n",
       "      <td>2.10</td>\n",
       "      <td>15749</td>\n",
       "      <td>United Kingdom</td>\n",
       "    </tr>\n",
       "    <tr>\n",
       "      <th>61619</th>\n",
       "      <td>541431</td>\n",
       "      <td>23166</td>\n",
       "      <td>MEDIUM CERAMIC TOP STORAGE JAR</td>\n",
       "      <td>74215</td>\n",
       "      <td>2011-01-18 10:01:00</td>\n",
       "      <td>1.04</td>\n",
       "      <td>12346</td>\n",
       "      <td>United Kingdom</td>\n",
       "    </tr>\n",
       "    <tr>\n",
       "      <th>61624</th>\n",
       "      <td>C541433</td>\n",
       "      <td>23166</td>\n",
       "      <td>MEDIUM CERAMIC TOP STORAGE JAR</td>\n",
       "      <td>-74215</td>\n",
       "      <td>2011-01-18 10:17:00</td>\n",
       "      <td>1.04</td>\n",
       "      <td>12346</td>\n",
       "      <td>United Kingdom</td>\n",
       "    </tr>\n",
       "    <tr>\n",
       "      <th>74614</th>\n",
       "      <td>542504</td>\n",
       "      <td>37413</td>\n",
       "      <td>NaN</td>\n",
       "      <td>5568</td>\n",
       "      <td>2011-01-28 12:03:00</td>\n",
       "      <td>0.00</td>\n",
       "      <td>NaN</td>\n",
       "      <td>United Kingdom</td>\n",
       "    </tr>\n",
       "    <tr>\n",
       "      <th>74615</th>\n",
       "      <td>542505</td>\n",
       "      <td>79063D</td>\n",
       "      <td>NaN</td>\n",
       "      <td>2560</td>\n",
       "      <td>2011-01-28 12:04:00</td>\n",
       "      <td>0.00</td>\n",
       "      <td>NaN</td>\n",
       "      <td>United Kingdom</td>\n",
       "    </tr>\n",
       "    <tr>\n",
       "      <th>80742</th>\n",
       "      <td>543057</td>\n",
       "      <td>84077</td>\n",
       "      <td>WORLD WAR 2 GLIDERS ASSTD DESIGNS</td>\n",
       "      <td>2592</td>\n",
       "      <td>2011-02-03 10:50:00</td>\n",
       "      <td>0.21</td>\n",
       "      <td>16333</td>\n",
       "      <td>United Kingdom</td>\n",
       "    </tr>\n",
       "    <tr>\n",
       "      <th>87631</th>\n",
       "      <td>543669</td>\n",
       "      <td>22693</td>\n",
       "      <td>GROW A FLYTRAP OR SUNFLOWER IN TIN</td>\n",
       "      <td>2400</td>\n",
       "      <td>2011-02-11 11:22:00</td>\n",
       "      <td>0.94</td>\n",
       "      <td>16029</td>\n",
       "      <td>United Kingdom</td>\n",
       "    </tr>\n",
       "    <tr>\n",
       "      <th>91772</th>\n",
       "      <td>544152</td>\n",
       "      <td>18007</td>\n",
       "      <td>ESSENTIAL BALM 3.5g TIN IN ENVELOPE</td>\n",
       "      <td>2400</td>\n",
       "      <td>2011-02-16 12:10:00</td>\n",
       "      <td>0.06</td>\n",
       "      <td>14609</td>\n",
       "      <td>United Kingdom</td>\n",
       "    </tr>\n",
       "    <tr>\n",
       "      <th>97432</th>\n",
       "      <td>544612</td>\n",
       "      <td>22053</td>\n",
       "      <td>EMPIRE DESIGN ROSETTE</td>\n",
       "      <td>3906</td>\n",
       "      <td>2011-02-22 10:43:00</td>\n",
       "      <td>0.82</td>\n",
       "      <td>18087</td>\n",
       "      <td>United Kingdom</td>\n",
       "    </tr>\n",
       "    <tr>\n",
       "      <th>113580</th>\n",
       "      <td>545990</td>\n",
       "      <td>84598</td>\n",
       "      <td>check</td>\n",
       "      <td>-3000</td>\n",
       "      <td>2011-03-08 13:07:00</td>\n",
       "      <td>0.00</td>\n",
       "      <td>NaN</td>\n",
       "      <td>United Kingdom</td>\n",
       "    </tr>\n",
       "    <tr>\n",
       "      <th>115807</th>\n",
       "      <td>546139</td>\n",
       "      <td>84988</td>\n",
       "      <td>?</td>\n",
       "      <td>3000</td>\n",
       "      <td>2011-03-09 16:35:00</td>\n",
       "      <td>0.00</td>\n",
       "      <td>NaN</td>\n",
       "      <td>United Kingdom</td>\n",
       "    </tr>\n",
       "    <tr>\n",
       "      <th>115818</th>\n",
       "      <td>546152</td>\n",
       "      <td>72140F</td>\n",
       "      <td>throw away</td>\n",
       "      <td>-5368</td>\n",
       "      <td>2011-03-09 17:25:00</td>\n",
       "      <td>0.00</td>\n",
       "      <td>NaN</td>\n",
       "      <td>United Kingdom</td>\n",
       "    </tr>\n",
       "    <tr>\n",
       "      <th>125282</th>\n",
       "      <td>547037</td>\n",
       "      <td>21967</td>\n",
       "      <td>PACK OF 12 SKULL TISSUES</td>\n",
       "      <td>2160</td>\n",
       "      <td>2011-03-20 10:37:00</td>\n",
       "      <td>0.25</td>\n",
       "      <td>14101</td>\n",
       "      <td>United Kingdom</td>\n",
       "    </tr>\n",
       "    <tr>\n",
       "      <th>131399</th>\n",
       "      <td>547560</td>\n",
       "      <td>72732</td>\n",
       "      <td>thrown away-can't sell</td>\n",
       "      <td>-2472</td>\n",
       "      <td>2011-03-23 17:28:00</td>\n",
       "      <td>0.00</td>\n",
       "      <td>NaN</td>\n",
       "      <td>United Kingdom</td>\n",
       "    </tr>\n",
       "    <tr>\n",
       "      <th>160145</th>\n",
       "      <td>C550456</td>\n",
       "      <td>21108</td>\n",
       "      <td>FAIRY CAKE FLANNEL ASSORTED COLOUR</td>\n",
       "      <td>-3114</td>\n",
       "      <td>2011-04-18 13:08:00</td>\n",
       "      <td>2.10</td>\n",
       "      <td>15749</td>\n",
       "      <td>United Kingdom</td>\n",
       "    </tr>\n",
       "    <tr>\n",
       "      <th>160546</th>\n",
       "      <td>550461</td>\n",
       "      <td>21108</td>\n",
       "      <td>FAIRY CAKE FLANNEL ASSORTED COLOUR</td>\n",
       "      <td>3114</td>\n",
       "      <td>2011-04-18 13:20:00</td>\n",
       "      <td>2.10</td>\n",
       "      <td>15749</td>\n",
       "      <td>United Kingdom</td>\n",
       "    </tr>\n",
       "    <tr>\n",
       "      <th>185113</th>\n",
       "      <td>552733</td>\n",
       "      <td>23059</td>\n",
       "      <td>Thrown away-rusty</td>\n",
       "      <td>-2376</td>\n",
       "      <td>2011-05-11 10:48:00</td>\n",
       "      <td>0.00</td>\n",
       "      <td>NaN</td>\n",
       "      <td>United Kingdom</td>\n",
       "    </tr>\n",
       "    <tr>\n",
       "      <th>201149</th>\n",
       "      <td>554272</td>\n",
       "      <td>21977</td>\n",
       "      <td>PACK OF 60 PINK PAISLEY CAKE CASES</td>\n",
       "      <td>2700</td>\n",
       "      <td>2011-05-23 13:08:00</td>\n",
       "      <td>0.42</td>\n",
       "      <td>12901</td>\n",
       "      <td>United Kingdom</td>\n",
       "    </tr>\n",
       "    <tr>\n",
       "      <th>206121</th>\n",
       "      <td>554868</td>\n",
       "      <td>22197</td>\n",
       "      <td>SMALL POPCORN HOLDER</td>\n",
       "      <td>4300</td>\n",
       "      <td>2011-05-27 10:52:00</td>\n",
       "      <td>0.72</td>\n",
       "      <td>13135</td>\n",
       "      <td>United Kingdom</td>\n",
       "    </tr>\n",
       "    <tr>\n",
       "      <th>220843</th>\n",
       "      <td>556231</td>\n",
       "      <td>85123A</td>\n",
       "      <td>?</td>\n",
       "      <td>4000</td>\n",
       "      <td>2011-06-09 15:04:00</td>\n",
       "      <td>0.00</td>\n",
       "      <td>NaN</td>\n",
       "      <td>United Kingdom</td>\n",
       "    </tr>\n",
       "    <tr>\n",
       "      <th>225528</th>\n",
       "      <td>556687</td>\n",
       "      <td>23003</td>\n",
       "      <td>Printing smudges/thrown away</td>\n",
       "      <td>-9058</td>\n",
       "      <td>2011-06-14 10:36:00</td>\n",
       "      <td>0.00</td>\n",
       "      <td>NaN</td>\n",
       "      <td>United Kingdom</td>\n",
       "    </tr>\n",
       "    <tr>\n",
       "      <th>225529</th>\n",
       "      <td>556690</td>\n",
       "      <td>23005</td>\n",
       "      <td>printing smudges/thrown away</td>\n",
       "      <td>-9600</td>\n",
       "      <td>2011-06-14 10:37:00</td>\n",
       "      <td>0.00</td>\n",
       "      <td>NaN</td>\n",
       "      <td>United Kingdom</td>\n",
       "    </tr>\n",
       "    <tr>\n",
       "      <th>225530</th>\n",
       "      <td>556691</td>\n",
       "      <td>23005</td>\n",
       "      <td>printing smudges/thrown away</td>\n",
       "      <td>-9600</td>\n",
       "      <td>2011-06-14 10:37:00</td>\n",
       "      <td>0.00</td>\n",
       "      <td>NaN</td>\n",
       "      <td>United Kingdom</td>\n",
       "    </tr>\n",
       "    <tr>\n",
       "      <th>263884</th>\n",
       "      <td>560039</td>\n",
       "      <td>20713</td>\n",
       "      <td>wrongly marked. 23343 in box</td>\n",
       "      <td>-3100</td>\n",
       "      <td>2011-07-14 14:27:00</td>\n",
       "      <td>0.00</td>\n",
       "      <td>NaN</td>\n",
       "      <td>United Kingdom</td>\n",
       "    </tr>\n",
       "    <tr>\n",
       "      <th>263885</th>\n",
       "      <td>560040</td>\n",
       "      <td>23343</td>\n",
       "      <td>came coded as 20713</td>\n",
       "      <td>3100</td>\n",
       "      <td>2011-07-14 14:28:00</td>\n",
       "      <td>0.00</td>\n",
       "      <td>NaN</td>\n",
       "      <td>United Kingdom</td>\n",
       "    </tr>\n",
       "    <tr>\n",
       "      <th>270885</th>\n",
       "      <td>560599</td>\n",
       "      <td>18007</td>\n",
       "      <td>ESSENTIAL BALM 3.5g TIN IN ENVELOPE</td>\n",
       "      <td>3186</td>\n",
       "      <td>2011-07-19 17:04:00</td>\n",
       "      <td>0.06</td>\n",
       "      <td>14609</td>\n",
       "      <td>United Kingdom</td>\n",
       "    </tr>\n",
       "    <tr>\n",
       "      <th>270886</th>\n",
       "      <td>560600</td>\n",
       "      <td>18007</td>\n",
       "      <td>NaN</td>\n",
       "      <td>-2834</td>\n",
       "      <td>2011-07-19 17:04:00</td>\n",
       "      <td>0.00</td>\n",
       "      <td>NaN</td>\n",
       "      <td>United Kingdom</td>\n",
       "    </tr>\n",
       "    <tr>\n",
       "      <th>291249</th>\n",
       "      <td>562439</td>\n",
       "      <td>84879</td>\n",
       "      <td>ASSORTED COLOUR BIRD ORNAMENT</td>\n",
       "      <td>2880</td>\n",
       "      <td>2011-08-04 18:06:00</td>\n",
       "      <td>1.45</td>\n",
       "      <td>12931</td>\n",
       "      <td>United Kingdom</td>\n",
       "    </tr>\n",
       "    <tr>\n",
       "      <th>323458</th>\n",
       "      <td>565304</td>\n",
       "      <td>16259</td>\n",
       "      <td>NaN</td>\n",
       "      <td>-3167</td>\n",
       "      <td>2011-09-02 12:18:00</td>\n",
       "      <td>0.00</td>\n",
       "      <td>NaN</td>\n",
       "      <td>United Kingdom</td>\n",
       "    </tr>\n",
       "    <tr>\n",
       "      <th>341601</th>\n",
       "      <td>566768</td>\n",
       "      <td>16045</td>\n",
       "      <td>NaN</td>\n",
       "      <td>-3667</td>\n",
       "      <td>2011-09-14 17:53:00</td>\n",
       "      <td>0.00</td>\n",
       "      <td>NaN</td>\n",
       "      <td>United Kingdom</td>\n",
       "    </tr>\n",
       "    <tr>\n",
       "      <th>375429</th>\n",
       "      <td>569466</td>\n",
       "      <td>23270</td>\n",
       "      <td>incorrect stock entry.</td>\n",
       "      <td>-2880</td>\n",
       "      <td>2011-10-04 11:42:00</td>\n",
       "      <td>0.00</td>\n",
       "      <td>NaN</td>\n",
       "      <td>United Kingdom</td>\n",
       "    </tr>\n",
       "    <tr>\n",
       "      <th>421601</th>\n",
       "      <td>573003</td>\n",
       "      <td>23084</td>\n",
       "      <td>RABBIT NIGHT LIGHT</td>\n",
       "      <td>2400</td>\n",
       "      <td>2011-10-27 12:11:00</td>\n",
       "      <td>2.08</td>\n",
       "      <td>14646</td>\n",
       "      <td>Netherlands</td>\n",
       "    </tr>\n",
       "    <tr>\n",
       "      <th>421632</th>\n",
       "      <td>573008</td>\n",
       "      <td>84077</td>\n",
       "      <td>WORLD WAR 2 GLIDERS ASSTD DESIGNS</td>\n",
       "      <td>4800</td>\n",
       "      <td>2011-10-27 12:26:00</td>\n",
       "      <td>0.21</td>\n",
       "      <td>12901</td>\n",
       "      <td>United Kingdom</td>\n",
       "    </tr>\n",
       "    <tr>\n",
       "      <th>431378</th>\n",
       "      <td>573593</td>\n",
       "      <td>79323LP</td>\n",
       "      <td>Unsaleable, destroyed.</td>\n",
       "      <td>-2618</td>\n",
       "      <td>2011-10-31 15:16:00</td>\n",
       "      <td>0.00</td>\n",
       "      <td>NaN</td>\n",
       "      <td>United Kingdom</td>\n",
       "    </tr>\n",
       "    <tr>\n",
       "      <th>431379</th>\n",
       "      <td>573594</td>\n",
       "      <td>79323P</td>\n",
       "      <td>Unsaleable, destroyed.</td>\n",
       "      <td>-2003</td>\n",
       "      <td>2011-10-31 15:16:00</td>\n",
       "      <td>0.00</td>\n",
       "      <td>NaN</td>\n",
       "      <td>United Kingdom</td>\n",
       "    </tr>\n",
       "    <tr>\n",
       "      <th>431381</th>\n",
       "      <td>573596</td>\n",
       "      <td>79323W</td>\n",
       "      <td>Unsaleable, destroyed.</td>\n",
       "      <td>-4830</td>\n",
       "      <td>2011-10-31 15:17:00</td>\n",
       "      <td>0.00</td>\n",
       "      <td>NaN</td>\n",
       "      <td>United Kingdom</td>\n",
       "    </tr>\n",
       "    <tr>\n",
       "      <th>433788</th>\n",
       "      <td>573995</td>\n",
       "      <td>16014</td>\n",
       "      <td>SMALL CHINESE STYLE SCISSOR</td>\n",
       "      <td>3000</td>\n",
       "      <td>2011-11-02 11:24:00</td>\n",
       "      <td>0.32</td>\n",
       "      <td>16308</td>\n",
       "      <td>United Kingdom</td>\n",
       "    </tr>\n",
       "    <tr>\n",
       "      <th>437480</th>\n",
       "      <td>574294</td>\n",
       "      <td>21915</td>\n",
       "      <td>RED  HARMONICA IN BOX</td>\n",
       "      <td>2100</td>\n",
       "      <td>2011-11-03 15:47:00</td>\n",
       "      <td>1.06</td>\n",
       "      <td>16333</td>\n",
       "      <td>United Kingdom</td>\n",
       "    </tr>\n",
       "    <tr>\n",
       "      <th>502122</th>\n",
       "      <td>578841</td>\n",
       "      <td>84826</td>\n",
       "      <td>ASSTD DESIGN 3D PAPER STICKERS</td>\n",
       "      <td>12540</td>\n",
       "      <td>2011-11-25 15:57:00</td>\n",
       "      <td>0.00</td>\n",
       "      <td>13256</td>\n",
       "      <td>United Kingdom</td>\n",
       "    </tr>\n",
       "    <tr>\n",
       "      <th>511421</th>\n",
       "      <td>579498</td>\n",
       "      <td>23084</td>\n",
       "      <td>RABBIT NIGHT LIGHT</td>\n",
       "      <td>2040</td>\n",
       "      <td>2011-11-29 15:52:00</td>\n",
       "      <td>1.79</td>\n",
       "      <td>12798</td>\n",
       "      <td>Japan</td>\n",
       "    </tr>\n",
       "    <tr>\n",
       "      <th>540421</th>\n",
       "      <td>581483</td>\n",
       "      <td>23843</td>\n",
       "      <td>PAPER CRAFT , LITTLE BIRDIE</td>\n",
       "      <td>80995</td>\n",
       "      <td>2011-12-09 09:15:00</td>\n",
       "      <td>2.08</td>\n",
       "      <td>16446</td>\n",
       "      <td>United Kingdom</td>\n",
       "    </tr>\n",
       "    <tr>\n",
       "      <th>540422</th>\n",
       "      <td>C581484</td>\n",
       "      <td>23843</td>\n",
       "      <td>PAPER CRAFT , LITTLE BIRDIE</td>\n",
       "      <td>-80995</td>\n",
       "      <td>2011-12-09 09:27:00</td>\n",
       "      <td>2.08</td>\n",
       "      <td>16446</td>\n",
       "      <td>United Kingdom</td>\n",
       "    </tr>\n",
       "  </tbody>\n",
       "</table>\n",
       "</div>"
      ],
      "text/plain": [
       "       InvoiceNo StockCode                          Description  Quantity  \\\n",
       "4287     C536757     84347  ROTATING SILVER ANGELS T-LIGHT HLDR     -9360   \n",
       "4945      536830     84077    WORLD WAR 2 GLIDERS ASSTD DESIGNS      2880   \n",
       "32671     539101     22693   GROW A FLYTRAP OR SUNFLOWER IN TIN      2400   \n",
       "50849     540564     22617                 mouldy, thrown away.     -2600   \n",
       "52711     540815     21108   FAIRY CAKE FLANNEL ASSORTED COLOUR      3114   \n",
       "61619     541431     23166       MEDIUM CERAMIC TOP STORAGE JAR     74215   \n",
       "61624    C541433     23166       MEDIUM CERAMIC TOP STORAGE JAR    -74215   \n",
       "74614     542504     37413                                  NaN      5568   \n",
       "74615     542505    79063D                                  NaN      2560   \n",
       "80742     543057     84077    WORLD WAR 2 GLIDERS ASSTD DESIGNS      2592   \n",
       "87631     543669     22693   GROW A FLYTRAP OR SUNFLOWER IN TIN      2400   \n",
       "91772     544152     18007  ESSENTIAL BALM 3.5g TIN IN ENVELOPE      2400   \n",
       "97432     544612     22053                EMPIRE DESIGN ROSETTE      3906   \n",
       "113580    545990     84598                                check     -3000   \n",
       "115807    546139     84988                                    ?      3000   \n",
       "115818    546152    72140F                           throw away     -5368   \n",
       "125282    547037     21967             PACK OF 12 SKULL TISSUES      2160   \n",
       "131399    547560     72732               thrown away-can't sell     -2472   \n",
       "160145   C550456     21108   FAIRY CAKE FLANNEL ASSORTED COLOUR     -3114   \n",
       "160546    550461     21108   FAIRY CAKE FLANNEL ASSORTED COLOUR      3114   \n",
       "185113    552733     23059                    Thrown away-rusty     -2376   \n",
       "201149    554272     21977   PACK OF 60 PINK PAISLEY CAKE CASES      2700   \n",
       "206121    554868     22197                 SMALL POPCORN HOLDER      4300   \n",
       "220843    556231    85123A                                    ?      4000   \n",
       "225528    556687     23003         Printing smudges/thrown away     -9058   \n",
       "225529    556690     23005         printing smudges/thrown away     -9600   \n",
       "225530    556691     23005         printing smudges/thrown away     -9600   \n",
       "263884    560039     20713         wrongly marked. 23343 in box     -3100   \n",
       "263885    560040     23343                  came coded as 20713      3100   \n",
       "270885    560599     18007  ESSENTIAL BALM 3.5g TIN IN ENVELOPE      3186   \n",
       "270886    560600     18007                                  NaN     -2834   \n",
       "291249    562439     84879        ASSORTED COLOUR BIRD ORNAMENT      2880   \n",
       "323458    565304     16259                                  NaN     -3167   \n",
       "341601    566768     16045                                  NaN     -3667   \n",
       "375429    569466     23270               incorrect stock entry.     -2880   \n",
       "421601    573003     23084                   RABBIT NIGHT LIGHT      2400   \n",
       "421632    573008     84077    WORLD WAR 2 GLIDERS ASSTD DESIGNS      4800   \n",
       "431378    573593   79323LP               Unsaleable, destroyed.     -2618   \n",
       "431379    573594    79323P               Unsaleable, destroyed.     -2003   \n",
       "431381    573596    79323W               Unsaleable, destroyed.     -4830   \n",
       "433788    573995     16014          SMALL CHINESE STYLE SCISSOR      3000   \n",
       "437480    574294     21915               RED  HARMONICA IN BOX       2100   \n",
       "502122    578841     84826       ASSTD DESIGN 3D PAPER STICKERS     12540   \n",
       "511421    579498     23084                   RABBIT NIGHT LIGHT      2040   \n",
       "540421    581483     23843          PAPER CRAFT , LITTLE BIRDIE     80995   \n",
       "540422   C581484     23843          PAPER CRAFT , LITTLE BIRDIE    -80995   \n",
       "\n",
       "               InvoiceDate  UnitPrice CustomerID         Country  \n",
       "4287   2010-12-02 14:23:00       0.03      15838  United Kingdom  \n",
       "4945   2010-12-02 17:38:00       0.18      16754  United Kingdom  \n",
       "32671  2010-12-16 10:35:00       0.94      16029  United Kingdom  \n",
       "50849  2011-01-10 10:36:00       0.00        NaN  United Kingdom  \n",
       "52711  2011-01-11 12:55:00       2.10      15749  United Kingdom  \n",
       "61619  2011-01-18 10:01:00       1.04      12346  United Kingdom  \n",
       "61624  2011-01-18 10:17:00       1.04      12346  United Kingdom  \n",
       "74614  2011-01-28 12:03:00       0.00        NaN  United Kingdom  \n",
       "74615  2011-01-28 12:04:00       0.00        NaN  United Kingdom  \n",
       "80742  2011-02-03 10:50:00       0.21      16333  United Kingdom  \n",
       "87631  2011-02-11 11:22:00       0.94      16029  United Kingdom  \n",
       "91772  2011-02-16 12:10:00       0.06      14609  United Kingdom  \n",
       "97432  2011-02-22 10:43:00       0.82      18087  United Kingdom  \n",
       "113580 2011-03-08 13:07:00       0.00        NaN  United Kingdom  \n",
       "115807 2011-03-09 16:35:00       0.00        NaN  United Kingdom  \n",
       "115818 2011-03-09 17:25:00       0.00        NaN  United Kingdom  \n",
       "125282 2011-03-20 10:37:00       0.25      14101  United Kingdom  \n",
       "131399 2011-03-23 17:28:00       0.00        NaN  United Kingdom  \n",
       "160145 2011-04-18 13:08:00       2.10      15749  United Kingdom  \n",
       "160546 2011-04-18 13:20:00       2.10      15749  United Kingdom  \n",
       "185113 2011-05-11 10:48:00       0.00        NaN  United Kingdom  \n",
       "201149 2011-05-23 13:08:00       0.42      12901  United Kingdom  \n",
       "206121 2011-05-27 10:52:00       0.72      13135  United Kingdom  \n",
       "220843 2011-06-09 15:04:00       0.00        NaN  United Kingdom  \n",
       "225528 2011-06-14 10:36:00       0.00        NaN  United Kingdom  \n",
       "225529 2011-06-14 10:37:00       0.00        NaN  United Kingdom  \n",
       "225530 2011-06-14 10:37:00       0.00        NaN  United Kingdom  \n",
       "263884 2011-07-14 14:27:00       0.00        NaN  United Kingdom  \n",
       "263885 2011-07-14 14:28:00       0.00        NaN  United Kingdom  \n",
       "270885 2011-07-19 17:04:00       0.06      14609  United Kingdom  \n",
       "270886 2011-07-19 17:04:00       0.00        NaN  United Kingdom  \n",
       "291249 2011-08-04 18:06:00       1.45      12931  United Kingdom  \n",
       "323458 2011-09-02 12:18:00       0.00        NaN  United Kingdom  \n",
       "341601 2011-09-14 17:53:00       0.00        NaN  United Kingdom  \n",
       "375429 2011-10-04 11:42:00       0.00        NaN  United Kingdom  \n",
       "421601 2011-10-27 12:11:00       2.08      14646     Netherlands  \n",
       "421632 2011-10-27 12:26:00       0.21      12901  United Kingdom  \n",
       "431378 2011-10-31 15:16:00       0.00        NaN  United Kingdom  \n",
       "431379 2011-10-31 15:16:00       0.00        NaN  United Kingdom  \n",
       "431381 2011-10-31 15:17:00       0.00        NaN  United Kingdom  \n",
       "433788 2011-11-02 11:24:00       0.32      16308  United Kingdom  \n",
       "437480 2011-11-03 15:47:00       1.06      16333  United Kingdom  \n",
       "502122 2011-11-25 15:57:00       0.00      13256  United Kingdom  \n",
       "511421 2011-11-29 15:52:00       1.79      12798           Japan  \n",
       "540421 2011-12-09 09:15:00       2.08      16446  United Kingdom  \n",
       "540422 2011-12-09 09:27:00       2.08      16446  United Kingdom  "
      ]
     },
     "execution_count": 18,
     "metadata": {},
     "output_type": "execute_result"
    }
   ],
   "source": [
    "retail[abs(retail['Quantity'])>2000]"
   ]
  },
  {
   "cell_type": "code",
   "execution_count": 19,
   "metadata": {},
   "outputs": [
    {
     "data": {
      "text/plain": [
       "InvoiceNo           0\n",
       "StockCode           0\n",
       "Description      1454\n",
       "Quantity            0\n",
       "InvoiceDate         0\n",
       "UnitPrice           0\n",
       "CustomerID     135080\n",
       "Country             0\n",
       "dtype: int64"
      ]
     },
     "execution_count": 19,
     "metadata": {},
     "output_type": "execute_result"
    }
   ],
   "source": [
    "retail.isna().sum()"
   ]
  },
  {
   "cell_type": "markdown",
   "metadata": {},
   "source": [
    "## Cancelled invoices"
   ]
  },
  {
   "cell_type": "code",
   "execution_count": 20,
   "metadata": {},
   "outputs": [
    {
     "data": {
      "text/html": [
       "<div>\n",
       "<style scoped>\n",
       "    .dataframe tbody tr th:only-of-type {\n",
       "        vertical-align: middle;\n",
       "    }\n",
       "\n",
       "    .dataframe tbody tr th {\n",
       "        vertical-align: top;\n",
       "    }\n",
       "\n",
       "    .dataframe thead th {\n",
       "        text-align: right;\n",
       "    }\n",
       "</style>\n",
       "<table border=\"1\" class=\"dataframe\">\n",
       "  <thead>\n",
       "    <tr style=\"text-align: right;\">\n",
       "      <th></th>\n",
       "      <th>InvoiceNo</th>\n",
       "      <th>StockCode</th>\n",
       "      <th>Description</th>\n",
       "      <th>Quantity</th>\n",
       "      <th>InvoiceDate</th>\n",
       "      <th>UnitPrice</th>\n",
       "      <th>CustomerID</th>\n",
       "      <th>Country</th>\n",
       "    </tr>\n",
       "  </thead>\n",
       "  <tbody>\n",
       "    <tr>\n",
       "      <th>141</th>\n",
       "      <td>C536379</td>\n",
       "      <td>D</td>\n",
       "      <td>Discount</td>\n",
       "      <td>-1</td>\n",
       "      <td>2010-12-01 09:41:00</td>\n",
       "      <td>27.50</td>\n",
       "      <td>14527</td>\n",
       "      <td>United Kingdom</td>\n",
       "    </tr>\n",
       "    <tr>\n",
       "      <th>154</th>\n",
       "      <td>C536383</td>\n",
       "      <td>35004C</td>\n",
       "      <td>SET OF 3 COLOURED  FLYING DUCKS</td>\n",
       "      <td>-1</td>\n",
       "      <td>2010-12-01 09:49:00</td>\n",
       "      <td>4.65</td>\n",
       "      <td>15311</td>\n",
       "      <td>United Kingdom</td>\n",
       "    </tr>\n",
       "    <tr>\n",
       "      <th>235</th>\n",
       "      <td>C536391</td>\n",
       "      <td>22556</td>\n",
       "      <td>PLASTERS IN TIN CIRCUS PARADE</td>\n",
       "      <td>-12</td>\n",
       "      <td>2010-12-01 10:24:00</td>\n",
       "      <td>1.65</td>\n",
       "      <td>17548</td>\n",
       "      <td>United Kingdom</td>\n",
       "    </tr>\n",
       "    <tr>\n",
       "      <th>236</th>\n",
       "      <td>C536391</td>\n",
       "      <td>21984</td>\n",
       "      <td>PACK OF 12 PINK PAISLEY TISSUES</td>\n",
       "      <td>-24</td>\n",
       "      <td>2010-12-01 10:24:00</td>\n",
       "      <td>0.29</td>\n",
       "      <td>17548</td>\n",
       "      <td>United Kingdom</td>\n",
       "    </tr>\n",
       "    <tr>\n",
       "      <th>237</th>\n",
       "      <td>C536391</td>\n",
       "      <td>21983</td>\n",
       "      <td>PACK OF 12 BLUE PAISLEY TISSUES</td>\n",
       "      <td>-24</td>\n",
       "      <td>2010-12-01 10:24:00</td>\n",
       "      <td>0.29</td>\n",
       "      <td>17548</td>\n",
       "      <td>United Kingdom</td>\n",
       "    </tr>\n",
       "  </tbody>\n",
       "</table>\n",
       "</div>"
      ],
      "text/plain": [
       "    InvoiceNo StockCode                       Description  Quantity  \\\n",
       "141   C536379         D                          Discount        -1   \n",
       "154   C536383    35004C   SET OF 3 COLOURED  FLYING DUCKS        -1   \n",
       "235   C536391     22556    PLASTERS IN TIN CIRCUS PARADE        -12   \n",
       "236   C536391     21984  PACK OF 12 PINK PAISLEY TISSUES        -24   \n",
       "237   C536391     21983  PACK OF 12 BLUE PAISLEY TISSUES        -24   \n",
       "\n",
       "            InvoiceDate  UnitPrice CustomerID         Country  \n",
       "141 2010-12-01 09:41:00      27.50      14527  United Kingdom  \n",
       "154 2010-12-01 09:49:00       4.65      15311  United Kingdom  \n",
       "235 2010-12-01 10:24:00       1.65      17548  United Kingdom  \n",
       "236 2010-12-01 10:24:00       0.29      17548  United Kingdom  \n",
       "237 2010-12-01 10:24:00       0.29      17548  United Kingdom  "
      ]
     },
     "execution_count": 20,
     "metadata": {},
     "output_type": "execute_result"
    }
   ],
   "source": [
    "# get cancelled transactions\n",
    "# as mentioned in the description of the dataset, some InvoiceNo start with the letter \"c\" = cancelled\n",
    "cancelled_orders = retail[retail['InvoiceNo'].astype(str).str.contains('C')]\n",
    "cancelled_orders.head()"
   ]
  },
  {
   "cell_type": "code",
   "execution_count": 21,
   "metadata": {},
   "outputs": [
    {
     "data": {
      "text/html": [
       "<div>\n",
       "<style scoped>\n",
       "    .dataframe tbody tr th:only-of-type {\n",
       "        vertical-align: middle;\n",
       "    }\n",
       "\n",
       "    .dataframe tbody tr th {\n",
       "        vertical-align: top;\n",
       "    }\n",
       "\n",
       "    .dataframe thead th {\n",
       "        text-align: right;\n",
       "    }\n",
       "</style>\n",
       "<table border=\"1\" class=\"dataframe\">\n",
       "  <thead>\n",
       "    <tr style=\"text-align: right;\">\n",
       "      <th></th>\n",
       "      <th>InvoiceNo</th>\n",
       "      <th>StockCode</th>\n",
       "      <th>Description</th>\n",
       "      <th>Quantity</th>\n",
       "      <th>InvoiceDate</th>\n",
       "      <th>UnitPrice</th>\n",
       "      <th>CustomerID</th>\n",
       "      <th>Country</th>\n",
       "    </tr>\n",
       "  </thead>\n",
       "  <tbody>\n",
       "  </tbody>\n",
       "</table>\n",
       "</div>"
      ],
      "text/plain": [
       "Empty DataFrame\n",
       "Columns: [InvoiceNo, StockCode, Description, Quantity, InvoiceDate, UnitPrice, CustomerID, Country]\n",
       "Index: []"
      ]
     },
     "execution_count": 21,
     "metadata": {},
     "output_type": "execute_result"
    }
   ],
   "source": [
    "cancelled_orders[cancelled_orders['Quantity']>0]"
   ]
  },
  {
   "cell_type": "markdown",
   "metadata": {},
   "source": [
    "Negative values in the Quantity column, mean that it's a cancelled quantity because we didn't find any positive value for orders where InvoiceNo contains the prefix C.\n",
    "How much cancelled orders do we have?"
   ]
  },
  {
   "cell_type": "code",
   "execution_count": 22,
   "metadata": {},
   "outputs": [
    {
     "name": "stdout",
     "output_type": "stream",
     "text": [
      "We have  9288  cancelled orders.\n",
      "Percentage of orders canceled: 9288/25900 (35.86%) \n"
     ]
    }
   ],
   "source": [
    "#check how many rows our dataframe of cancelled orders contain\n",
    "print(\"We have \",len(cancelled_orders), \" cancelled orders.\")\n",
    "#percentage of cancelled orders in total orders\n",
    "total_orders = retail['InvoiceNo'].nunique()\n",
    "cancelled_number = len(cancelled_orders)\n",
    "print('Percentage of orders canceled: {}/{} ({:.2f}%) '.format(cancelled_number, total_orders, cancelled_number/total_orders*100))"
   ]
  },
  {
   "cell_type": "markdown",
   "metadata": {},
   "source": [
    "We have a large percentage of cancelled orders of 35%. Studying these cancelled orders may help in preventing future cancellation"
   ]
  },
  {
   "cell_type": "markdown",
   "metadata": {},
   "source": [
    "## Non-Cancelled invoices"
   ]
  },
  {
   "cell_type": "code",
   "execution_count": 23,
   "metadata": {},
   "outputs": [],
   "source": [
    "#we will explore only not-cancelled orders for old customer for modelling \n",
    "retail_clean = retail[retail['Quantity'] > 0]\n",
    "retail_clean = retail_clean.dropna(subset=['CustomerID'])"
   ]
  },
  {
   "cell_type": "code",
   "execution_count": 24,
   "metadata": {},
   "outputs": [
    {
     "data": {
      "image/png": "[encoded data removed]",
      "text/plain": [
       "<Figure size 1224x360 with 2 Axes>"
      ]
     },
     "metadata": {
      "needs_background": "light"
     },
     "output_type": "display_data"
    },
    {
     "name": "stdout",
     "output_type": "stream",
     "text": [
      "98.34% of customers have more than 1 purchase!\n"
     ]
    }
   ],
   "source": [
    "# Distribution of number of purchases\n",
    "data1 = retail_clean['CustomerID'].value_counts()  # count of events per visitorid\n",
    "data2 = data1.value_counts(normalize=True)[:9]\n",
    "data2[10] = data1.value_counts(normalize=True)[9:].sum()  # count of counts of events per visitorid\n",
    "\n",
    "fig, (ax1, ax2) = plt.subplots(1, 2, figsize=(17,5))\n",
    "ax1.boxplot(data1)\n",
    "ax2.bar(data2.index, data2.values)\n",
    "\n",
    "ax2.set_xticks(list(range(1,11)))\n",
    "ax2.set_xticklabels(list(range(1,10)) +['10+'])\n",
    "fig.suptitle(\"Distribution of number of visitor events\")\n",
    "\n",
    "plt.show()\n",
    "print(\"{0:.2f}% of customers have more than 1 purchase!\".format(100 * (np.sum(data1 > 1) / data1.shape[0])))"
   ]
  },
  {
   "cell_type": "code",
   "execution_count": 25,
   "metadata": {},
   "outputs": [
    {
     "data": {
      "image/png": "[encoded data removed]",
      "text/plain": [
       "<Figure size 1224x360 with 2 Axes>"
      ]
     },
     "metadata": {
      "needs_background": "light"
     },
     "output_type": "display_data"
    },
    {
     "name": "stdout",
     "output_type": "stream",
     "text": [
      "95.44% of items have more than 1 event!\n"
     ]
    }
   ],
   "source": [
    "# Distribution of number of item events\n",
    "data1 = retail_clean['StockCode'].value_counts()  # count of events per item\n",
    "data2 = data1.value_counts(normalize=True)[:9]\n",
    "data2[10] = data1.value_counts(normalize=True)[9:].sum()  # count of counts of events per visitorid\n",
    "\n",
    "fig, (ax1, ax2) = plt.subplots(1, 2, figsize=(17,5))\n",
    "ax1.boxplot(data1)\n",
    "ax2.bar(data2.index, data2.values)\n",
    "\n",
    "ax2.set_xticks(list(range(1,11)))\n",
    "ax2.set_xticklabels(list(range(1,10)) +['10+'])\n",
    "fig.suptitle(\"Distribution of number of item events\")\n",
    "\n",
    "plt.show()\n",
    "print(\"{0:.2f}% of items have more than 1 event!\".format(100 * (np.sum(data1 > 1) / data1.shape[0])))"
   ]
  },
  {
   "cell_type": "code",
   "execution_count": 26,
   "metadata": {},
   "outputs": [],
   "source": [
    "# Create an additional column for date as year and month\n",
    "retail_clean['Date'] = retail_clean['InvoiceDate'].dt.strftime(\"%Y-%m\")\n",
    "\n",
    "# Create a new column for the total expenditure of that product in the purchase.\n",
    "retail_clean['Sales'] = (retail_clean['UnitPrice'] * retail_clean['Quantity'])"
   ]
  },
  {
   "cell_type": "code",
   "execution_count": 27,
   "metadata": {},
   "outputs": [
    {
     "data": {
      "image/png": "[encoded data removed]",
      "text/plain": [
       "<Figure size 720x432 with 1 Axes>"
      ]
     },
     "metadata": {
      "needs_background": "light"
     },
     "output_type": "display_data"
    }
   ],
   "source": [
    "#Visualize the variable productsNumber distribution\n",
    "groupby_invoice = pd.DataFrame(retail_clean.groupby('InvoiceNo')['StockCode'].nunique())\n",
    "groupby_invoice.columns=['productsNumber']\n",
    "fig, ax = plt.subplots()\n",
    "fig.set_size_inches(10, 6)\n",
    "sns.distplot(groupby_invoice['productsNumber'],ax=ax)\n",
    "plt.show()\n",
    "#We have a skewed distribution of products. Most people buy less than 25 items."
   ]
  },
  {
   "cell_type": "code",
   "execution_count": null,
   "metadata": {},
   "outputs": [],
   "source": [
    "fig = px.treemap(retail_clean,\n",
    "                 path = ['Country'],\n",
    "                 values='Sales')\n",
    "fig.show()"
   ]
  },
  {
   "cell_type": "code",
   "execution_count": null,
   "metadata": {},
   "outputs": [],
   "source": [
    "#top-5 countries\n",
    "retail_clean.groupby('Country').sum().sort_values(by='Sales', ascending=False)[:5]"
   ]
  },
  {
   "cell_type": "code",
   "execution_count": null,
   "metadata": {},
   "outputs": [],
   "source": [
    "retail_clean['CustomerID'].value_counts()"
   ]
  },
  {
   "cell_type": "code",
   "execution_count": null,
   "metadata": {},
   "outputs": [],
   "source": [
    "# Visualize number of events per day\n",
    "df = pd.DatetimeIndex(retail_clean['InvoiceDate']).normalize().value_counts().sort_index()\n",
    "fig = plt.figure(figsize=(12,6))\n",
    "plt.plot(df.index, df.values, linestyle=\"-\")\n",
    "plt.xticks(np.arange(df.index[0], df.index[-1], pd.to_timedelta(7, unit='d')), rotation=90)\n",
    "plt.title('Event frequency time series')\n",
    "plt.show()"
   ]
  },
  {
   "cell_type": "code",
   "execution_count": null,
   "metadata": {},
   "outputs": [],
   "source": [
    "# How many weeks does the dataset has?\n",
    "diff = (df.index.max() - df.index.min())\n",
    "print(f\"The dataset has {diff.days} days, corresponding to {diff.days//7} weeks.\")"
   ]
  },
  {
   "cell_type": "markdown",
   "metadata": {},
   "source": [
    "## Customer-Item Matrix"
   ]
  },
  {
   "cell_type": "code",
   "execution_count": null,
   "metadata": {},
   "outputs": [],
   "source": [
    "customer_item_matrix = retail_clean.pivot_table(\n",
    "    index='CustomerID', \n",
    "    columns='StockCode', \n",
    "    values='Quantity',\n",
    "    aggfunc='sum'\n",
    ")"
   ]
  },
  {
   "cell_type": "code",
   "execution_count": null,
   "metadata": {},
   "outputs": [],
   "source": [
    "customer_item_matrix.shape"
   ]
  },
  {
   "cell_type": "code",
   "execution_count": null,
   "metadata": {},
   "outputs": [],
   "source": [
    "customer_item_matrix = customer_item_matrix.applymap(lambda x: 1 if x > 0 else 0)"
   ]
  },
  {
   "cell_type": "code",
   "execution_count": null,
   "metadata": {},
   "outputs": [],
   "source": [
    "customer_item_matrix"
   ]
  },
  {
   "cell_type": "markdown",
   "metadata": {},
   "source": [
    "# 4. Analyses"
   ]
  },
  {
   "cell_type": "markdown",
   "metadata": {},
   "source": [
    "## 4.1 Data Prep"
   ]
  },
  {
   "cell_type": "code",
   "execution_count": null,
   "metadata": {},
   "outputs": [],
   "source": [
    "#not to change original dataframe\n",
    "df_nonan=retail.copy()"
   ]
  },
  {
   "cell_type": "code",
   "execution_count": null,
   "metadata": {},
   "outputs": [],
   "source": [
    "nan_stock_code = df_nonan[df_nonan['Description'].isna()]['StockCode'].unique()"
   ]
  },
  {
   "cell_type": "code",
   "execution_count": null,
   "metadata": {},
   "outputs": [],
   "source": [
    "#fill the nan values with most common value for a stockcode when it has at least one description\n",
    "for i in nan_stock_code:\n",
    "    if len(df_nonan[(df_nonan['StockCode']==i)]['Description'].value_counts()) != 0:\n",
    "        df_nonan.loc[(df_nonan['StockCode']==i) & (df_nonan['Description'].isna()), 'Description'] = df_nonan[df_nonan['StockCode']==i]['Description'].value_counts().index[0]"
   ]
  },
  {
   "cell_type": "code",
   "execution_count": null,
   "metadata": {},
   "outputs": [],
   "source": [
    "df_nonan.isna().sum()"
   ]
  },
  {
   "cell_type": "code",
   "execution_count": null,
   "metadata": {},
   "outputs": [],
   "source": [
    "#drop 112 rows with no description provided\n",
    "df_nonan.dropna(subset=['Description'], inplace=True)\n",
    "df_nonan.isna().sum()"
   ]
  },
  {
   "cell_type": "code",
   "execution_count": null,
   "metadata": {},
   "outputs": [],
   "source": [
    "#check nan values for customers, they are first time customers, we will separate them to different df\n",
    "df_nonan[df_nonan['CustomerID'].isna()]"
   ]
  },
  {
   "cell_type": "markdown",
   "metadata": {},
   "source": [
    "## 4.2 Revenue Analysis"
   ]
  },
  {
   "cell_type": "code",
   "execution_count": null,
   "metadata": {},
   "outputs": [],
   "source": [
    "#add a new column for total amount\n",
    "df_nonan['Revenue'] = df_nonan['Quantity']*df_nonan['UnitPrice']"
   ]
  },
  {
   "cell_type": "code",
   "execution_count": null,
   "metadata": {},
   "outputs": [],
   "source": [
    "sns.histplot(data=df_nonan, x='Revenue', bins=20)"
   ]
  },
  {
   "cell_type": "code",
   "execution_count": null,
   "metadata": {},
   "outputs": [],
   "source": [
    "def ABC_analysis(df):\n",
    "    grouped_df = (\n",
    "            df.loc[:, ['CustomerID','Revenue']]\n",
    "            .groupby('CustomerID')\n",
    "            .sum()         \n",
    "        )\n",
    "\n",
    "    grouped_df = grouped_df.sort_values(by=['Revenue'], ascending=False)\n",
    "    \n",
    "    ## Ranking by importance\n",
    "    grouped_df[\"Rank\"] = grouped_df['Revenue'].rank(ascending = False)\n",
    "    grouped_df[\"Importance\"] = ' '\n",
    "    grouped_df = grouped_df.reset_index()\n",
    "\n",
    "    ## Checking the Importance of the Customers and Categorising into class A,B,C and splitting based on 20-30-50\n",
    "    grouped_df['Importance'][0: int(0.2 * grouped_df['Rank'].max())] = 'A'\n",
    "    grouped_df['Importance'][int(0.2 * grouped_df['Rank'].max()) : int(0.5 * grouped_df['Rank'].max())] = 'B'\n",
    "    grouped_df['Importance'][int(0.5 * grouped_df['Rank'].max()): ] = 'C'                  \n",
    "    \n",
    "    return grouped_df"
   ]
  },
  {
   "cell_type": "code",
   "execution_count": null,
   "metadata": {},
   "outputs": [],
   "source": [
    "ABC_groups = ABC_analysis(df_nonan)"
   ]
  },
  {
   "cell_type": "code",
   "execution_count": null,
   "metadata": {},
   "outputs": [],
   "source": [
    "ABC_groups.head()"
   ]
  },
  {
   "cell_type": "code",
   "execution_count": null,
   "metadata": {},
   "outputs": [],
   "source": [
    "sns.barplot(x = 'Importance', y = 'Revenue',data = ABC_groups)\n",
    "ABC_groups['Importance'].value_counts()"
   ]
  },
  {
   "cell_type": "code",
   "execution_count": null,
   "metadata": {},
   "outputs": [],
   "source": [
    "print(\"Now let's see importance contribution of each group\")\n",
    "ABC_groups.groupby('Importance')['Revenue'].sum() / ABC_groups['Revenue'].sum() * 100."
   ]
  },
  {
   "cell_type": "markdown",
   "metadata": {},
   "source": [
    "## 4.2 Frequency Analsysis"
   ]
  },
  {
   "cell_type": "code",
   "execution_count": null,
   "metadata": {},
   "outputs": [],
   "source": [
    "df_nonan['Y-M'] = pd.to_datetime(df_nonan['InvoiceDate']).dt.to_period('M')"
   ]
  },
  {
   "cell_type": "code",
   "execution_count": null,
   "metadata": {},
   "outputs": [],
   "source": [
    "df_nonan.groupby(['CustomerID', 'Y-M'])['Y-M'].count()"
   ]
  },
  {
   "cell_type": "code",
   "execution_count": null,
   "metadata": {},
   "outputs": [],
   "source": [
    "pt = df_nonan.pivot_table(values='InvoiceNo', index='CustomerID', columns='Y-M', aggfunc=lambda x: 1 if len(x)>0 else 0).fillna(0)\n",
    "pt.head()"
   ]
  },
  {
   "cell_type": "code",
   "execution_count": null,
   "metadata": {},
   "outputs": [],
   "source": [
    "pt['sum'] = pt.sum(axis=1)"
   ]
  },
  {
   "cell_type": "code",
   "execution_count": null,
   "metadata": {},
   "outputs": [],
   "source": [
    "customer_freq = pd.DataFrame()\n",
    "customer_freq['customer'] = pt.index\n",
    "customer_freq['freq_val'] = pt['sum'].values"
   ]
  },
  {
   "cell_type": "code",
   "execution_count": null,
   "metadata": {},
   "outputs": [],
   "source": [
    "customer_freq['group'] = customer_freq['freq_val'].map({1: 'Z', 2: 'Z' , 3: 'Z', 4:'Z', 5:'Y', 6:'Y', 7:'Y', 8:'Y' , 9:'X', 10: 'X', 11:'X', 12:'X'}) "
   ]
  },
  {
   "cell_type": "code",
   "execution_count": null,
   "metadata": {},
   "outputs": [],
   "source": [
    "sns.barplot(x = customer_freq.groupby(['group']).agg('count').index, y = customer_freq.groupby(['group']).agg('count').values[:,1])\n",
    "customer_freq['group'].value_counts().sort_values(ascending=True)"
   ]
  },
  {
   "cell_type": "markdown",
   "metadata": {},
   "source": [
    "# **5. Modeling** <a class=\"anchor\" id=\"5\"></a>"
   ]
  },
  {
   "cell_type": "markdown",
   "metadata": {},
   "source": [
    "## 5.1 Collaborative Filtering <a class=\"anchor\" id=\"5.1\"></a>"
   ]
  },
  {
   "cell_type": "markdown",
   "metadata": {},
   "source": [
    "### 5.1.1 User-based Collaborative Filtering <a class=\"anchor\" id=\"5.1.1\"></a>"
   ]
  },
  {
   "cell_type": "code",
   "execution_count": null,
   "metadata": {},
   "outputs": [],
   "source": [
    "user_user_sim_matrix = pd.DataFrame(cosine_similarity(customer_item_matrix))"
   ]
  },
  {
   "cell_type": "code",
   "execution_count": null,
   "metadata": {},
   "outputs": [],
   "source": [
    "user_user_sim_matrix.columns = customer_item_matrix.index\n",
    "user_user_sim_matrix['CustomerID'] = customer_item_matrix.index\n",
    "user_user_sim_matrix = user_user_sim_matrix.set_index('CustomerID')"
   ]
  },
  {
   "cell_type": "code",
   "execution_count": null,
   "metadata": {},
   "outputs": [],
   "source": [
    "user_user_sim_matrix.loc[17935.0].sort_values(ascending=False)"
   ]
  },
  {
   "cell_type": "code",
   "execution_count": null,
   "metadata": {},
   "outputs": [],
   "source": [
    "items_bought_by_A = set(customer_item_matrix.loc[12350.0].iloc[customer_item_matrix.loc[12350.0].to_numpy().nonzero()].index)\n",
    "items_bought_by_A"
   ]
  },
  {
   "cell_type": "code",
   "execution_count": null,
   "metadata": {},
   "outputs": [],
   "source": [
    "items_bought_by_B = set(customer_item_matrix.loc[17935.0].iloc[\n",
    "    customer_item_matrix.loc[17935.0].to_numpy().nonzero()\n",
    "].index)\n",
    "items_bought_by_B"
   ]
  },
  {
   "cell_type": "code",
   "execution_count": null,
   "metadata": {},
   "outputs": [],
   "source": [
    "items_to_recommend_to_B = items_bought_by_A - items_bought_by_B\n",
    "items_to_recommend_to_B"
   ]
  },
  {
   "cell_type": "code",
   "execution_count": null,
   "metadata": {},
   "outputs": [],
   "source": [
    "retail_clean.loc[\n",
    "    retail_clean['StockCode'].isin(items_to_recommend_to_B), \n",
    "    ['StockCode', 'Description']\n",
    "].drop_duplicates().set_index('StockCode')"
   ]
  },
  {
   "cell_type": "markdown",
   "metadata": {},
   "source": [
    "### 5.1.2 Item-based Collaborative Filtering <a class=\"anchor\" id=\"4.1.2\"></a> "
   ]
  },
  {
   "cell_type": "code",
   "execution_count": null,
   "metadata": {},
   "outputs": [],
   "source": [
    "item_item_sim_matrix = pd.DataFrame(cosine_similarity(customer_item_matrix.T))\n",
    "item_item_sim_matrix.columns = customer_item_matrix.T.index\n",
    "item_item_sim_matrix['StockCode'] = customer_item_matrix.T.index\n",
    "item_item_sim_matrix = item_item_sim_matrix.set_index('StockCode')"
   ]
  },
  {
   "cell_type": "code",
   "execution_count": null,
   "metadata": {},
   "outputs": [],
   "source": [
    "item_item_sim_matrix"
   ]
  },
  {
   "cell_type": "code",
   "execution_count": null,
   "metadata": {},
   "outputs": [],
   "source": [
    "top_10_similar_items = list(\n",
    "    item_item_sim_matrix\\\n",
    "        .loc['23166']\\\n",
    "        .sort_values(ascending=False)\\\n",
    "        .iloc[:10]\\\n",
    "    .index\n",
    ")"
   ]
  },
  {
   "cell_type": "code",
   "execution_count": null,
   "metadata": {},
   "outputs": [],
   "source": [
    "top_10_similar_items"
   ]
  },
  {
   "cell_type": "code",
   "execution_count": null,
   "metadata": {},
   "outputs": [],
   "source": [
    "retail_clean.loc[\n",
    "    retail_clean['StockCode'].isin(top_10_similar_items), \n",
    "    ['StockCode', 'Description']\n",
    "].drop_duplicates().set_index('StockCode').loc[top_10_similar_items]"
   ]
  },
  {
   "cell_type": "markdown",
   "metadata": {},
   "source": [
    "### 5.1.3 ALS model <a class=\"anchor\" id=\"5.1.3\"></a> "
   ]
  },
  {
   "cell_type": "code",
   "execution_count": null,
   "metadata": {},
   "outputs": [],
   "source": [
    "users_counts= retail_clean['CustomerID'].value_counts()\n",
    "items_counts = retail_clean['StockCode'].value_counts()\n",
    "\n",
    "scores = []\n",
    "for n_events in range(1, 10):\n",
    "    users_counts = users_counts[users_counts > n_events]\n",
    "    items_counts = items_counts[items_counts > n_events]\n",
    "\n",
    "    scores.append(retail_clean.shape[0] / (len(users_counts) * len(items_counts)) * 100)\n",
    "px.line(x = range(1, 10), y = scores, labels = {'x':'n_events', 'y':'Sparsity'})"
   ]
  },
  {
   "cell_type": "code",
   "execution_count": null,
   "metadata": {},
   "outputs": [],
   "source": [
    "def threshold_ratings(df, uid_min, iid_min, max_iter=None):\n",
    "    \"\"\"Removes users and items with less than uid_min and iid_min event occurrences, respectively.\n",
    "    Credits: https://www.ethanrosenthal.com/2016/10/19/implicit-mf-part-1/\n",
    "    \"\"\"\n",
    "    n_users = df['CustomerID'].nunique()\n",
    "    n_items = df['StockCode'].nunique()\n",
    "    sparsity = float(df.shape[0]) / float(n_users * n_items) * 100\n",
    "    print('Raw dataset info \\n-----------------')\n",
    "    print('Number of users: {}'.format(n_users))\n",
    "    print('Number of items: {}'.format(n_items))\n",
    "    print('Sparsity: {:4.3f}%'.format(sparsity))\n",
    "    \n",
    "    done, i = False, 0\n",
    "    while not done:\n",
    "        # When we exclude users with freq less than uid_min we might end up with new \n",
    "        # items with freq less than iid_min, so we will have to alternate back and forth\n",
    "        starting_shape = df.shape[0]  # number of existing events\n",
    "\n",
    "        uid_counts = df.groupby('CustomerID').size()  # user id frequencies\n",
    "        df = df[~df['CustomerID'].isin(uid_counts[uid_counts < uid_min].index.tolist())]  # keep events with users with frequency >= uid_min\n",
    "\n",
    "        iid_counts = df.groupby('StockCode').size()  # item id frequencies\n",
    "        df = df[~df['StockCode'].isin(iid_counts[iid_counts < iid_min].index.tolist())]  # keep events with items with frequency >= iid_min\n",
    "\n",
    "        ending_shape = df.shape[0]  # number of existing events after filters\n",
    "        i += 1\n",
    "        if starting_shape == ending_shape or i == max_iter:  # convergence happens\n",
    "            done = True\n",
    "    \n",
    "    if not max_iter:\n",
    "        assert(df.groupby('CustomerID').size().min() >= uid_min)\n",
    "        assert(df.groupby('StockCode').size().min() >= iid_min)\n",
    "    \n",
    "    n_users = df['CustomerID'].nunique()\n",
    "    n_items = df['StockCode'].nunique()\n",
    "    sparsity = float(df.shape[0]) / float(n_users * n_items) * 100\n",
    "    print('Limited dataset info \\n-----------------')\n",
    "    print('Number of iterations until convergence: {}'.format(i))\n",
    "    print('Number of users: {}'.format(n_users))\n",
    "    print('Number of items: {}'.format(n_items))\n",
    "    print('Sparsity: {:4.3f}%'.format(sparsity))\n",
    "    return df"
   ]
  },
  {
   "cell_type": "code",
   "execution_count": null,
   "metadata": {},
   "outputs": [],
   "source": [
    "# get limited dataset\n",
    "df_limited = threshold_ratings(retail_clean, 10, 10)"
   ]
  },
  {
   "cell_type": "markdown",
   "metadata": {},
   "source": [
    "# Train-test split\n",
    "We want to split the train and test events such that:\n",
    "- all test events occur after all train events"
   ]
  },
  {
   "cell_type": "code",
   "execution_count": null,
   "metadata": {},
   "outputs": [],
   "source": [
    "# How many weeks does the dataset has?\n",
    "diff = (df_limited.InvoiceDate.max() - df_limited.InvoiceDate.min())\n",
    "print(f\"The dataset has {diff.days} days, corresponding to {diff.days//7} weeks.\")"
   ]
  },
  {
   "cell_type": "code",
   "execution_count": null,
   "metadata": {},
   "outputs": [],
   "source": [
    "# Train-test split\n",
    "start_train = df_limited['InvoiceDate'].min()\n",
    "start_test = start_train + pd.to_timedelta(45, unit='w')\n",
    "end_test = start_test + pd.to_timedelta(5, unit='w')\n",
    "\n",
    "# Create new limited df\n",
    "df_limited = df_limited.loc[(df_limited['InvoiceDate'] > start_train) & (df_limited['InvoiceDate'] <= end_test)]\n",
    "\n",
    "# Create train_split flag\n",
    "df_limited['train_split'] = (df_limited['InvoiceDate'] <= start_test).astype(int)\n",
    "print(\"Proportion of train events: {:.2f}\".format(df_limited['train_split'].mean()))"
   ]
  },
  {
   "cell_type": "code",
   "execution_count": null,
   "metadata": {},
   "outputs": [],
   "source": [
    "# Visualize train and test set\n",
    "df = pd.DatetimeIndex(df_limited['InvoiceDate']).normalize().value_counts().sort_index()\n",
    "fig = plt.figure(figsize=(12,6))\n",
    "plt.plot(df.index, df.values, linestyle=\"-\")\n",
    "plt.xticks(np.arange(df.index[0], df.index[-1], pd.to_timedelta(7, unit='d')), rotation=90)\n",
    "plt.vlines(start_test, 0, df.max(), linestyles='dashed', color='r', label='train-test split')\n",
    "plt.legend()\n",
    "plt.title('Event frequency time series - train and test set')\n",
    "plt.show()"
   ]
  },
  {
   "cell_type": "code",
   "execution_count": null,
   "metadata": {},
   "outputs": [],
   "source": [
    "# the Categoricals data structure consists of a categories array and an integer array of codes which point to \n",
    "#    the real value in the categories array\n",
    "user_cat = df_limited['CustomerID'].astype('category')\n",
    "item_cat = df_limited['StockCode'].astype(\"category\")\n",
    "\n",
    "# create a sparse matrix of all the item/user/counts triples for the train set and test set\n",
    "# https://docs.scipy.org/doc/scipy/reference/generated/scipy.sparse.coo_matrix.html#scipy.sparse.coo_matrix\n",
    "item_user_train = coo_matrix((df_limited['train_split'],\n",
    "                              (item_cat.cat.codes,\n",
    "                               user_cat.cat.codes))).tocsr()\n",
    "item_user_train.eliminate_zeros()  # remove zero entries\n",
    "# produce transpose of item_user_train\n",
    "user_item_train = item_user_train.T\n",
    "\n",
    "item_user_test = coo_matrix(((~df_limited['train_split'].astype(bool)).astype(int),\n",
    "                             (item_cat.cat.codes,\n",
    "                              user_cat.cat.codes))).tocsr()\n",
    "item_user_test.eliminate_zeros()  # remove zero entries\n",
    "# produce transpose of item_user_test\n",
    "user_item_test = item_user_test.T\n",
    "\n",
    "# map each item and user category to a unique numeric code\n",
    "user_map = dict(zip(user_cat, user_cat.cat.codes))\n",
    "item_map = dict(zip(item_cat, item_cat.cat.codes))\n",
    "\n",
    "def get_keys(value, dictionary):\n",
    "    \"\"\"Function to get dictionary keys with specifiec value\"\"\"\n",
    "    return list(dictionary.keys())[list(dictionary.values()).index(value)]\n",
    "\n",
    "# confirm shapes\n",
    "print(f\"train set shape: {item_user_train.shape} and test set shape: {item_user_test.shape}\")\n",
    "\n",
    "# check sparsity\n",
    "pzeros_train = 100 * (1 - item_user_train.count_nonzero() / (item_user_train.shape[0] * item_user_train.shape[1]))\n",
    "pzeros_test = 100 * (1 - item_user_test.count_nonzero() / (item_user_test.shape[0] * item_user_test.shape[1]))\n",
    "print(f\"train set percentage of zeros: {pzeros_train} and test set percentage of zeros: {pzeros_test}\")"
   ]
  },
  {
   "cell_type": "code",
   "execution_count": null,
   "metadata": {},
   "outputs": [],
   "source": [
    "# users with no items on the train set and not items on the test set\n",
    "zero_users_test = (np.squeeze(np.asarray(user_item_test.sum(axis=1))) == 0).nonzero()[0]\n",
    "zero_users_train = (np.squeeze(np.asarray(user_item_train.sum(axis=1))) == 0).nonzero()[0]\n",
    "set(zero_users_test).intersection(zero_users_train)"
   ]
  },
  {
   "cell_type": "code",
   "execution_count": null,
   "metadata": {},
   "outputs": [],
   "source": [
    "# most frequent user, item pair in train set\n",
    "item_id, user_id = np.unravel_index(item_user_train.argmax(), item_user_train.shape)\n",
    "item_id, user_id = get_keys(item_id, item_map), get_keys(user_id, user_map)\n",
    "df_limited.loc[(df_limited['CustomerID'] == user_id) & (df_limited['StockCode'] == item_id) & (df_limited['train_split'] == 1)]"
   ]
  },
  {
   "cell_type": "code",
   "execution_count": null,
   "metadata": {},
   "outputs": [],
   "source": [
    "# initialize a model\n",
    "alpha = 40  # as we observe more evidence for positive preference, our confidence in pui = 1 increases according to alpha (rate of increase)\n",
    "als_model = AlternatingLeastSquares(factors=200, regularization=0.01, iterations=30, random_state=0)\n",
    "\n",
    "# train the model on a sparse matrix of item/user/confidence weights\n",
    "# os.environ['MKL_NUM_THREADS'] = '1'\n",
    "# os.environ['OPENBLAS_NUM_THREADS'] = '1'\n",
    "# about the alpha hyperparameter: https://github.com/benfred/implicit/issues/199#issuecomment-490350326\n",
    "als_model.fit((item_user_train * alpha).astype('double'))"
   ]
  },
  {
   "cell_type": "code",
   "execution_count": null,
   "metadata": {},
   "outputs": [],
   "source": [
    "# recommend items for a user. \n",
    "# the recommended items have the largest inner product with the user vector\n",
    "user_id = list(user_map.keys())[0]\n",
    "recommendations = als_model.recommend(user_map[user_id], user_item_train)\n",
    "list(map(lambda x: (get_keys(x[0], item_map), x[1]), recommendations))"
   ]
  },
  {
   "cell_type": "code",
   "execution_count": null,
   "metadata": {},
   "outputs": [],
   "source": [
    "# find related items\n",
    "# the related items have the largest inner product with the item vector\n",
    "item_id = list(item_map.keys())[0]\n",
    "related = als_model.similar_items(item_map[item_id])\n",
    "list(map(lambda x: (get_keys(x[0], item_map), x[1]), related))"
   ]
  },
  {
   "cell_type": "code",
   "execution_count": null,
   "metadata": {},
   "outputs": [],
   "source": [
    "# show the top 10 items that explain the recommended item to the user\n",
    "# It is possible to write the LVM as a linear function between preferences and past actions.\n",
    "# We can then see what are the actions associated with the highest contributions to the given recommendation.\n",
    "score, contributions, user_weights = als_model.explain(user_map[user_id], \n",
    "                                                       user_item_train,\n",
    "                                                       item_map[item_id])\n",
    "print(\"The score of the user/item pair is: \", score)\n",
    "print(\"The top N (itemid, score) contributions for this user/item pair are:\\n\", list(map(lambda x: (get_keys(x[0], item_map), x[1]), contributions)))"
   ]
  },
  {
   "cell_type": "markdown",
   "metadata": {},
   "source": [
    "### 5.1.4 PopularRecommender <a class=\"anchor\" id=\"4.1.4\"></a> "
   ]
  },
  {
   "cell_type": "code",
   "execution_count": null,
   "metadata": {},
   "outputs": [],
   "source": [
    "# Baseline: Recommend the most popular items to every user\n",
    "class PopularRecommender():\n",
    "    \"\"\"Baseline Recommender that always suggests the most popular items to every user.\n",
    "    \"\"\"\n",
    "    def fit(self, item_users):\n",
    "        self.item_id_sort = np.argsort(np.squeeze(np.asarray(item_users.sum(axis=1).reshape(-1))))[::-1]\n",
    "    \n",
    "    def recommend(self, userid, user_items, N=10, filter_already_liked_items=None, filter_items=None, recalculate_user=None):\n",
    "        if filter_already_liked_items != None or filter_items != None or recalculate_user != None:\n",
    "            raise NotImplementedError(\"filter_already_liked_items, filter_items and recalculate_user aren't support yet\")\n",
    "        \n",
    "        return list(zip(self.item_id_sort[:N], range(1, N + 1)))"
   ]
  },
  {
   "cell_type": "code",
   "execution_count": null,
   "metadata": {},
   "outputs": [],
   "source": [
    "# Fitting PopularRecommender model\n",
    "pop_model = PopularRecommender()\n",
    "pop_model.fit(item_user_train)"
   ]
  },
  {
   "cell_type": "markdown",
   "metadata": {},
   "source": [
    "### 5.1.5 Bayesian Personalized Ranking <a class=\"anchor\" id=\"4.1.5\"></a> "
   ]
  },
  {
   "cell_type": "code",
   "execution_count": null,
   "metadata": {},
   "outputs": [],
   "source": [
    "bpr_model = implicit.bpr.BayesianPersonalizedRanking(factors=200, use_gpu=False, iterations = 120)\n",
    "bpr_model.fit(item_user_train)"
   ]
  },
  {
   "cell_type": "markdown",
   "metadata": {},
   "source": [
    "### 5.1.6 Logistic Matrix Factorization <a class=\"anchor\" id=\"4.1.6\"></a> "
   ]
  },
  {
   "cell_type": "code",
   "execution_count": null,
   "metadata": {},
   "outputs": [],
   "source": [
    "lmf_model = implicit.lmf.LogisticMatrixFactorization(factors=200, use_gpu=False, iterations = 50)\n",
    "lmf_model.fit(item_user_train)"
   ]
  },
  {
   "cell_type": "markdown",
   "metadata": {},
   "source": [
    "# **6. Evaluation** <a class=\"anchor\" id=\"5\"></a>"
   ]
  },
  {
   "cell_type": "code",
   "execution_count": null,
   "metadata": {},
   "outputs": [],
   "source": [
    "# Evaluate models. \n",
    "# Precision at K, Mean Average Precision at K, Normalized Discounted Cumulative Gain at K, AUC at K\n",
    "eval_models = {'pop_model': pop_model, 'als_model': als_model, 'lmf_model': lmf_model, 'bpr_model': bpr_model}\n",
    "eval_table = {}\n",
    "for k, v in eval_models.items():\n",
    "    eval_table[k] = ranking_metrics_at_k(v, user_item_train, user_item_test, K=10, show_progress=True, num_threads=0)\n",
    "eval_table = pd.DataFrame(eval_table)\n",
    "eval_table"
   ]
  },
  {
   "cell_type": "markdown",
   "metadata": {},
   "source": [
    "# 7. Cold start problem  <a class=\"anchor\" id=\"6\"></a>"
   ]
  },
  {
   "cell_type": "code",
   "execution_count": null,
   "metadata": {},
   "outputs": [],
   "source": [
    "# first variant - select the 10 most bought products from the last 100 purchases for new customers\n",
    "data = retail_clean.copy()\n",
    "data = data.sort_values('InvoiceDate')\n",
    "recommendations = data.tail(100).sort_values('Quantity').tail(10)['StockCode'].values.tolist()\n",
    "recommendations"
   ]
  },
  {
   "cell_type": "code",
   "execution_count": null,
   "metadata": {},
   "outputs": [],
   "source": [
    "# customers with only 1 purchase\n",
    "data1 = retail.groupby('CustomerID').filter(lambda x: len(x) == 1)\n",
    "data2 = retail[retail['CustomerID'].isna()]\n",
    "new_cust = data1.append(data2)"
   ]
  },
  {
   "cell_type": "markdown",
   "metadata": {},
   "source": [
    "## Collaborative filtering based on customer's purchase history"
   ]
  },
  {
   "cell_type": "code",
   "execution_count": null,
   "metadata": {},
   "outputs": [],
   "source": [
    "ratings_utility_matrix = retail.pivot_table(values='Quantity', index='CustomerID', columns='StockCode', fill_value=0)\n",
    "ratings_utility_matrix.head()"
   ]
  },
  {
   "cell_type": "code",
   "execution_count": null,
   "metadata": {},
   "outputs": [],
   "source": [
    "ratings_utility_matrix.shape"
   ]
  },
  {
   "cell_type": "code",
   "execution_count": null,
   "metadata": {},
   "outputs": [],
   "source": [
    "X = ratings_utility_matrix.T\n",
    "X.head()"
   ]
  },
  {
   "cell_type": "code",
   "execution_count": null,
   "metadata": {},
   "outputs": [],
   "source": [
    "SVD = TruncatedSVD(n_components=10)\n",
    "decomposed_matrix = SVD.fit_transform(X)\n",
    "decomposed_matrix.shape"
   ]
  },
  {
   "cell_type": "code",
   "execution_count": null,
   "metadata": {},
   "outputs": [],
   "source": [
    "correlation_matrix = np.corrcoef(decomposed_matrix)\n",
    "correlation_matrix.shape"
   ]
  },
  {
   "cell_type": "code",
   "execution_count": null,
   "metadata": {},
   "outputs": [],
   "source": [
    "product_names = list(X.index)"
   ]
  },
  {
   "cell_type": "code",
   "execution_count": null,
   "metadata": {},
   "outputs": [],
   "source": [
    "i = X.index[99]"
   ]
  },
  {
   "cell_type": "code",
   "execution_count": null,
   "metadata": {},
   "outputs": [],
   "source": [
    "product_ID = product_names.index(i)\n",
    "product_ID"
   ]
  },
  {
   "cell_type": "code",
   "execution_count": null,
   "metadata": {},
   "outputs": [],
   "source": [
    "correlation_product_ID = correlation_matrix[product_ID]\n",
    "correlation_product_ID.shape"
   ]
  },
  {
   "cell_type": "code",
   "execution_count": null,
   "metadata": {},
   "outputs": [],
   "source": [
    "Recommend = list(X.index[correlation_product_ID > 0.90])\n",
    "\n",
    "# Removes the item already bought by the customer\n",
    "Recommend.remove(i) \n",
    "\n",
    "Recommend[0:9]"
   ]
  },
  {
   "cell_type": "markdown",
   "metadata": {},
   "source": [
    "## Item to item based recommendation system based on product description"
   ]
  },
  {
   "cell_type": "code",
   "execution_count": null,
   "metadata": {},
   "outputs": [],
   "source": [
    "itemset = retail[['StockCode','Description']]"
   ]
  },
  {
   "cell_type": "code",
   "execution_count": null,
   "metadata": {},
   "outputs": [],
   "source": [
    "itemset['Description']=itemset['Description'].astype(str)"
   ]
  },
  {
   "cell_type": "code",
   "execution_count": null,
   "metadata": {},
   "outputs": [],
   "source": [
    "#if not all(c.islower() for c in itemset['Description']):\n",
    "itemset['Description'] = [(np.where((x.isupper()),x, np.NaN)) for x in itemset['Description']]"
   ]
  },
  {
   "cell_type": "code",
   "execution_count": null,
   "metadata": {},
   "outputs": [],
   "source": [
    "itemset[itemset['Description'] =='nan']"
   ]
  },
  {
   "cell_type": "code",
   "execution_count": null,
   "metadata": {},
   "outputs": [],
   "source": [
    "# filling NANs with most frequent value \n",
    "\n",
    "df2 = itemset.groupby('StockCode')['Description'].apply(lambda x: x.fillna(x.mode().iloc[0])).reset_index(drop=True)\n",
    "\n",
    "df2 = df2.to_frame()"
   ]
  },
  {
   "cell_type": "code",
   "execution_count": null,
   "metadata": {},
   "outputs": [],
   "source": [
    "df2[df2['Description']=='nan']"
   ]
  },
  {
   "cell_type": "code",
   "execution_count": null,
   "metadata": {},
   "outputs": [],
   "source": [
    "product_descriptions = itemset.dropna()"
   ]
  },
  {
   "cell_type": "code",
   "execution_count": null,
   "metadata": {},
   "outputs": [],
   "source": [
    "product_descriptions.drop_duplicates(subset='StockCode',inplace=True)\n",
    "product_descriptions"
   ]
  },
  {
   "cell_type": "code",
   "execution_count": null,
   "metadata": {},
   "outputs": [],
   "source": [
    "desc=product_descriptions['Description'].astype(str)"
   ]
  },
  {
   "cell_type": "code",
   "execution_count": null,
   "metadata": {},
   "outputs": [],
   "source": [
    "vectorizer = TfidfVectorizer(stop_words='english')\n",
    "X1 = vectorizer.fit_transform(desc)\n",
    "X1"
   ]
  },
  {
   "cell_type": "code",
   "execution_count": null,
   "metadata": {},
   "outputs": [],
   "source": [
    "# Fitting K-Means to the dataset\n",
    "\n",
    "X=X1\n",
    "\n",
    "kmeans = KMeans(n_clusters = 10, init = 'k-means++')\n",
    "y_kmeans = kmeans.fit_predict(X)\n",
    "plt.plot(y_kmeans, \".\")\n",
    "plt.show()"
   ]
  },
  {
   "cell_type": "code",
   "execution_count": null,
   "metadata": {},
   "outputs": [],
   "source": [
    "def print_cluster(i):\n",
    "    print(\"Cluster %d:\" % i),\n",
    "    for ind in order_centroids[i, :10]:\n",
    "        print(' %s' % terms[ind]),\n",
    "    print"
   ]
  },
  {
   "cell_type": "markdown",
   "metadata": {},
   "source": [
    "Recommendation of product based on current product selected by user. Recommend related product based on frequently bought together"
   ]
  },
  {
   "cell_type": "code",
   "execution_count": null,
   "metadata": {},
   "outputs": [],
   "source": [
    "# # Optimal clusters is \n",
    "\n",
    "true_k = 10\n",
    "\n",
    "model = KMeans(n_clusters=true_k, init='k-means++', max_iter=100, n_init=1)\n",
    "model.fit(X1)\n",
    "\n",
    "print(\"Top terms per cluster:\")\n",
    "order_centroids = model.cluster_centers_.argsort()[:, ::-1]\n",
    "terms = vectorizer.get_feature_names()\n",
    "for i in range(true_k):\n",
    "    print_cluster(i)"
   ]
  },
  {
   "cell_type": "code",
   "execution_count": null,
   "metadata": {},
   "outputs": [],
   "source": [
    "def show_recommendations(product):\n",
    "    #print(\"Cluster ID:\")\n",
    "    Y = vectorizer.transform([product])\n",
    "    prediction = model.predict(Y)\n",
    "    #print(prediction)\n",
    "    print_cluster(prediction[0])"
   ]
  },
  {
   "cell_type": "code",
   "execution_count": null,
   "metadata": {},
   "outputs": [],
   "source": [
    "show_recommendations('water')"
   ]
  },
  {
   "cell_type": "markdown",
   "metadata": {},
   "source": [
    "## LightFM"
   ]
  },
  {
   "cell_type": "code",
   "execution_count": null,
   "metadata": {},
   "outputs": [],
   "source": [
    "from lightfm import LightFM\n",
    "from lightfm.evaluation import precision_at_k"
   ]
  },
  {
   "cell_type": "code",
   "execution_count": null,
   "metadata": {},
   "outputs": [],
   "source": [
    "items = retail[['StockCode','Description']]"
   ]
  },
  {
   "cell_type": "code",
   "execution_count": null,
   "metadata": {
    "scrolled": true
   },
   "outputs": [],
   "source": [
    "# interactions matrix\n",
    "interactions = ratings_utility_matrix"
   ]
  },
  {
   "cell_type": "code",
   "execution_count": null,
   "metadata": {},
   "outputs": [],
   "source": [
    "def create_user_dict(interactions):\n",
    "    '''\n",
    "    Function to create a user dictionary based on their index and number in interaction dataset\n",
    "    Required Input - \n",
    "        interactions - dataset create by create_interaction_matrix\n",
    "    Expected Output -\n",
    "        user_dict - Dictionary type output containing interaction_index as key and user_id as value\n",
    "    '''\n",
    "    user_id = list(interactions.index)\n",
    "    user_dict = {}\n",
    "    counter = 0 \n",
    "    for i in user_id:\n",
    "        user_dict[i] = counter\n",
    "        counter += 1\n",
    "    return user_dict\n",
    "    \n",
    "def create_item_dict(df,id_col,name_col):\n",
    "    '''\n",
    "    Function to create an item dictionary based on their item_id and item name\n",
    "    Required Input - \n",
    "        - df = Pandas dataframe with Item information\n",
    "        - id_col = Column name containing unique identifier for an item\n",
    "        - name_col = Column name containing name of the item\n",
    "    Expected Output -\n",
    "        item_dict = Dictionary type output containing item_id as key and item_name as value\n",
    "    '''\n",
    "    item_dict ={}\n",
    "    for i in range(df.shape[0]):\n",
    "        item_dict[(df.loc[i,id_col])] = df.loc[i,name_col]\n",
    "    return item_dict\n",
    "\n",
    "def runMF(interactions, n_components=30, loss='warp', k=15, epoch=30,n_jobs = 4):\n",
    "    '''\n",
    "    Function to run matrix-factorization algorithm\n",
    "    Required Input -\n",
    "        - interactions = dataset create by create_interaction_matrix\n",
    "        - n_components = number of embeddings you want to create to define Item and user\n",
    "        - loss = loss function other options are logistic, brp\n",
    "        - epoch = number of epochs to run \n",
    "        - n_jobs = number of cores used for execution \n",
    "    Expected Output  -\n",
    "        Model - Trained model\n",
    "    '''\n",
    "    x = sparse.csr_matrix(interactions.values)\n",
    "    model = LightFM(no_components= n_components, loss=loss,k=k)\n",
    "    model.fit(x,epochs=epoch,num_threads = n_jobs)\n",
    "    return model\n",
    "\n",
    "def sample_recommendation_user(model, interactions, user_id, user_dict, \n",
    "                               item_dict,threshold = 0,nrec_items = 10, show = True):\n",
    "    '''\n",
    "    Function to produce user recommendations\n",
    "    Required Input - \n",
    "        - model = Trained matrix factorization model\n",
    "        - interactions = dataset used for training the model\n",
    "        - user_id = user ID for which we need to generate recommendation\n",
    "        - user_dict = Dictionary type input containing interaction_index as key and user_id as value\n",
    "        - item_dict = Dictionary type input containing item_id as key and item_name as value\n",
    "        - threshold = value above which the rating is favorable in new interaction matrix\n",
    "        - nrec_items = Number of output recommendation needed\n",
    "    Expected Output - \n",
    "        - Prints list of items the given user has already bought\n",
    "        - Prints list of N recommended items  which user hopefully will be interested in\n",
    "    '''\n",
    "    n_users, n_items = interactions.shape\n",
    "    user_x = user_dict[user_id]\n",
    "    scores = pd.Series(model.predict(user_x,np.arange(n_items)))\n",
    "    scores.index = interactions.columns\n",
    "    scores = list(pd.Series(scores.sort_values(ascending=False).index))\n",
    "    \n",
    "    known_items = list(pd.Series(interactions.loc[user_id,:] \\\n",
    "                                 [interactions.loc[user_id,:] > threshold].index) \\\n",
    "                       .sort_values(ascending=False))\n",
    "    \n",
    "    scores = [x for x in scores if x not in known_items]\n",
    "    return_score_list = scores[0:nrec_items]\n",
    "    known_items = list(pd.Series(known_items).apply(lambda x: item_dict[x]))\n",
    "    scores = list(pd.Series(return_score_list).apply(lambda x: item_dict[x]))\n",
    "    if show == True:\n",
    "        print(\"Known Likes:\")\n",
    "        counter = 1\n",
    "        for i in known_items:\n",
    "            print(str(counter) + '- ' + i)\n",
    "            counter+=1\n",
    "\n",
    "        print(\"\\n Recommended Items:\")\n",
    "        counter = 1\n",
    "        for i in scores:\n",
    "            print(str(counter) + '- ' + i)\n",
    "            counter+=1\n",
    "    return return_score_list\n",
    "    \n",
    "\n",
    "def sample_recommendation_item(model,interactions,item_id,user_dict,item_dict,number_of_user):\n",
    "    '''\n",
    "    Funnction to produce a list of top N interested users for a given item\n",
    "    Required Input -\n",
    "        - model = Trained matrix factorization model\n",
    "        - interactions = dataset used for training the model\n",
    "        - item_id = item ID for which we need to generate recommended users\n",
    "        - user_dict =  Dictionary type input containing interaction_index as key and user_id as value\n",
    "        - item_dict = Dictionary type input containing item_id as key and item_name as value\n",
    "        - number_of_user = Number of users needed as an output\n",
    "    Expected Output -\n",
    "        - user_list = List of recommended users \n",
    "    '''\n",
    "    n_users, n_items = interactions.shape\n",
    "    x = np.array(interactions.columns)\n",
    "    scores = pd.Series(model.predict(np.arange(n_users), np.repeat(x.searchsorted(item_id),n_users)))\n",
    "    user_list = list(interactions.index[scores.sort_values(ascending=False).head(number_of_user).index])\n",
    "    return user_list \n",
    "\n",
    "\n",
    "def create_item_emdedding_distance_matrix(model,interactions):\n",
    "    '''\n",
    "    Function to create item-item distance embedding matrix\n",
    "    Required Input -\n",
    "        - model = Trained matrix factorization model\n",
    "        - interactions = dataset used for training the model\n",
    "    Expected Output -\n",
    "        - item_emdedding_distance_matrix = Pandas dataframe containing cosine distance matrix b/w items\n",
    "    '''\n",
    "    df_item_norm_sparse = sparse.csr_matrix(model.item_embeddings)\n",
    "    similarities = cosine_similarity(df_item_norm_sparse)\n",
    "    item_emdedding_distance_matrix = pd.DataFrame(similarities)\n",
    "    item_emdedding_distance_matrix.columns = interactions.columns\n",
    "    item_emdedding_distance_matrix.index = interactions.columns\n",
    "    return item_emdedding_distance_matrix\n",
    "\n",
    "def item_item_recommendation(item_emdedding_distance_matrix, item_id, \n",
    "                             item_dict, n_items = 10, show = True):\n",
    "    '''\n",
    "    Function to create item-item recommendation\n",
    "    Required Input - \n",
    "        - item_emdedding_distance_matrix = Pandas dataframe containing cosine distance matrix b/w items\n",
    "        - item_id  = item ID for which we need to generate recommended items\n",
    "        - item_dict = Dictionary type input containing item_id as key and item_name as value\n",
    "        - n_items = Number of items needed as an output\n",
    "    Expected Output -\n",
    "        - recommended_items = List of recommended items\n",
    "    '''\n",
    "    recommended_items = list(pd.Series(item_emdedding_distance_matrix.loc[item_id,:]. \\\n",
    "                                  sort_values(ascending = False).head(n_items+1). \\\n",
    "                                  index[1:n_items+1]))\n",
    "    if show == True:\n",
    "        print(\"Item of interest :{0}\".format(item_dict[item_id]))\n",
    "        print(\"Item similar to the above item:\")\n",
    "        counter = 1\n",
    "        for i in recommended_items:\n",
    "            print(str(counter) + '- ' +  item_dict[i])\n",
    "            counter+=1\n",
    "    return recommended_items"
   ]
  },
  {
   "cell_type": "code",
   "execution_count": null,
   "metadata": {},
   "outputs": [],
   "source": [
    "#create user dict\n",
    "user_dict = create_user_dict(interactions)\n",
    "\n",
    "#create item dict\n",
    "item_dict = create_item_dict(df = items,\n",
    "                               id_col = 'StockCode',\n",
    "                               name_col = 'Description')"
   ]
  },
  {
   "cell_type": "code",
   "execution_count": null,
   "metadata": {},
   "outputs": [],
   "source": [
    "# building matrix factorization model\n",
    "mf_model = runMF(interactions = interactions,\n",
    "                 n_components = 30,\n",
    "                 loss = 'warp',\n",
    "                 k = 15,\n",
    "                 epoch = 30,\n",
    "                 n_jobs = 4)"
   ]
  },
  {
   "cell_type": "code",
   "execution_count": null,
   "metadata": {},
   "outputs": [],
   "source": [
    "# user recommender\n",
    "rec_list = sample_recommendation_user(model = mf_model, \n",
    "                                      interactions = interactions, \n",
    "                                      user_id = 12346.0, \n",
    "                                      user_dict = user_dict,\n",
    "                                      item_dict = item_dict, \n",
    "                                      threshold = 4,\n",
    "                                      nrec_items = 10)"
   ]
  },
  {
   "cell_type": "code",
   "execution_count": null,
   "metadata": {},
   "outputs": [],
   "source": [
    "# item-user recommender\n",
    "sample_recommendation_item(model = mf_model,\n",
    "                           interactions = interactions,\n",
    "                           item_id = '10002',\n",
    "                           user_dict = user_dict,\n",
    "                           item_dict = item_dict,\n",
    "                           number_of_user = 15)"
   ]
  },
  {
   "cell_type": "code",
   "execution_count": null,
   "metadata": {},
   "outputs": [],
   "source": [
    "# item-item recommender\n",
    "item_item_dist = create_item_emdedding_distance_matrix(model = mf_model,\n",
    "                                                       interactions = interactions)"
   ]
  },
  {
   "cell_type": "code",
   "execution_count": null,
   "metadata": {},
   "outputs": [],
   "source": [
    "rec_list = item_item_recommendation(item_emdedding_distance_matrix = item_item_dist,\n",
    "                                    item_id = '15060B',\n",
    "                                    item_dict = item_dict,\n",
    "                                    n_items = 10)"
   ]
  },
  {
   "cell_type": "code",
   "execution_count": null,
   "metadata": {},
   "outputs": [],
   "source": [
    "# Evaluate the trained model"
   ]
  },
  {
   "cell_type": "code",
   "execution_count": null,
   "metadata": {},
   "outputs": [],
   "source": []
  }
 ],
 "metadata": {
  "kernelspec": {
   "display_name": "Python 3",
   "language": "python",
   "name": "python3"
  },
  "language_info": {
   "codemirror_mode": {
    "name": "ipython",
    "version": 3
   },
   "file_extension": ".py",
   "mimetype": "text/x-python",
   "name": "python",
   "nbconvert_exporter": "python",
   "pygments_lexer": "ipython3",
   "version": "3.8.3"
  }
 },
 "nbformat": 4,
 "nbformat_minor": 4
}
