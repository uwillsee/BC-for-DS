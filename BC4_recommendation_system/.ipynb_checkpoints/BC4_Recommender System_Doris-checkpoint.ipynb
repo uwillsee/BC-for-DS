{
 "cells": [
  {
   "cell_type": "code",
   "execution_count": null,
   "metadata": {},
   "outputs": [],
   "source": [
    "import os\n",
    "import pandas as pd\n",
    "import numpy as np\n",
    "import matplotlib.pyplot as plt\n",
    "from scipy.sparse import coo_matrix\n",
    "from implicit.als import AlternatingLeastSquares\n",
    "from implicit.evaluation import ranking_metrics_at_k\n",
    "from tqdm import tqdm\n",
    "import plotly.express as px\n",
    "\n",
    "# %matplotlib inline\n",
    "plt.style.use(\"ggplot\")\n",
    "\n",
    "import sklearn\n",
    "from sklearn.decomposition import TruncatedSVD"
   ]
  },
  {
   "cell_type": "code",
   "execution_count": 305,
   "metadata": {},
   "outputs": [],
   "source": [
    "#load data\n",
    "original_data= pd.read_csv('retail.csv')"
   ]
  },
  {
   "cell_type": "code",
   "execution_count": 306,
   "metadata": {},
   "outputs": [],
   "source": [
    "data = original_data.copy()"
   ]
  },
  {
   "cell_type": "code",
   "execution_count": 307,
   "metadata": {},
   "outputs": [
    {
     "data": {
      "text/html": [
       "<div>\n",
       "<style scoped>\n",
       "    .dataframe tbody tr th:only-of-type {\n",
       "        vertical-align: middle;\n",
       "    }\n",
       "\n",
       "    .dataframe tbody tr th {\n",
       "        vertical-align: top;\n",
       "    }\n",
       "\n",
       "    .dataframe thead th {\n",
       "        text-align: right;\n",
       "    }\n",
       "</style>\n",
       "<table border=\"1\" class=\"dataframe\">\n",
       "  <thead>\n",
       "    <tr style=\"text-align: right;\">\n",
       "      <th></th>\n",
       "      <th>InvoiceNo</th>\n",
       "      <th>StockCode</th>\n",
       "      <th>Description</th>\n",
       "      <th>Quantity</th>\n",
       "      <th>InvoiceDate</th>\n",
       "      <th>UnitPrice</th>\n",
       "      <th>CustomerID</th>\n",
       "      <th>Country</th>\n",
       "    </tr>\n",
       "  </thead>\n",
       "  <tbody>\n",
       "    <tr>\n",
       "      <th>0</th>\n",
       "      <td>536365</td>\n",
       "      <td>85123A</td>\n",
       "      <td>WHITE HANGING HEART T-LIGHT HOLDER</td>\n",
       "      <td>6</td>\n",
       "      <td>12/1/2010 8:26</td>\n",
       "      <td>2.55</td>\n",
       "      <td>17850.0</td>\n",
       "      <td>United Kingdom</td>\n",
       "    </tr>\n",
       "    <tr>\n",
       "      <th>1</th>\n",
       "      <td>536365</td>\n",
       "      <td>71053</td>\n",
       "      <td>WHITE METAL LANTERN</td>\n",
       "      <td>6</td>\n",
       "      <td>12/1/2010 8:26</td>\n",
       "      <td>3.39</td>\n",
       "      <td>17850.0</td>\n",
       "      <td>United Kingdom</td>\n",
       "    </tr>\n",
       "    <tr>\n",
       "      <th>2</th>\n",
       "      <td>536365</td>\n",
       "      <td>84406B</td>\n",
       "      <td>CREAM CUPID HEARTS COAT HANGER</td>\n",
       "      <td>8</td>\n",
       "      <td>12/1/2010 8:26</td>\n",
       "      <td>2.75</td>\n",
       "      <td>17850.0</td>\n",
       "      <td>United Kingdom</td>\n",
       "    </tr>\n",
       "    <tr>\n",
       "      <th>3</th>\n",
       "      <td>536365</td>\n",
       "      <td>84029G</td>\n",
       "      <td>KNITTED UNION FLAG HOT WATER BOTTLE</td>\n",
       "      <td>6</td>\n",
       "      <td>12/1/2010 8:26</td>\n",
       "      <td>3.39</td>\n",
       "      <td>17850.0</td>\n",
       "      <td>United Kingdom</td>\n",
       "    </tr>\n",
       "    <tr>\n",
       "      <th>4</th>\n",
       "      <td>536365</td>\n",
       "      <td>84029E</td>\n",
       "      <td>RED WOOLLY HOTTIE WHITE HEART.</td>\n",
       "      <td>6</td>\n",
       "      <td>12/1/2010 8:26</td>\n",
       "      <td>3.39</td>\n",
       "      <td>17850.0</td>\n",
       "      <td>United Kingdom</td>\n",
       "    </tr>\n",
       "  </tbody>\n",
       "</table>\n",
       "</div>"
      ],
      "text/plain": [
       "  InvoiceNo StockCode                          Description  Quantity  \\\n",
       "0    536365    85123A   WHITE HANGING HEART T-LIGHT HOLDER         6   \n",
       "1    536365     71053                  WHITE METAL LANTERN         6   \n",
       "2    536365    84406B       CREAM CUPID HEARTS COAT HANGER         8   \n",
       "3    536365    84029G  KNITTED UNION FLAG HOT WATER BOTTLE         6   \n",
       "4    536365    84029E       RED WOOLLY HOTTIE WHITE HEART.         6   \n",
       "\n",
       "      InvoiceDate  UnitPrice  CustomerID         Country  \n",
       "0  12/1/2010 8:26       2.55     17850.0  United Kingdom  \n",
       "1  12/1/2010 8:26       3.39     17850.0  United Kingdom  \n",
       "2  12/1/2010 8:26       2.75     17850.0  United Kingdom  \n",
       "3  12/1/2010 8:26       3.39     17850.0  United Kingdom  \n",
       "4  12/1/2010 8:26       3.39     17850.0  United Kingdom  "
      ]
     },
     "execution_count": 307,
     "metadata": {},
     "output_type": "execute_result"
    }
   ],
   "source": [
    "#check the top of the dataframe\n",
    "data.head()"
   ]
  },
  {
   "cell_type": "code",
   "execution_count": 308,
   "metadata": {},
   "outputs": [
    {
     "data": {
      "text/plain": [
       "(541909, 8)"
      ]
     },
     "execution_count": 308,
     "metadata": {},
     "output_type": "execute_result"
    }
   ],
   "source": [
    "data.shape"
   ]
  },
  {
   "cell_type": "code",
   "execution_count": 309,
   "metadata": {},
   "outputs": [],
   "source": [
    "# Correctly encode the variables\n",
    "data['InvoiceDate'] = pd.to_datetime(data['InvoiceDate'])\n",
    "data = data.astype({'CustomerID': object})"
   ]
  },
  {
   "cell_type": "code",
   "execution_count": 310,
   "metadata": {},
   "outputs": [
    {
     "name": "stdout",
     "output_type": "stream",
     "text": [
      "<class 'pandas.core.frame.DataFrame'>\n",
      "RangeIndex: 541909 entries, 0 to 541908\n",
      "Data columns (total 8 columns):\n",
      " #   Column       Non-Null Count   Dtype         \n",
      "---  ------       --------------   -----         \n",
      " 0   InvoiceNo    541909 non-null  object        \n",
      " 1   StockCode    541909 non-null  object        \n",
      " 2   Description  540455 non-null  object        \n",
      " 3   Quantity     541909 non-null  int64         \n",
      " 4   InvoiceDate  541909 non-null  datetime64[ns]\n",
      " 5   UnitPrice    541909 non-null  float64       \n",
      " 6   CustomerID   406829 non-null  object        \n",
      " 7   Country      541909 non-null  object        \n",
      "dtypes: datetime64[ns](1), float64(1), int64(1), object(5)\n",
      "memory usage: 33.1+ MB\n"
     ]
    }
   ],
   "source": [
    "data.info()"
   ]
  },
  {
   "cell_type": "code",
   "execution_count": 311,
   "metadata": {},
   "outputs": [
    {
     "data": {
      "text/html": [
       "<div>\n",
       "<style scoped>\n",
       "    .dataframe tbody tr th:only-of-type {\n",
       "        vertical-align: middle;\n",
       "    }\n",
       "\n",
       "    .dataframe tbody tr th {\n",
       "        vertical-align: top;\n",
       "    }\n",
       "\n",
       "    .dataframe thead th {\n",
       "        text-align: right;\n",
       "    }\n",
       "</style>\n",
       "<table border=\"1\" class=\"dataframe\">\n",
       "  <thead>\n",
       "    <tr style=\"text-align: right;\">\n",
       "      <th></th>\n",
       "      <th>InvoiceNo</th>\n",
       "      <th>StockCode</th>\n",
       "      <th>Description</th>\n",
       "      <th>Quantity</th>\n",
       "      <th>InvoiceDate</th>\n",
       "      <th>UnitPrice</th>\n",
       "      <th>CustomerID</th>\n",
       "      <th>Country</th>\n",
       "    </tr>\n",
       "  </thead>\n",
       "  <tbody>\n",
       "    <tr>\n",
       "      <th>count</th>\n",
       "      <td>541909</td>\n",
       "      <td>541909</td>\n",
       "      <td>540455</td>\n",
       "      <td>541909.000000</td>\n",
       "      <td>541909</td>\n",
       "      <td>541909.000000</td>\n",
       "      <td>406829.0</td>\n",
       "      <td>541909</td>\n",
       "    </tr>\n",
       "    <tr>\n",
       "      <th>unique</th>\n",
       "      <td>25900</td>\n",
       "      <td>4070</td>\n",
       "      <td>4223</td>\n",
       "      <td>NaN</td>\n",
       "      <td>23260</td>\n",
       "      <td>NaN</td>\n",
       "      <td>4372.0</td>\n",
       "      <td>38</td>\n",
       "    </tr>\n",
       "    <tr>\n",
       "      <th>top</th>\n",
       "      <td>573585</td>\n",
       "      <td>85123A</td>\n",
       "      <td>WHITE HANGING HEART T-LIGHT HOLDER</td>\n",
       "      <td>NaN</td>\n",
       "      <td>2011-10-31 14:41:00</td>\n",
       "      <td>NaN</td>\n",
       "      <td>17841.0</td>\n",
       "      <td>United Kingdom</td>\n",
       "    </tr>\n",
       "    <tr>\n",
       "      <th>freq</th>\n",
       "      <td>1114</td>\n",
       "      <td>2313</td>\n",
       "      <td>2369</td>\n",
       "      <td>NaN</td>\n",
       "      <td>1114</td>\n",
       "      <td>NaN</td>\n",
       "      <td>7983.0</td>\n",
       "      <td>495478</td>\n",
       "    </tr>\n",
       "    <tr>\n",
       "      <th>first</th>\n",
       "      <td>NaN</td>\n",
       "      <td>NaN</td>\n",
       "      <td>NaN</td>\n",
       "      <td>NaN</td>\n",
       "      <td>2010-12-01 08:26:00</td>\n",
       "      <td>NaN</td>\n",
       "      <td>NaN</td>\n",
       "      <td>NaN</td>\n",
       "    </tr>\n",
       "    <tr>\n",
       "      <th>last</th>\n",
       "      <td>NaN</td>\n",
       "      <td>NaN</td>\n",
       "      <td>NaN</td>\n",
       "      <td>NaN</td>\n",
       "      <td>2011-12-09 12:50:00</td>\n",
       "      <td>NaN</td>\n",
       "      <td>NaN</td>\n",
       "      <td>NaN</td>\n",
       "    </tr>\n",
       "    <tr>\n",
       "      <th>mean</th>\n",
       "      <td>NaN</td>\n",
       "      <td>NaN</td>\n",
       "      <td>NaN</td>\n",
       "      <td>9.552250</td>\n",
       "      <td>NaN</td>\n",
       "      <td>4.611114</td>\n",
       "      <td>NaN</td>\n",
       "      <td>NaN</td>\n",
       "    </tr>\n",
       "    <tr>\n",
       "      <th>std</th>\n",
       "      <td>NaN</td>\n",
       "      <td>NaN</td>\n",
       "      <td>NaN</td>\n",
       "      <td>218.081158</td>\n",
       "      <td>NaN</td>\n",
       "      <td>96.759853</td>\n",
       "      <td>NaN</td>\n",
       "      <td>NaN</td>\n",
       "    </tr>\n",
       "    <tr>\n",
       "      <th>min</th>\n",
       "      <td>NaN</td>\n",
       "      <td>NaN</td>\n",
       "      <td>NaN</td>\n",
       "      <td>-80995.000000</td>\n",
       "      <td>NaN</td>\n",
       "      <td>-11062.060000</td>\n",
       "      <td>NaN</td>\n",
       "      <td>NaN</td>\n",
       "    </tr>\n",
       "    <tr>\n",
       "      <th>25%</th>\n",
       "      <td>NaN</td>\n",
       "      <td>NaN</td>\n",
       "      <td>NaN</td>\n",
       "      <td>1.000000</td>\n",
       "      <td>NaN</td>\n",
       "      <td>1.250000</td>\n",
       "      <td>NaN</td>\n",
       "      <td>NaN</td>\n",
       "    </tr>\n",
       "    <tr>\n",
       "      <th>50%</th>\n",
       "      <td>NaN</td>\n",
       "      <td>NaN</td>\n",
       "      <td>NaN</td>\n",
       "      <td>3.000000</td>\n",
       "      <td>NaN</td>\n",
       "      <td>2.080000</td>\n",
       "      <td>NaN</td>\n",
       "      <td>NaN</td>\n",
       "    </tr>\n",
       "    <tr>\n",
       "      <th>75%</th>\n",
       "      <td>NaN</td>\n",
       "      <td>NaN</td>\n",
       "      <td>NaN</td>\n",
       "      <td>10.000000</td>\n",
       "      <td>NaN</td>\n",
       "      <td>4.130000</td>\n",
       "      <td>NaN</td>\n",
       "      <td>NaN</td>\n",
       "    </tr>\n",
       "    <tr>\n",
       "      <th>max</th>\n",
       "      <td>NaN</td>\n",
       "      <td>NaN</td>\n",
       "      <td>NaN</td>\n",
       "      <td>80995.000000</td>\n",
       "      <td>NaN</td>\n",
       "      <td>38970.000000</td>\n",
       "      <td>NaN</td>\n",
       "      <td>NaN</td>\n",
       "    </tr>\n",
       "  </tbody>\n",
       "</table>\n",
       "</div>"
      ],
      "text/plain": [
       "       InvoiceNo StockCode                         Description       Quantity  \\\n",
       "count     541909    541909                              540455  541909.000000   \n",
       "unique     25900      4070                                4223            NaN   \n",
       "top       573585    85123A  WHITE HANGING HEART T-LIGHT HOLDER            NaN   \n",
       "freq        1114      2313                                2369            NaN   \n",
       "first        NaN       NaN                                 NaN            NaN   \n",
       "last         NaN       NaN                                 NaN            NaN   \n",
       "mean         NaN       NaN                                 NaN       9.552250   \n",
       "std          NaN       NaN                                 NaN     218.081158   \n",
       "min          NaN       NaN                                 NaN  -80995.000000   \n",
       "25%          NaN       NaN                                 NaN       1.000000   \n",
       "50%          NaN       NaN                                 NaN       3.000000   \n",
       "75%          NaN       NaN                                 NaN      10.000000   \n",
       "max          NaN       NaN                                 NaN   80995.000000   \n",
       "\n",
       "                InvoiceDate      UnitPrice  CustomerID         Country  \n",
       "count                541909  541909.000000    406829.0          541909  \n",
       "unique                23260            NaN      4372.0              38  \n",
       "top     2011-10-31 14:41:00            NaN     17841.0  United Kingdom  \n",
       "freq                   1114            NaN      7983.0          495478  \n",
       "first   2010-12-01 08:26:00            NaN         NaN             NaN  \n",
       "last    2011-12-09 12:50:00            NaN         NaN             NaN  \n",
       "mean                    NaN       4.611114         NaN             NaN  \n",
       "std                     NaN      96.759853         NaN             NaN  \n",
       "min                     NaN  -11062.060000         NaN             NaN  \n",
       "25%                     NaN       1.250000         NaN             NaN  \n",
       "50%                     NaN       2.080000         NaN             NaN  \n",
       "75%                     NaN       4.130000         NaN             NaN  \n",
       "max                     NaN   38970.000000         NaN             NaN  "
      ]
     },
     "execution_count": 311,
     "metadata": {},
     "output_type": "execute_result"
    }
   ],
   "source": [
    "# Describe dataset\n",
    "data.describe(include='all')"
   ]
  },
  {
   "cell_type": "code",
   "execution_count": 312,
   "metadata": {},
   "outputs": [
    {
     "data": {
      "text/plain": [
       "4070"
      ]
     },
     "execution_count": 312,
     "metadata": {},
     "output_type": "execute_result"
    }
   ],
   "source": [
    "# number of unique items\n",
    "data['StockCode'].nunique()"
   ]
  },
  {
   "cell_type": "code",
   "execution_count": 313,
   "metadata": {},
   "outputs": [
    {
     "data": {
      "text/plain": [
       "<matplotlib.axes._subplots.AxesSubplot at 0x1c5cf4dc250>"
      ]
     },
     "execution_count": 313,
     "metadata": {},
     "output_type": "execute_result"
    },
    {
     "data": {
      "image/png": "[encoded data removed]",
      "text/plain": [
       "<Figure size 432x288 with 1 Axes>"
      ]
     },
     "metadata": {},
     "output_type": "display_data"
    }
   ],
   "source": [
    "data['StockCode'].value_counts().head(30).plot(kind='bar')"
   ]
  },
  {
   "cell_type": "code",
   "execution_count": 314,
   "metadata": {},
   "outputs": [
    {
     "data": {
      "text/plain": [
       "<matplotlib.axes._subplots.AxesSubplot at 0x1c609a56d30>"
      ]
     },
     "execution_count": 314,
     "metadata": {},
     "output_type": "execute_result"
    },
    {
     "data": {
      "image/png": "[encoded data removed]",
      "text/plain": [
       "<Figure size 432x288 with 1 Axes>"
      ]
     },
     "metadata": {},
     "output_type": "display_data"
    }
   ],
   "source": [
    "data.groupby(['StockCode'])['Quantity'].sum().sort_values(ascending=False).head(30).plot(kind='bar')"
   ]
  },
  {
   "cell_type": "code",
   "execution_count": 315,
   "metadata": {},
   "outputs": [
    {
     "data": {
      "text/plain": [
       "4372"
      ]
     },
     "execution_count": 315,
     "metadata": {},
     "output_type": "execute_result"
    }
   ],
   "source": [
    "# number of customers\n",
    "data['CustomerID'].nunique()"
   ]
  },
  {
   "cell_type": "code",
   "execution_count": 316,
   "metadata": {},
   "outputs": [
    {
     "data": {
      "text/plain": [
       "United Kingdom          495478\n",
       "Germany                   9495\n",
       "France                    8557\n",
       "EIRE                      8196\n",
       "Spain                     2533\n",
       "Netherlands               2371\n",
       "Belgium                   2069\n",
       "Switzerland               2002\n",
       "Portugal                  1519\n",
       "Australia                 1259\n",
       "Norway                    1086\n",
       "Italy                      803\n",
       "Channel Islands            758\n",
       "Finland                    695\n",
       "Cyprus                     622\n",
       "Sweden                     462\n",
       "Unspecified                446\n",
       "Austria                    401\n",
       "Denmark                    389\n",
       "Japan                      358\n",
       "Poland                     341\n",
       "Israel                     297\n",
       "USA                        291\n",
       "Hong Kong                  288\n",
       "Singapore                  229\n",
       "Iceland                    182\n",
       "Canada                     151\n",
       "Greece                     146\n",
       "Malta                      127\n",
       "United Arab Emirates        68\n",
       "European Community          61\n",
       "RSA                         58\n",
       "Lebanon                     45\n",
       "Lithuania                   35\n",
       "Brazil                      32\n",
       "Czech Republic              30\n",
       "Bahrain                     19\n",
       "Saudi Arabia                10\n",
       "Name: Country, dtype: int64"
      ]
     },
     "execution_count": 316,
     "metadata": {},
     "output_type": "execute_result"
    }
   ],
   "source": [
    "data['Country'].value_counts()"
   ]
  },
  {
   "cell_type": "code",
   "execution_count": 317,
   "metadata": {},
   "outputs": [
    {
     "data": {
      "text/plain": [
       "WHITE HANGING HEART T-LIGHT HOLDER    2369\n",
       "REGENCY CAKESTAND 3 TIER              2200\n",
       "JUMBO BAG RED RETROSPOT               2159\n",
       "PARTY BUNTING                         1727\n",
       "LUNCH BAG RED RETROSPOT               1638\n",
       "                                      ... \n",
       "Found in w/hse                           1\n",
       "wrongly sold sets                        1\n",
       "sold as 22467                            1\n",
       "GREEN PENDANT SHELL NECKLACE             1\n",
       "rusty thrown away                        1\n",
       "Name: Description, Length: 4223, dtype: int64"
      ]
     },
     "execution_count": 317,
     "metadata": {},
     "output_type": "execute_result"
    }
   ],
   "source": [
    "# address incorrect product descriptions\n",
    "data['Description'].value_counts()"
   ]
  },
  {
   "cell_type": "code",
   "execution_count": 318,
   "metadata": {},
   "outputs": [
    {
     "data": {
      "text/plain": [
       "InvoiceNo           0\n",
       "StockCode           0\n",
       "Description      1454\n",
       "Quantity            0\n",
       "InvoiceDate         0\n",
       "UnitPrice           0\n",
       "CustomerID     135080\n",
       "Country             0\n",
       "dtype: int64"
      ]
     },
     "execution_count": 318,
     "metadata": {},
     "output_type": "execute_result"
    }
   ],
   "source": [
    "#Number of missing values in each feature\n",
    "data.isna().sum()"
   ]
  },
  {
   "cell_type": "code",
   "execution_count": 319,
   "metadata": {},
   "outputs": [],
   "source": [
    "data = data.dropna(subset=['CustomerID'])"
   ]
  },
  {
   "cell_type": "code",
   "execution_count": 320,
   "metadata": {},
   "outputs": [],
   "source": [
    "data = data.groupby('CustomerID').filter(lambda x: len(x) > 1)"
   ]
  },
  {
   "cell_type": "code",
   "execution_count": 321,
   "metadata": {
    "scrolled": false
   },
   "outputs": [
    {
     "data": {
      "image/png": "[encoded data removed]",
      "text/plain": [
       "<Figure size 1224x360 with 2 Axes>"
      ]
     },
     "metadata": {},
     "output_type": "display_data"
    },
    {
     "name": "stdout",
     "output_type": "stream",
     "text": [
      "100.00% of customers have more than 1 purchase!\n"
     ]
    }
   ],
   "source": [
    "# Distribution of number of purchases\n",
    "data1 = data['CustomerID'].value_counts()  # count of events per visitorid\n",
    "data2 = data1.value_counts(normalize=True)[:9]\n",
    "data2[10] = data1.value_counts(normalize=True)[9:].sum()  # count of counts of events per visitorid\n",
    "\n",
    "fig, (ax1, ax2) = plt.subplots(1, 2, figsize=(17,5))\n",
    "ax1.boxplot(data1)\n",
    "ax2.bar(data2.index, data2.values)\n",
    "\n",
    "ax2.set_xticks(list(range(1,11)))\n",
    "ax2.set_xticklabels(list(range(1,10)) +['10+'])\n",
    "fig.suptitle(\"Distribution of number of visitor events\")\n",
    "\n",
    "plt.show()\n",
    "print(\"{0:.2f}% of customers have more than 1 purchase!\".format(100 * (np.sum(data1 > 1) / data1.shape[0])))"
   ]
  },
  {
   "cell_type": "code",
   "execution_count": 322,
   "metadata": {},
   "outputs": [
    {
     "data": {
      "image/png": "[encoded data removed]",
      "text/plain": [
       "<Figure size 1224x360 with 2 Axes>"
      ]
     },
     "metadata": {},
     "output_type": "display_data"
    },
    {
     "name": "stdout",
     "output_type": "stream",
     "text": [
      "95.63% of items have more than 1 event!\n"
     ]
    }
   ],
   "source": [
    "# Distribution of number of item events\n",
    "data1 = data['StockCode'].value_counts()  # count of events per item\n",
    "data2 = data1.value_counts(normalize=True)[:9]\n",
    "data2[10] = data1.value_counts(normalize=True)[9:].sum()  # count of counts of events per visitorid\n",
    "\n",
    "fig, (ax1, ax2) = plt.subplots(1, 2, figsize=(17,5))\n",
    "ax1.boxplot(data1)\n",
    "ax2.bar(data2.index, data2.values)\n",
    "\n",
    "ax2.set_xticks(list(range(1,11)))\n",
    "ax2.set_xticklabels(list(range(1,10)) +['10+'])\n",
    "fig.suptitle(\"Distribution of number of item events\")\n",
    "\n",
    "plt.show()\n",
    "print(\"{0:.2f}% of items have more than 1 event!\".format(100 * (np.sum(data1 > 1) / data1.shape[0])))"
   ]
  },
  {
   "cell_type": "code",
   "execution_count": 323,
   "metadata": {},
   "outputs": [
    {
     "data": {
      "text/plain": [
       "(406750, 8)"
      ]
     },
     "execution_count": 323,
     "metadata": {},
     "output_type": "execute_result"
    }
   ],
   "source": [
    "data.shape"
   ]
  },
  {
   "cell_type": "code",
   "execution_count": 330,
   "metadata": {},
   "outputs": [
    {
     "data": {
      "text/html": [
       "<div>\n",
       "<style scoped>\n",
       "    .dataframe tbody tr th:only-of-type {\n",
       "        vertical-align: middle;\n",
       "    }\n",
       "\n",
       "    .dataframe tbody tr th {\n",
       "        vertical-align: top;\n",
       "    }\n",
       "\n",
       "    .dataframe thead th {\n",
       "        text-align: right;\n",
       "    }\n",
       "</style>\n",
       "<table border=\"1\" class=\"dataframe\">\n",
       "  <thead>\n",
       "    <tr style=\"text-align: right;\">\n",
       "      <th></th>\n",
       "      <th>InvoiceNo</th>\n",
       "      <th>StockCode</th>\n",
       "      <th>Description</th>\n",
       "      <th>Quantity</th>\n",
       "      <th>InvoiceDate</th>\n",
       "      <th>UnitPrice</th>\n",
       "      <th>CustomerID</th>\n",
       "      <th>Country</th>\n",
       "    </tr>\n",
       "  </thead>\n",
       "  <tbody>\n",
       "    <tr>\n",
       "      <th>141</th>\n",
       "      <td>C536379</td>\n",
       "      <td>D</td>\n",
       "      <td>Discount</td>\n",
       "      <td>-1</td>\n",
       "      <td>2010-12-01 09:41:00</td>\n",
       "      <td>27.50</td>\n",
       "      <td>14527</td>\n",
       "      <td>United Kingdom</td>\n",
       "    </tr>\n",
       "    <tr>\n",
       "      <th>154</th>\n",
       "      <td>C536383</td>\n",
       "      <td>35004C</td>\n",
       "      <td>SET OF 3 COLOURED  FLYING DUCKS</td>\n",
       "      <td>-1</td>\n",
       "      <td>2010-12-01 09:49:00</td>\n",
       "      <td>4.65</td>\n",
       "      <td>15311</td>\n",
       "      <td>United Kingdom</td>\n",
       "    </tr>\n",
       "    <tr>\n",
       "      <th>235</th>\n",
       "      <td>C536391</td>\n",
       "      <td>22556</td>\n",
       "      <td>PLASTERS IN TIN CIRCUS PARADE</td>\n",
       "      <td>-12</td>\n",
       "      <td>2010-12-01 10:24:00</td>\n",
       "      <td>1.65</td>\n",
       "      <td>17548</td>\n",
       "      <td>United Kingdom</td>\n",
       "    </tr>\n",
       "    <tr>\n",
       "      <th>236</th>\n",
       "      <td>C536391</td>\n",
       "      <td>21984</td>\n",
       "      <td>PACK OF 12 PINK PAISLEY TISSUES</td>\n",
       "      <td>-24</td>\n",
       "      <td>2010-12-01 10:24:00</td>\n",
       "      <td>0.29</td>\n",
       "      <td>17548</td>\n",
       "      <td>United Kingdom</td>\n",
       "    </tr>\n",
       "    <tr>\n",
       "      <th>237</th>\n",
       "      <td>C536391</td>\n",
       "      <td>21983</td>\n",
       "      <td>PACK OF 12 BLUE PAISLEY TISSUES</td>\n",
       "      <td>-24</td>\n",
       "      <td>2010-12-01 10:24:00</td>\n",
       "      <td>0.29</td>\n",
       "      <td>17548</td>\n",
       "      <td>United Kingdom</td>\n",
       "    </tr>\n",
       "    <tr>\n",
       "      <th>...</th>\n",
       "      <td>...</td>\n",
       "      <td>...</td>\n",
       "      <td>...</td>\n",
       "      <td>...</td>\n",
       "      <td>...</td>\n",
       "      <td>...</td>\n",
       "      <td>...</td>\n",
       "      <td>...</td>\n",
       "    </tr>\n",
       "    <tr>\n",
       "      <th>540449</th>\n",
       "      <td>C581490</td>\n",
       "      <td>23144</td>\n",
       "      <td>ZINC T-LIGHT HOLDER STARS SMALL</td>\n",
       "      <td>-11</td>\n",
       "      <td>2011-12-09 09:57:00</td>\n",
       "      <td>0.83</td>\n",
       "      <td>14397</td>\n",
       "      <td>United Kingdom</td>\n",
       "    </tr>\n",
       "    <tr>\n",
       "      <th>541541</th>\n",
       "      <td>C581499</td>\n",
       "      <td>M</td>\n",
       "      <td>Manual</td>\n",
       "      <td>-1</td>\n",
       "      <td>2011-12-09 10:28:00</td>\n",
       "      <td>224.69</td>\n",
       "      <td>15498</td>\n",
       "      <td>United Kingdom</td>\n",
       "    </tr>\n",
       "    <tr>\n",
       "      <th>541715</th>\n",
       "      <td>C581568</td>\n",
       "      <td>21258</td>\n",
       "      <td>VICTORIAN SEWING BOX LARGE</td>\n",
       "      <td>-5</td>\n",
       "      <td>2011-12-09 11:57:00</td>\n",
       "      <td>10.95</td>\n",
       "      <td>15311</td>\n",
       "      <td>United Kingdom</td>\n",
       "    </tr>\n",
       "    <tr>\n",
       "      <th>541716</th>\n",
       "      <td>C581569</td>\n",
       "      <td>84978</td>\n",
       "      <td>HANGING HEART JAR T-LIGHT HOLDER</td>\n",
       "      <td>-1</td>\n",
       "      <td>2011-12-09 11:58:00</td>\n",
       "      <td>1.25</td>\n",
       "      <td>17315</td>\n",
       "      <td>United Kingdom</td>\n",
       "    </tr>\n",
       "    <tr>\n",
       "      <th>541717</th>\n",
       "      <td>C581569</td>\n",
       "      <td>20979</td>\n",
       "      <td>36 PENCILS TUBE RED RETROSPOT</td>\n",
       "      <td>-5</td>\n",
       "      <td>2011-12-09 11:58:00</td>\n",
       "      <td>1.25</td>\n",
       "      <td>17315</td>\n",
       "      <td>United Kingdom</td>\n",
       "    </tr>\n",
       "  </tbody>\n",
       "</table>\n",
       "<p>8887 rows × 8 columns</p>\n",
       "</div>"
      ],
      "text/plain": [
       "       InvoiceNo StockCode                       Description  Quantity  \\\n",
       "141      C536379         D                          Discount        -1   \n",
       "154      C536383    35004C   SET OF 3 COLOURED  FLYING DUCKS        -1   \n",
       "235      C536391     22556    PLASTERS IN TIN CIRCUS PARADE        -12   \n",
       "236      C536391     21984  PACK OF 12 PINK PAISLEY TISSUES        -24   \n",
       "237      C536391     21983  PACK OF 12 BLUE PAISLEY TISSUES        -24   \n",
       "...          ...       ...                               ...       ...   \n",
       "540449   C581490     23144   ZINC T-LIGHT HOLDER STARS SMALL       -11   \n",
       "541541   C581499         M                            Manual        -1   \n",
       "541715   C581568     21258        VICTORIAN SEWING BOX LARGE        -5   \n",
       "541716   C581569     84978  HANGING HEART JAR T-LIGHT HOLDER        -1   \n",
       "541717   C581569     20979     36 PENCILS TUBE RED RETROSPOT        -5   \n",
       "\n",
       "               InvoiceDate  UnitPrice CustomerID         Country  \n",
       "141    2010-12-01 09:41:00      27.50      14527  United Kingdom  \n",
       "154    2010-12-01 09:49:00       4.65      15311  United Kingdom  \n",
       "235    2010-12-01 10:24:00       1.65      17548  United Kingdom  \n",
       "236    2010-12-01 10:24:00       0.29      17548  United Kingdom  \n",
       "237    2010-12-01 10:24:00       0.29      17548  United Kingdom  \n",
       "...                    ...        ...        ...             ...  \n",
       "540449 2011-12-09 09:57:00       0.83      14397  United Kingdom  \n",
       "541541 2011-12-09 10:28:00     224.69      15498  United Kingdom  \n",
       "541715 2011-12-09 11:57:00      10.95      15311  United Kingdom  \n",
       "541716 2011-12-09 11:58:00       1.25      17315  United Kingdom  \n",
       "541717 2011-12-09 11:58:00       1.25      17315  United Kingdom  \n",
       "\n",
       "[8887 rows x 8 columns]"
      ]
     },
     "execution_count": 330,
     "metadata": {},
     "output_type": "execute_result"
    }
   ],
   "source": [
    "# canceled orders\n",
    "data[data['InvoiceNo'].str.startswith('C')]"
   ]
  },
  {
   "cell_type": "code",
   "execution_count": 332,
   "metadata": {},
   "outputs": [],
   "source": [
    "# remove those with quantities below 0 - canceled orders\n",
    "data = data[~data['Quantity'] < 0 ]"
   ]
  },
  {
   "cell_type": "code",
   "execution_count": 333,
   "metadata": {},
   "outputs": [
    {
     "data": {
      "text/plain": [
       "1        73312\n",
       "2        58001\n",
       "3        26947\n",
       "4        32178\n",
       "5         8149\n",
       "         ...  \n",
       "3186         1\n",
       "3906         1\n",
       "4800         1\n",
       "74215        1\n",
       "80995        1\n",
       "Name: Quantity, Length: 299, dtype: int64"
      ]
     },
     "execution_count": 333,
     "metadata": {},
     "output_type": "execute_result"
    }
   ],
   "source": [
    "data['Quantity'].value_counts().sort_index()"
   ]
  },
  {
   "cell_type": "code",
   "execution_count": 339,
   "metadata": {},
   "outputs": [
    {
     "data": {
      "text/plain": [
       "397824"
      ]
     },
     "execution_count": 339,
     "metadata": {},
     "output_type": "execute_result"
    }
   ],
   "source": [
    "data.shape[0]"
   ]
  },
  {
   "cell_type": "code",
   "execution_count": 340,
   "metadata": {},
   "outputs": [
    {
     "data": {
      "image/png": "[encoded data removed]",
      "text/plain": [
       "<Figure size 864x432 with 1 Axes>"
      ]
     },
     "metadata": {},
     "output_type": "display_data"
    }
   ],
   "source": [
    "# Visualize number of events per day\n",
    "df = pd.DatetimeIndex(data['InvoiceDate']).normalize().value_counts().sort_index()\n",
    "fig = plt.figure(figsize=(12,6))\n",
    "plt.plot(df.index, df.values, linestyle=\"-\")\n",
    "plt.xticks(np.arange(df.index[0], df.index[-1], pd.to_timedelta(7, unit='d')), rotation=45)\n",
    "plt.title('Event frequency time series')\n",
    "plt.show()"
   ]
  },
  {
   "cell_type": "code",
   "execution_count": 341,
   "metadata": {},
   "outputs": [
    {
     "name": "stdout",
     "output_type": "stream",
     "text": [
      "The dataset has 373 days, corresponding to 53 weeks.\n"
     ]
    }
   ],
   "source": [
    "# How many weeks does the dataset has?\n",
    "diff = (df.index.max() - df.index.min())\n",
    "print(f\"The dataset has {diff.days} days, corresponding to {diff.days//7} weeks.\")"
   ]
  },
  {
   "cell_type": "code",
   "execution_count": 342,
   "metadata": {},
   "outputs": [],
   "source": [
    "def threshold_ratings(df, uid_min, iid_min, max_iter=None):\n",
    "    \"\"\"Removes users and items with less than uid_min and iid_min event occurrences, respectively.\n",
    "    Credits: https://www.ethanrosenthal.com/2016/10/19/implicit-mf-part-1/\n",
    "    \"\"\"\n",
    "    n_users = df['CustomerID'].nunique()\n",
    "    n_items = df['StockCode'].nunique()\n",
    "    sparsity = float(df.shape[0]) / float(n_users * n_items) * 100\n",
    "    print('Raw dataset info \\n-----------------')\n",
    "    print('Number of users: {}'.format(n_users))\n",
    "    print('Number of items: {}'.format(n_items))\n",
    "    print('Sparsity: {:4.3f}%'.format(sparsity))\n",
    "    \n",
    "    done, i = False, 0\n",
    "    while not done:\n",
    "        # When we exclude users with freq less than uid_min we might end up with new \n",
    "        # items with freq less than iid_min, so we will have to alternate back and forth\n",
    "        starting_shape = df.shape[0]  # number of existing events\n",
    "\n",
    "        uid_counts = df.groupby('CustomerID').size()  # user id frequencies\n",
    "        df = df[~df['CustomerID'].isin(uid_counts[uid_counts < uid_min].index.tolist())]  # keep events with users with frequency >= uid_min\n",
    "\n",
    "        iid_counts = df.groupby('StockCode').size()  # item id frequencies\n",
    "        df = df[~df['StockCode'].isin(iid_counts[iid_counts < iid_min].index.tolist())]  # keep events with items with frequency >= iid_min\n",
    "\n",
    "        ending_shape = df.shape[0]  # number of existing events after filters\n",
    "        i += 1\n",
    "        if starting_shape == ending_shape or i == max_iter:  # convergence happens\n",
    "            done = True\n",
    "    \n",
    "    if not max_iter:\n",
    "        assert(df.groupby('CustomerID').size().min() >= uid_min)\n",
    "        assert(df.groupby('StockCode').size().min() >= iid_min)\n",
    "    \n",
    "    n_users = df['CustomerID'].nunique()\n",
    "    n_items = df['StockCode'].nunique()\n",
    "    sparsity = float(df.shape[0]) / float(n_users * n_items) * 100\n",
    "    print('Limited dataset info \\n-----------------')\n",
    "    print('Number of iterations until convergence: {}'.format(i))\n",
    "    print('Number of users: {}'.format(n_users))\n",
    "    print('Number of items: {}'.format(n_items))\n",
    "    print('Sparsity: {:4.3f}%'.format(sparsity))\n",
    "    return df"
   ]
  },
  {
   "cell_type": "code",
   "execution_count": 343,
   "metadata": {},
   "outputs": [
    {
     "name": "stdout",
     "output_type": "stream",
     "text": [
      "Raw dataset info \n",
      "-----------------\n",
      "Number of users: 4278\n",
      "Number of items: 3665\n",
      "Sparsity: 2.537%\n",
      "Limited dataset info \n",
      "-----------------\n",
      "Number of iterations until convergence: 3\n",
      "Number of users: 3963\n",
      "Number of items: 3048\n",
      "Sparsity: 3.268%\n"
     ]
    }
   ],
   "source": [
    "# get limited dataset\n",
    "df_limited = threshold_ratings(data, 7, 7)"
   ]
  },
  {
   "cell_type": "markdown",
   "metadata": {},
   "source": [
    "# Train-test split\n",
    "We want to split the train and test events such that:\n",
    "- all test events occur after all train events"
   ]
  },
  {
   "cell_type": "code",
   "execution_count": 344,
   "metadata": {},
   "outputs": [
    {
     "name": "stdout",
     "output_type": "stream",
     "text": [
      "Proportion of train events: 0.71\n"
     ]
    }
   ],
   "source": [
    "# Train-test split\n",
    "start_train = df_limited['InvoiceDate'].min()\n",
    "start_test = start_train + pd.to_timedelta(15, unit='w')\n",
    "end_test = start_test + pd.to_timedelta(5, unit='w')\n",
    "\n",
    "# Create new limited df\n",
    "df_limited = df_limited.loc[(df_limited['InvoiceDate'] > start_train) & (df_limited['InvoiceDate'] <= end_test)]\n",
    "\n",
    "# Create train_split flag\n",
    "df_limited['train_split'] = (df_limited['InvoiceDate'] <= start_test).astype(int)\n",
    "print(\"Proportion of train events: {:.2f}\".format(df_limited['train_split'].mean()))"
   ]
  },
  {
   "cell_type": "code",
   "execution_count": 345,
   "metadata": {},
   "outputs": [
    {
     "data": {
      "image/png": "[encoded data removed]",
      "text/plain": [
       "<Figure size 864x432 with 1 Axes>"
      ]
     },
     "metadata": {},
     "output_type": "display_data"
    }
   ],
   "source": [
    "# Visualize train and test set\n",
    "df = pd.DatetimeIndex(df_limited['InvoiceDate']).normalize().value_counts().sort_index()\n",
    "fig = plt.figure(figsize=(12,6))\n",
    "plt.plot(df.index, df.values, linestyle=\"-\")\n",
    "plt.xticks(np.arange(df.index[0], df.index[-1], pd.to_timedelta(7, unit='d')), rotation=45)\n",
    "plt.vlines(start_test, 0, df.max(), linestyles='dashed', color='r', label='train-test split')\n",
    "plt.legend()\n",
    "plt.title('Event frequency time series - train and test set')\n",
    "plt.show()"
   ]
  },
  {
   "cell_type": "markdown",
   "metadata": {},
   "source": [
    "# Create the train and test Rating Matrices"
   ]
  },
  {
   "cell_type": "code",
   "execution_count": 346,
   "metadata": {},
   "outputs": [
    {
     "name": "stdout",
     "output_type": "stream",
     "text": [
      "train set shape: (2523, 2217) and test set shape: (2523, 2217)\n",
      "train set percentage of zeros: 98.83149896906959 and test set percentage of zeros: 99.46659429683538\n"
     ]
    }
   ],
   "source": [
    "# the Categoricals data structure consists of a categories array and an integer array of codes which point to \n",
    "#    the real value in the categories array\n",
    "user_cat = df_limited['CustomerID'].astype('category')\n",
    "item_cat = df_limited['StockCode'].astype(\"category\")\n",
    "\n",
    "# create a sparse matrix of all the item/user/counts triples for the train set and test set\n",
    "# https://docs.scipy.org/doc/scipy/reference/generated/scipy.sparse.coo_matrix.html#scipy.sparse.coo_matrix\n",
    "item_user_train = coo_matrix((df_limited['train_split'],\n",
    "                              (item_cat.cat.codes,\n",
    "                               user_cat.cat.codes))).tocsr()\n",
    "item_user_train.eliminate_zeros()  # remove zero entries\n",
    "# produce transpose of item_user_train\n",
    "user_item_train = item_user_train.T\n",
    "\n",
    "item_user_test = coo_matrix(((~df_limited['train_split'].astype(bool)).astype(int),\n",
    "                             (item_cat.cat.codes,\n",
    "                              user_cat.cat.codes))).tocsr()\n",
    "item_user_test.eliminate_zeros()  # remove zero entries\n",
    "# produce transpose of item_user_test\n",
    "user_item_test = item_user_test.T\n",
    "\n",
    "# map each item and user category to a unique numeric code\n",
    "user_map = dict(zip(user_cat, user_cat.cat.codes))\n",
    "item_map = dict(zip(item_cat, item_cat.cat.codes))\n",
    "\n",
    "def get_keys(value, dictionary):\n",
    "    \"\"\"Function to get dictionary keys with specifiec value\"\"\"\n",
    "    return list(dictionary.keys())[list(dictionary.values()).index(value)]\n",
    "\n",
    "# confirm shapes\n",
    "print(f\"train set shape: {item_user_train.shape} and test set shape: {item_user_test.shape}\")\n",
    "\n",
    "# check sparsity\n",
    "pzeros_train = 100 * (1 - item_user_train.count_nonzero() / (item_user_train.shape[0] * item_user_train.shape[1]))\n",
    "pzeros_test = 100 * (1 - item_user_test.count_nonzero() / (item_user_test.shape[0] * item_user_test.shape[1]))\n",
    "print(f\"train set percentage of zeros: {pzeros_train} and test set percentage of zeros: {pzeros_test}\")"
   ]
  },
  {
   "cell_type": "code",
   "execution_count": 347,
   "metadata": {},
   "outputs": [
    {
     "data": {
      "text/plain": [
       "set()"
      ]
     },
     "execution_count": 347,
     "metadata": {},
     "output_type": "execute_result"
    }
   ],
   "source": [
    "# users with no items on the train set and not items on the test set\n",
    "zero_users_test = (np.squeeze(np.asarray(user_item_test.sum(axis=1))) == 0).nonzero()[0]\n",
    "zero_users_train = (np.squeeze(np.asarray(user_item_train.sum(axis=1))) == 0).nonzero()[0]\n",
    "set(zero_users_test).intersection(zero_users_train)"
   ]
  },
  {
   "cell_type": "code",
   "execution_count": 348,
   "metadata": {},
   "outputs": [
    {
     "data": {
      "text/html": [
       "<div>\n",
       "<style scoped>\n",
       "    .dataframe tbody tr th:only-of-type {\n",
       "        vertical-align: middle;\n",
       "    }\n",
       "\n",
       "    .dataframe tbody tr th {\n",
       "        vertical-align: top;\n",
       "    }\n",
       "\n",
       "    .dataframe thead th {\n",
       "        text-align: right;\n",
       "    }\n",
       "</style>\n",
       "<table border=\"1\" class=\"dataframe\">\n",
       "  <thead>\n",
       "    <tr style=\"text-align: right;\">\n",
       "      <th></th>\n",
       "      <th>InvoiceNo</th>\n",
       "      <th>StockCode</th>\n",
       "      <th>Description</th>\n",
       "      <th>Quantity</th>\n",
       "      <th>InvoiceDate</th>\n",
       "      <th>UnitPrice</th>\n",
       "      <th>CustomerID</th>\n",
       "      <th>Country</th>\n",
       "      <th>train_split</th>\n",
       "    </tr>\n",
       "  </thead>\n",
       "  <tbody>\n",
       "    <tr>\n",
       "      <th>2095</th>\n",
       "      <td>536557</td>\n",
       "      <td>79321</td>\n",
       "      <td>CHILLI LIGHTS</td>\n",
       "      <td>24</td>\n",
       "      <td>2010-12-01 14:41:00</td>\n",
       "      <td>4.25</td>\n",
       "      <td>17841</td>\n",
       "      <td>United Kingdom</td>\n",
       "      <td>1</td>\n",
       "    </tr>\n",
       "    <tr>\n",
       "      <th>6995</th>\n",
       "      <td>536984</td>\n",
       "      <td>79321</td>\n",
       "      <td>CHILLI LIGHTS</td>\n",
       "      <td>24</td>\n",
       "      <td>2010-12-03 14:35:00</td>\n",
       "      <td>4.25</td>\n",
       "      <td>17841</td>\n",
       "      <td>United Kingdom</td>\n",
       "      <td>1</td>\n",
       "    </tr>\n",
       "    <tr>\n",
       "      <th>12963</th>\n",
       "      <td>537405</td>\n",
       "      <td>79321</td>\n",
       "      <td>CHILLI LIGHTS</td>\n",
       "      <td>30</td>\n",
       "      <td>2010-12-06 14:51:00</td>\n",
       "      <td>4.25</td>\n",
       "      <td>17841</td>\n",
       "      <td>United Kingdom</td>\n",
       "      <td>1</td>\n",
       "    </tr>\n",
       "    <tr>\n",
       "      <th>30437</th>\n",
       "      <td>538866</td>\n",
       "      <td>79321</td>\n",
       "      <td>CHILLI LIGHTS</td>\n",
       "      <td>24</td>\n",
       "      <td>2010-12-14 14:40:00</td>\n",
       "      <td>4.25</td>\n",
       "      <td>17841</td>\n",
       "      <td>United Kingdom</td>\n",
       "      <td>1</td>\n",
       "    </tr>\n",
       "    <tr>\n",
       "      <th>37526</th>\n",
       "      <td>539469</td>\n",
       "      <td>79321</td>\n",
       "      <td>CHILLI LIGHTS</td>\n",
       "      <td>24</td>\n",
       "      <td>2010-12-19 13:59:00</td>\n",
       "      <td>4.25</td>\n",
       "      <td>17841</td>\n",
       "      <td>United Kingdom</td>\n",
       "      <td>1</td>\n",
       "    </tr>\n",
       "    <tr>\n",
       "      <th>42796</th>\n",
       "      <td>540021</td>\n",
       "      <td>79321</td>\n",
       "      <td>CHILLI LIGHTS</td>\n",
       "      <td>48</td>\n",
       "      <td>2011-01-04 12:51:00</td>\n",
       "      <td>4.25</td>\n",
       "      <td>17841</td>\n",
       "      <td>United Kingdom</td>\n",
       "      <td>1</td>\n",
       "    </tr>\n",
       "    <tr>\n",
       "      <th>49899</th>\n",
       "      <td>540538</td>\n",
       "      <td>79321</td>\n",
       "      <td>CHILLI LIGHTS</td>\n",
       "      <td>34</td>\n",
       "      <td>2011-01-09 14:36:00</td>\n",
       "      <td>4.25</td>\n",
       "      <td>17841</td>\n",
       "      <td>United Kingdom</td>\n",
       "      <td>1</td>\n",
       "    </tr>\n",
       "    <tr>\n",
       "      <th>54377</th>\n",
       "      <td>540943</td>\n",
       "      <td>79321</td>\n",
       "      <td>CHILLI LIGHTS</td>\n",
       "      <td>3</td>\n",
       "      <td>2011-01-12 12:31:00</td>\n",
       "      <td>4.95</td>\n",
       "      <td>17841</td>\n",
       "      <td>United Kingdom</td>\n",
       "      <td>1</td>\n",
       "    </tr>\n",
       "    <tr>\n",
       "      <th>58579</th>\n",
       "      <td>541253</td>\n",
       "      <td>79321</td>\n",
       "      <td>CHILLI LIGHTS</td>\n",
       "      <td>30</td>\n",
       "      <td>2011-01-16 13:51:00</td>\n",
       "      <td>4.25</td>\n",
       "      <td>17841</td>\n",
       "      <td>United Kingdom</td>\n",
       "      <td>1</td>\n",
       "    </tr>\n",
       "    <tr>\n",
       "      <th>63631</th>\n",
       "      <td>541587</td>\n",
       "      <td>79321</td>\n",
       "      <td>CHILLI LIGHTS</td>\n",
       "      <td>24</td>\n",
       "      <td>2011-01-19 14:39:00</td>\n",
       "      <td>4.25</td>\n",
       "      <td>17841</td>\n",
       "      <td>United Kingdom</td>\n",
       "      <td>1</td>\n",
       "    </tr>\n",
       "    <tr>\n",
       "      <th>72396</th>\n",
       "      <td>542243</td>\n",
       "      <td>79321</td>\n",
       "      <td>CHILLI LIGHTS</td>\n",
       "      <td>24</td>\n",
       "      <td>2011-01-26 15:00:00</td>\n",
       "      <td>4.25</td>\n",
       "      <td>17841</td>\n",
       "      <td>United Kingdom</td>\n",
       "      <td>1</td>\n",
       "    </tr>\n",
       "    <tr>\n",
       "      <th>80301</th>\n",
       "      <td>543033</td>\n",
       "      <td>79321</td>\n",
       "      <td>CHILLI LIGHTS</td>\n",
       "      <td>24</td>\n",
       "      <td>2011-02-02 15:48:00</td>\n",
       "      <td>4.25</td>\n",
       "      <td>17841</td>\n",
       "      <td>United Kingdom</td>\n",
       "      <td>1</td>\n",
       "    </tr>\n",
       "    <tr>\n",
       "      <th>93805</th>\n",
       "      <td>544311</td>\n",
       "      <td>79321</td>\n",
       "      <td>CHILLI LIGHTS</td>\n",
       "      <td>6</td>\n",
       "      <td>2011-02-17 14:19:00</td>\n",
       "      <td>5.75</td>\n",
       "      <td>17841</td>\n",
       "      <td>United Kingdom</td>\n",
       "      <td>1</td>\n",
       "    </tr>\n",
       "    <tr>\n",
       "      <th>98269</th>\n",
       "      <td>544676</td>\n",
       "      <td>79321</td>\n",
       "      <td>CHILLI LIGHTS</td>\n",
       "      <td>2</td>\n",
       "      <td>2011-02-22 16:03:00</td>\n",
       "      <td>5.75</td>\n",
       "      <td>17841</td>\n",
       "      <td>United Kingdom</td>\n",
       "      <td>1</td>\n",
       "    </tr>\n",
       "    <tr>\n",
       "      <th>104526</th>\n",
       "      <td>545186</td>\n",
       "      <td>79321</td>\n",
       "      <td>CHILLI LIGHTS</td>\n",
       "      <td>4</td>\n",
       "      <td>2011-02-28 15:05:00</td>\n",
       "      <td>5.75</td>\n",
       "      <td>17841</td>\n",
       "      <td>United Kingdom</td>\n",
       "      <td>1</td>\n",
       "    </tr>\n",
       "    <tr>\n",
       "      <th>108549</th>\n",
       "      <td>545545</td>\n",
       "      <td>79321</td>\n",
       "      <td>CHILLI LIGHTS</td>\n",
       "      <td>6</td>\n",
       "      <td>2011-03-03 15:02:00</td>\n",
       "      <td>5.75</td>\n",
       "      <td>17841</td>\n",
       "      <td>United Kingdom</td>\n",
       "      <td>1</td>\n",
       "    </tr>\n",
       "    <tr>\n",
       "      <th>112073</th>\n",
       "      <td>545868</td>\n",
       "      <td>79321</td>\n",
       "      <td>CHILLI LIGHTS</td>\n",
       "      <td>1</td>\n",
       "      <td>2011-03-07 14:33:00</td>\n",
       "      <td>5.75</td>\n",
       "      <td>17841</td>\n",
       "      <td>United Kingdom</td>\n",
       "      <td>1</td>\n",
       "    </tr>\n",
       "    <tr>\n",
       "      <th>116656</th>\n",
       "      <td>546261</td>\n",
       "      <td>79321</td>\n",
       "      <td>CHILLI LIGHTS</td>\n",
       "      <td>3</td>\n",
       "      <td>2011-03-10 15:01:00</td>\n",
       "      <td>5.75</td>\n",
       "      <td>17841</td>\n",
       "      <td>United Kingdom</td>\n",
       "      <td>1</td>\n",
       "    </tr>\n",
       "    <tr>\n",
       "      <th>119449</th>\n",
       "      <td>546543</td>\n",
       "      <td>79321</td>\n",
       "      <td>CHILLI LIGHTS</td>\n",
       "      <td>1</td>\n",
       "      <td>2011-03-14 15:40:00</td>\n",
       "      <td>5.75</td>\n",
       "      <td>17841</td>\n",
       "      <td>United Kingdom</td>\n",
       "      <td>1</td>\n",
       "    </tr>\n",
       "  </tbody>\n",
       "</table>\n",
       "</div>"
      ],
      "text/plain": [
       "       InvoiceNo StockCode    Description  Quantity         InvoiceDate  \\\n",
       "2095      536557     79321  CHILLI LIGHTS        24 2010-12-01 14:41:00   \n",
       "6995      536984     79321  CHILLI LIGHTS        24 2010-12-03 14:35:00   \n",
       "12963     537405     79321  CHILLI LIGHTS        30 2010-12-06 14:51:00   \n",
       "30437     538866     79321  CHILLI LIGHTS        24 2010-12-14 14:40:00   \n",
       "37526     539469     79321  CHILLI LIGHTS        24 2010-12-19 13:59:00   \n",
       "42796     540021     79321  CHILLI LIGHTS        48 2011-01-04 12:51:00   \n",
       "49899     540538     79321  CHILLI LIGHTS        34 2011-01-09 14:36:00   \n",
       "54377     540943     79321  CHILLI LIGHTS         3 2011-01-12 12:31:00   \n",
       "58579     541253     79321  CHILLI LIGHTS        30 2011-01-16 13:51:00   \n",
       "63631     541587     79321  CHILLI LIGHTS        24 2011-01-19 14:39:00   \n",
       "72396     542243     79321  CHILLI LIGHTS        24 2011-01-26 15:00:00   \n",
       "80301     543033     79321  CHILLI LIGHTS        24 2011-02-02 15:48:00   \n",
       "93805     544311     79321  CHILLI LIGHTS         6 2011-02-17 14:19:00   \n",
       "98269     544676     79321  CHILLI LIGHTS         2 2011-02-22 16:03:00   \n",
       "104526    545186     79321  CHILLI LIGHTS         4 2011-02-28 15:05:00   \n",
       "108549    545545     79321  CHILLI LIGHTS         6 2011-03-03 15:02:00   \n",
       "112073    545868     79321  CHILLI LIGHTS         1 2011-03-07 14:33:00   \n",
       "116656    546261     79321  CHILLI LIGHTS         3 2011-03-10 15:01:00   \n",
       "119449    546543     79321  CHILLI LIGHTS         1 2011-03-14 15:40:00   \n",
       "\n",
       "        UnitPrice CustomerID         Country  train_split  \n",
       "2095         4.25      17841  United Kingdom            1  \n",
       "6995         4.25      17841  United Kingdom            1  \n",
       "12963        4.25      17841  United Kingdom            1  \n",
       "30437        4.25      17841  United Kingdom            1  \n",
       "37526        4.25      17841  United Kingdom            1  \n",
       "42796        4.25      17841  United Kingdom            1  \n",
       "49899        4.25      17841  United Kingdom            1  \n",
       "54377        4.95      17841  United Kingdom            1  \n",
       "58579        4.25      17841  United Kingdom            1  \n",
       "63631        4.25      17841  United Kingdom            1  \n",
       "72396        4.25      17841  United Kingdom            1  \n",
       "80301        4.25      17841  United Kingdom            1  \n",
       "93805        5.75      17841  United Kingdom            1  \n",
       "98269        5.75      17841  United Kingdom            1  \n",
       "104526       5.75      17841  United Kingdom            1  \n",
       "108549       5.75      17841  United Kingdom            1  \n",
       "112073       5.75      17841  United Kingdom            1  \n",
       "116656       5.75      17841  United Kingdom            1  \n",
       "119449       5.75      17841  United Kingdom            1  "
      ]
     },
     "execution_count": 348,
     "metadata": {},
     "output_type": "execute_result"
    }
   ],
   "source": [
    "# most frequent user, item pair in train set\n",
    "item_id, user_id = np.unravel_index(item_user_train.argmax(), item_user_train.shape)\n",
    "item_id, user_id = get_keys(item_id, item_map), get_keys(user_id, user_map)\n",
    "df_limited.loc[(df_limited['CustomerID'] == user_id) & (df_limited['StockCode'] == item_id) & (df_limited['train_split'] == 1)]"
   ]
  },
  {
   "cell_type": "markdown",
   "metadata": {},
   "source": [
    "## Fit the ALS model"
   ]
  },
  {
   "cell_type": "code",
   "execution_count": 349,
   "metadata": {},
   "outputs": [
    {
     "data": {
      "application/vnd.jupyter.widget-view+json": {
       "model_id": "4d7c112e98634e42b487722b968f8b32",
       "version_major": 2,
       "version_minor": 0
      },
      "text/plain": [
       "  0%|          | 0/30 [00:00<?, ?it/s]"
      ]
     },
     "metadata": {},
     "output_type": "display_data"
    }
   ],
   "source": [
    "# initialize a model\n",
    "alpha = 40  # as we observe more evidence for positive preference, our confidence in pui = 1 increases according to alpha (rate of increase)\n",
    "als_model = AlternatingLeastSquares(factors=200, regularization=0.01, iterations=30, random_state=0)\n",
    "\n",
    "# train the model on a sparse matrix of item/user/confidence weights\n",
    "# os.environ['MKL_NUM_THREADS'] = '1'\n",
    "# os.environ['OPENBLAS_NUM_THREADS'] = '1'\n",
    "# about the alpha hyperparameter: https://github.com/benfred/implicit/issues/199#issuecomment-490350326\n",
    "als_model.fit((item_user_train * alpha).astype('double'))"
   ]
  },
  {
   "cell_type": "markdown",
   "metadata": {},
   "source": [
    "## ALS model methods"
   ]
  },
  {
   "cell_type": "code",
   "execution_count": 350,
   "metadata": {},
   "outputs": [
    {
     "data": {
      "text/plain": [
       "[('84406B', 1.0031338),\n",
       " ('22411', 1.0017444),\n",
       " ('84029E', 1.0009488),\n",
       " ('85123A', 1.0006975),\n",
       " ('84029G', 1.0004711),\n",
       " ('22752', 1.0001048),\n",
       " ('82483', 0.9997173),\n",
       " ('21071', 0.99955153),\n",
       " ('22632', 0.99926925),\n",
       " ('22633', 0.9991672)]"
      ]
     },
     "execution_count": 350,
     "metadata": {},
     "output_type": "execute_result"
    }
   ],
   "source": [
    "# recommend items for a user. \n",
    "# the recommended items have the largest inner product with the user vector\n",
    "user_id = list(user_map.keys())[0]\n",
    "recommendations = als_model.recommend(user_map[user_id], user_item_train)\n",
    "list(map(lambda x: (get_keys(x[0], item_map), x[1]), recommendations))"
   ]
  },
  {
   "cell_type": "code",
   "execution_count": 351,
   "metadata": {},
   "outputs": [
    {
     "data": {
      "text/plain": [
       "[('22633', 1.0000002),\n",
       " ('22866', 0.7062464),\n",
       " ('22632', 0.66078234),\n",
       " ('22865', 0.6169948),\n",
       " ('22867', 0.5941841),\n",
       " ('82616B', 0.5184141),\n",
       " ('85106', 0.5104159),\n",
       " ('90199C', 0.50960094),\n",
       " ('20894', 0.5085284),\n",
       " ('20748', 0.5041381)]"
      ]
     },
     "execution_count": 351,
     "metadata": {},
     "output_type": "execute_result"
    }
   ],
   "source": [
    "# find related items\n",
    "# the related items have the largest inner product with the item vector\n",
    "item_id = list(item_map.keys())[0]\n",
    "related = als_model.similar_items(item_map[item_id])\n",
    "list(map(lambda x: (get_keys(x[0], item_map), x[1]), related))"
   ]
  },
  {
   "cell_type": "code",
   "execution_count": 352,
   "metadata": {},
   "outputs": [
    {
     "name": "stdout",
     "output_type": "stream",
     "text": [
      "The score of the user/item pair is:  0.8481106016466021\n",
      "The top N (itemid, score) contributions for this user/item pair are:\n",
      " [('22633', 0.6554839141215714), ('22632', 0.15593159050305944), ('84406B', 0.020480967976020253), ('85123A', 0.014428488515890734), ('84029G', 0.013275498448344815), ('82482', 0.011588601890447164), ('84029E', 0.009188081331929816), ('82483', 0.00746951316208508), ('20679', 0.006856299108049973), ('21068', 0.006172550740805353)]\n"
     ]
    }
   ],
   "source": [
    "# show the top 10 items that explain the recommended item to the user\n",
    "# It is possible to write the LVM as a linear function between preferences and past actions.\n",
    "# We can then see what are the actions associated with the highest contributions to the given recommendation.\n",
    "score, contributions, user_weights = als_model.explain(user_map[user_id], \n",
    "                                                       user_item_train,\n",
    "                                                       item_map[item_id])\n",
    "print(\"The score of the user/item pair is: \", score)\n",
    "print(\"The top N (itemid, score) contributions for this user/item pair are:\\n\", list(map(lambda x: (get_keys(x[0], item_map), x[1]), contributions)))"
   ]
  },
  {
   "cell_type": "markdown",
   "metadata": {},
   "source": [
    "# Evaluation"
   ]
  },
  {
   "cell_type": "code",
   "execution_count": 353,
   "metadata": {},
   "outputs": [],
   "source": [
    "# Baseline: Recommend the most popular items to every user\n",
    "class PopularRecommender():\n",
    "    \"\"\"Baseline Recommender that always suggests the most popular items to every user.\n",
    "    \"\"\"\n",
    "    def fit(self, item_users):\n",
    "        self.item_id_sort = np.argsort(np.squeeze(np.asarray(item_users.sum(axis=1).reshape(-1))))[::-1]\n",
    "    \n",
    "    def recommend(self, userid, user_items, N=10, filter_already_liked_items=None, filter_items=None, recalculate_user=None):\n",
    "        if filter_already_liked_items != None or filter_items != None or recalculate_user != None:\n",
    "            raise NotImplementedError(\"filter_already_liked_items, filter_items and recalculate_user aren't support yet\")\n",
    "        \n",
    "        return list(zip(self.item_id_sort[:N], range(1, N + 1)))"
   ]
  },
  {
   "cell_type": "code",
   "execution_count": 354,
   "metadata": {},
   "outputs": [],
   "source": [
    "# Fitting PopularRecommender model\n",
    "pop_model = PopularRecommender()\n",
    "pop_model.fit(item_user_train)"
   ]
  },
  {
   "cell_type": "code",
   "execution_count": 355,
   "metadata": {},
   "outputs": [
    {
     "data": {
      "application/vnd.jupyter.widget-view+json": {
       "model_id": "c5c5969ff8d3472787edf69e779e2021",
       "version_major": 2,
       "version_minor": 0
      },
      "text/plain": [
       "  0%|          | 0/2217 [00:00<?, ?it/s]"
      ]
     },
     "metadata": {},
     "output_type": "display_data"
    },
    {
     "data": {
      "application/vnd.jupyter.widget-view+json": {
       "model_id": "274b51075ff54333862a793a00b3bdbf",
       "version_major": 2,
       "version_minor": 0
      },
      "text/plain": [
       "  0%|          | 0/2217 [00:00<?, ?it/s]"
      ]
     },
     "metadata": {},
     "output_type": "display_data"
    },
    {
     "data": {
      "text/html": [
       "<div>\n",
       "<style scoped>\n",
       "    .dataframe tbody tr th:only-of-type {\n",
       "        vertical-align: middle;\n",
       "    }\n",
       "\n",
       "    .dataframe tbody tr th {\n",
       "        vertical-align: top;\n",
       "    }\n",
       "\n",
       "    .dataframe thead th {\n",
       "        text-align: right;\n",
       "    }\n",
       "</style>\n",
       "<table border=\"1\" class=\"dataframe\">\n",
       "  <thead>\n",
       "    <tr style=\"text-align: right;\">\n",
       "      <th></th>\n",
       "      <th>pop_model</th>\n",
       "      <th>als_model</th>\n",
       "    </tr>\n",
       "  </thead>\n",
       "  <tbody>\n",
       "    <tr>\n",
       "      <th>precision</th>\n",
       "      <td>0.098590</td>\n",
       "      <td>0.049748</td>\n",
       "    </tr>\n",
       "    <tr>\n",
       "      <th>map</th>\n",
       "      <td>0.048528</td>\n",
       "      <td>0.019651</td>\n",
       "    </tr>\n",
       "    <tr>\n",
       "      <th>ndcg</th>\n",
       "      <td>0.110934</td>\n",
       "      <td>0.049454</td>\n",
       "    </tr>\n",
       "    <tr>\n",
       "      <th>auc</th>\n",
       "      <td>0.521598</td>\n",
       "      <td>0.508929</td>\n",
       "    </tr>\n",
       "  </tbody>\n",
       "</table>\n",
       "</div>"
      ],
      "text/plain": [
       "           pop_model  als_model\n",
       "precision   0.098590   0.049748\n",
       "map         0.048528   0.019651\n",
       "ndcg        0.110934   0.049454\n",
       "auc         0.521598   0.508929"
      ]
     },
     "execution_count": 355,
     "metadata": {},
     "output_type": "execute_result"
    }
   ],
   "source": [
    "# Evaluate models. \n",
    "# Precision at K, Mean Average Precision at K, Normalized Discounted Cumulative Gain at K, AUC at K\n",
    "eval_models = {'pop_model': pop_model, 'als_model': als_model}\n",
    "eval_table = {}\n",
    "for k, v in eval_models.items():\n",
    "    eval_table[k] = ranking_metrics_at_k(v, user_item_train, user_item_test, K=10, show_progress=True, num_threads=0)\n",
    "eval_table = pd.DataFrame(eval_table)\n",
    "eval_table"
   ]
  },
  {
   "cell_type": "markdown",
   "metadata": {},
   "source": [
    "## New customers "
   ]
  },
  {
   "cell_type": "code",
   "execution_count": 113,
   "metadata": {},
   "outputs": [],
   "source": [
    "# customers with only 1 purchase\n",
    "data1 = data.groupby('CustomerID').filter(lambda x: len(x) == 1)\n",
    "data2 = data[data['CustomerID'].isna()]\n",
    "new_cust = data1.append(data2)"
   ]
  },
  {
   "cell_type": "markdown",
   "metadata": {},
   "source": [
    "## Collaborative filtering based on customer's purchase history"
   ]
  },
  {
   "cell_type": "code",
   "execution_count": 232,
   "metadata": {},
   "outputs": [
    {
     "data": {
      "text/html": [
       "<div>\n",
       "<style scoped>\n",
       "    .dataframe tbody tr th:only-of-type {\n",
       "        vertical-align: middle;\n",
       "    }\n",
       "\n",
       "    .dataframe tbody tr th {\n",
       "        vertical-align: top;\n",
       "    }\n",
       "\n",
       "    .dataframe thead th {\n",
       "        text-align: right;\n",
       "    }\n",
       "</style>\n",
       "<table border=\"1\" class=\"dataframe\">\n",
       "  <thead>\n",
       "    <tr style=\"text-align: right;\">\n",
       "      <th>StockCode</th>\n",
       "      <th>10002</th>\n",
       "      <th>10080</th>\n",
       "      <th>10120</th>\n",
       "      <th>10123C</th>\n",
       "      <th>10124A</th>\n",
       "      <th>10124G</th>\n",
       "      <th>10125</th>\n",
       "      <th>10133</th>\n",
       "      <th>10135</th>\n",
       "      <th>11001</th>\n",
       "      <th>...</th>\n",
       "      <th>90214V</th>\n",
       "      <th>90214W</th>\n",
       "      <th>90214Y</th>\n",
       "      <th>90214Z</th>\n",
       "      <th>BANK CHARGES</th>\n",
       "      <th>C2</th>\n",
       "      <th>DOT</th>\n",
       "      <th>M</th>\n",
       "      <th>PADS</th>\n",
       "      <th>POST</th>\n",
       "    </tr>\n",
       "    <tr>\n",
       "      <th>CustomerID</th>\n",
       "      <th></th>\n",
       "      <th></th>\n",
       "      <th></th>\n",
       "      <th></th>\n",
       "      <th></th>\n",
       "      <th></th>\n",
       "      <th></th>\n",
       "      <th></th>\n",
       "      <th></th>\n",
       "      <th></th>\n",
       "      <th></th>\n",
       "      <th></th>\n",
       "      <th></th>\n",
       "      <th></th>\n",
       "      <th></th>\n",
       "      <th></th>\n",
       "      <th></th>\n",
       "      <th></th>\n",
       "      <th></th>\n",
       "      <th></th>\n",
       "      <th></th>\n",
       "    </tr>\n",
       "  </thead>\n",
       "  <tbody>\n",
       "    <tr>\n",
       "      <th>12346.0</th>\n",
       "      <td>0.0</td>\n",
       "      <td>0</td>\n",
       "      <td>0</td>\n",
       "      <td>0</td>\n",
       "      <td>0</td>\n",
       "      <td>0</td>\n",
       "      <td>0</td>\n",
       "      <td>0.0</td>\n",
       "      <td>0.0</td>\n",
       "      <td>0.0</td>\n",
       "      <td>...</td>\n",
       "      <td>0</td>\n",
       "      <td>0</td>\n",
       "      <td>0</td>\n",
       "      <td>0</td>\n",
       "      <td>0</td>\n",
       "      <td>0</td>\n",
       "      <td>0</td>\n",
       "      <td>0.0</td>\n",
       "      <td>0</td>\n",
       "      <td>0.00</td>\n",
       "    </tr>\n",
       "    <tr>\n",
       "      <th>12347.0</th>\n",
       "      <td>0.0</td>\n",
       "      <td>0</td>\n",
       "      <td>0</td>\n",
       "      <td>0</td>\n",
       "      <td>0</td>\n",
       "      <td>0</td>\n",
       "      <td>0</td>\n",
       "      <td>0.0</td>\n",
       "      <td>0.0</td>\n",
       "      <td>0.0</td>\n",
       "      <td>...</td>\n",
       "      <td>0</td>\n",
       "      <td>0</td>\n",
       "      <td>0</td>\n",
       "      <td>0</td>\n",
       "      <td>0</td>\n",
       "      <td>0</td>\n",
       "      <td>0</td>\n",
       "      <td>0.0</td>\n",
       "      <td>0</td>\n",
       "      <td>0.00</td>\n",
       "    </tr>\n",
       "    <tr>\n",
       "      <th>12348.0</th>\n",
       "      <td>0.0</td>\n",
       "      <td>0</td>\n",
       "      <td>0</td>\n",
       "      <td>0</td>\n",
       "      <td>0</td>\n",
       "      <td>0</td>\n",
       "      <td>0</td>\n",
       "      <td>0.0</td>\n",
       "      <td>0.0</td>\n",
       "      <td>0.0</td>\n",
       "      <td>...</td>\n",
       "      <td>0</td>\n",
       "      <td>0</td>\n",
       "      <td>0</td>\n",
       "      <td>0</td>\n",
       "      <td>0</td>\n",
       "      <td>0</td>\n",
       "      <td>0</td>\n",
       "      <td>0.0</td>\n",
       "      <td>0</td>\n",
       "      <td>2.25</td>\n",
       "    </tr>\n",
       "    <tr>\n",
       "      <th>12349.0</th>\n",
       "      <td>0.0</td>\n",
       "      <td>0</td>\n",
       "      <td>0</td>\n",
       "      <td>0</td>\n",
       "      <td>0</td>\n",
       "      <td>0</td>\n",
       "      <td>0</td>\n",
       "      <td>0.0</td>\n",
       "      <td>0.0</td>\n",
       "      <td>0.0</td>\n",
       "      <td>...</td>\n",
       "      <td>0</td>\n",
       "      <td>0</td>\n",
       "      <td>0</td>\n",
       "      <td>0</td>\n",
       "      <td>0</td>\n",
       "      <td>0</td>\n",
       "      <td>0</td>\n",
       "      <td>0.0</td>\n",
       "      <td>0</td>\n",
       "      <td>1.00</td>\n",
       "    </tr>\n",
       "    <tr>\n",
       "      <th>12350.0</th>\n",
       "      <td>0.0</td>\n",
       "      <td>0</td>\n",
       "      <td>0</td>\n",
       "      <td>0</td>\n",
       "      <td>0</td>\n",
       "      <td>0</td>\n",
       "      <td>0</td>\n",
       "      <td>0.0</td>\n",
       "      <td>0.0</td>\n",
       "      <td>0.0</td>\n",
       "      <td>...</td>\n",
       "      <td>0</td>\n",
       "      <td>0</td>\n",
       "      <td>0</td>\n",
       "      <td>0</td>\n",
       "      <td>0</td>\n",
       "      <td>0</td>\n",
       "      <td>0</td>\n",
       "      <td>0.0</td>\n",
       "      <td>0</td>\n",
       "      <td>1.00</td>\n",
       "    </tr>\n",
       "  </tbody>\n",
       "</table>\n",
       "<p>5 rows × 3665 columns</p>\n",
       "</div>"
      ],
      "text/plain": [
       "StockCode   10002  10080  10120  10123C  10124A  10124G  10125  10133  10135  \\\n",
       "CustomerID                                                                     \n",
       "12346.0       0.0      0      0       0       0       0      0    0.0    0.0   \n",
       "12347.0       0.0      0      0       0       0       0      0    0.0    0.0   \n",
       "12348.0       0.0      0      0       0       0       0      0    0.0    0.0   \n",
       "12349.0       0.0      0      0       0       0       0      0    0.0    0.0   \n",
       "12350.0       0.0      0      0       0       0       0      0    0.0    0.0   \n",
       "\n",
       "StockCode   11001  ...  90214V  90214W  90214Y  90214Z  BANK CHARGES  C2  DOT  \\\n",
       "CustomerID         ...                                                          \n",
       "12346.0       0.0  ...       0       0       0       0             0   0    0   \n",
       "12347.0       0.0  ...       0       0       0       0             0   0    0   \n",
       "12348.0       0.0  ...       0       0       0       0             0   0    0   \n",
       "12349.0       0.0  ...       0       0       0       0             0   0    0   \n",
       "12350.0       0.0  ...       0       0       0       0             0   0    0   \n",
       "\n",
       "StockCode     M  PADS  POST  \n",
       "CustomerID                   \n",
       "12346.0     0.0     0  0.00  \n",
       "12347.0     0.0     0  0.00  \n",
       "12348.0     0.0     0  2.25  \n",
       "12349.0     0.0     0  1.00  \n",
       "12350.0     0.0     0  1.00  \n",
       "\n",
       "[5 rows x 3665 columns]"
      ]
     },
     "execution_count": 232,
     "metadata": {},
     "output_type": "execute_result"
    }
   ],
   "source": [
    "ratings_utility_matrix = data.pivot_table(values='Quantity', index='CustomerID', columns='StockCode', fill_value=0)\n",
    "ratings_utility_matrix.head()"
   ]
  },
  {
   "cell_type": "code",
   "execution_count": 233,
   "metadata": {},
   "outputs": [
    {
     "data": {
      "text/plain": [
       "(4278, 3665)"
      ]
     },
     "execution_count": 233,
     "metadata": {},
     "output_type": "execute_result"
    }
   ],
   "source": [
    "ratings_utility_matrix.shape"
   ]
  },
  {
   "cell_type": "code",
   "execution_count": 234,
   "metadata": {},
   "outputs": [
    {
     "data": {
      "text/html": [
       "<div>\n",
       "<style scoped>\n",
       "    .dataframe tbody tr th:only-of-type {\n",
       "        vertical-align: middle;\n",
       "    }\n",
       "\n",
       "    .dataframe tbody tr th {\n",
       "        vertical-align: top;\n",
       "    }\n",
       "\n",
       "    .dataframe thead th {\n",
       "        text-align: right;\n",
       "    }\n",
       "</style>\n",
       "<table border=\"1\" class=\"dataframe\">\n",
       "  <thead>\n",
       "    <tr style=\"text-align: right;\">\n",
       "      <th>CustomerID</th>\n",
       "      <th>12346.0</th>\n",
       "      <th>12347.0</th>\n",
       "      <th>12348.0</th>\n",
       "      <th>12349.0</th>\n",
       "      <th>12350.0</th>\n",
       "      <th>12352.0</th>\n",
       "      <th>12353.0</th>\n",
       "      <th>12354.0</th>\n",
       "      <th>12355.0</th>\n",
       "      <th>12356.0</th>\n",
       "      <th>...</th>\n",
       "      <th>18273.0</th>\n",
       "      <th>18274.0</th>\n",
       "      <th>18276.0</th>\n",
       "      <th>18277.0</th>\n",
       "      <th>18278.0</th>\n",
       "      <th>18280.0</th>\n",
       "      <th>18281.0</th>\n",
       "      <th>18282.0</th>\n",
       "      <th>18283.0</th>\n",
       "      <th>18287.0</th>\n",
       "    </tr>\n",
       "    <tr>\n",
       "      <th>StockCode</th>\n",
       "      <th></th>\n",
       "      <th></th>\n",
       "      <th></th>\n",
       "      <th></th>\n",
       "      <th></th>\n",
       "      <th></th>\n",
       "      <th></th>\n",
       "      <th></th>\n",
       "      <th></th>\n",
       "      <th></th>\n",
       "      <th></th>\n",
       "      <th></th>\n",
       "      <th></th>\n",
       "      <th></th>\n",
       "      <th></th>\n",
       "      <th></th>\n",
       "      <th></th>\n",
       "      <th></th>\n",
       "      <th></th>\n",
       "      <th></th>\n",
       "      <th></th>\n",
       "    </tr>\n",
       "  </thead>\n",
       "  <tbody>\n",
       "    <tr>\n",
       "      <th>10002</th>\n",
       "      <td>0.0</td>\n",
       "      <td>0.0</td>\n",
       "      <td>0.0</td>\n",
       "      <td>0.0</td>\n",
       "      <td>0.0</td>\n",
       "      <td>0.0</td>\n",
       "      <td>0.0</td>\n",
       "      <td>0.0</td>\n",
       "      <td>0.0</td>\n",
       "      <td>0.0</td>\n",
       "      <td>...</td>\n",
       "      <td>0.0</td>\n",
       "      <td>0.0</td>\n",
       "      <td>0.0</td>\n",
       "      <td>0.0</td>\n",
       "      <td>0.0</td>\n",
       "      <td>0.0</td>\n",
       "      <td>0.0</td>\n",
       "      <td>0.0</td>\n",
       "      <td>0.0</td>\n",
       "      <td>0.0</td>\n",
       "    </tr>\n",
       "    <tr>\n",
       "      <th>10080</th>\n",
       "      <td>0.0</td>\n",
       "      <td>0.0</td>\n",
       "      <td>0.0</td>\n",
       "      <td>0.0</td>\n",
       "      <td>0.0</td>\n",
       "      <td>0.0</td>\n",
       "      <td>0.0</td>\n",
       "      <td>0.0</td>\n",
       "      <td>0.0</td>\n",
       "      <td>0.0</td>\n",
       "      <td>...</td>\n",
       "      <td>0.0</td>\n",
       "      <td>0.0</td>\n",
       "      <td>0.0</td>\n",
       "      <td>0.0</td>\n",
       "      <td>0.0</td>\n",
       "      <td>0.0</td>\n",
       "      <td>0.0</td>\n",
       "      <td>0.0</td>\n",
       "      <td>0.0</td>\n",
       "      <td>0.0</td>\n",
       "    </tr>\n",
       "    <tr>\n",
       "      <th>10120</th>\n",
       "      <td>0.0</td>\n",
       "      <td>0.0</td>\n",
       "      <td>0.0</td>\n",
       "      <td>0.0</td>\n",
       "      <td>0.0</td>\n",
       "      <td>0.0</td>\n",
       "      <td>0.0</td>\n",
       "      <td>0.0</td>\n",
       "      <td>0.0</td>\n",
       "      <td>0.0</td>\n",
       "      <td>...</td>\n",
       "      <td>0.0</td>\n",
       "      <td>0.0</td>\n",
       "      <td>0.0</td>\n",
       "      <td>0.0</td>\n",
       "      <td>0.0</td>\n",
       "      <td>0.0</td>\n",
       "      <td>0.0</td>\n",
       "      <td>0.0</td>\n",
       "      <td>0.0</td>\n",
       "      <td>0.0</td>\n",
       "    </tr>\n",
       "    <tr>\n",
       "      <th>10123C</th>\n",
       "      <td>0.0</td>\n",
       "      <td>0.0</td>\n",
       "      <td>0.0</td>\n",
       "      <td>0.0</td>\n",
       "      <td>0.0</td>\n",
       "      <td>0.0</td>\n",
       "      <td>0.0</td>\n",
       "      <td>0.0</td>\n",
       "      <td>0.0</td>\n",
       "      <td>0.0</td>\n",
       "      <td>...</td>\n",
       "      <td>0.0</td>\n",
       "      <td>0.0</td>\n",
       "      <td>0.0</td>\n",
       "      <td>0.0</td>\n",
       "      <td>0.0</td>\n",
       "      <td>0.0</td>\n",
       "      <td>0.0</td>\n",
       "      <td>0.0</td>\n",
       "      <td>0.0</td>\n",
       "      <td>0.0</td>\n",
       "    </tr>\n",
       "    <tr>\n",
       "      <th>10124A</th>\n",
       "      <td>0.0</td>\n",
       "      <td>0.0</td>\n",
       "      <td>0.0</td>\n",
       "      <td>0.0</td>\n",
       "      <td>0.0</td>\n",
       "      <td>0.0</td>\n",
       "      <td>0.0</td>\n",
       "      <td>0.0</td>\n",
       "      <td>0.0</td>\n",
       "      <td>0.0</td>\n",
       "      <td>...</td>\n",
       "      <td>0.0</td>\n",
       "      <td>0.0</td>\n",
       "      <td>0.0</td>\n",
       "      <td>0.0</td>\n",
       "      <td>0.0</td>\n",
       "      <td>0.0</td>\n",
       "      <td>0.0</td>\n",
       "      <td>0.0</td>\n",
       "      <td>0.0</td>\n",
       "      <td>0.0</td>\n",
       "    </tr>\n",
       "  </tbody>\n",
       "</table>\n",
       "<p>5 rows × 4278 columns</p>\n",
       "</div>"
      ],
      "text/plain": [
       "CustomerID  12346.0  12347.0  12348.0  12349.0  12350.0  12352.0  12353.0  \\\n",
       "StockCode                                                                   \n",
       "10002           0.0      0.0      0.0      0.0      0.0      0.0      0.0   \n",
       "10080           0.0      0.0      0.0      0.0      0.0      0.0      0.0   \n",
       "10120           0.0      0.0      0.0      0.0      0.0      0.0      0.0   \n",
       "10123C          0.0      0.0      0.0      0.0      0.0      0.0      0.0   \n",
       "10124A          0.0      0.0      0.0      0.0      0.0      0.0      0.0   \n",
       "\n",
       "CustomerID  12354.0  12355.0  12356.0  ...  18273.0  18274.0  18276.0  \\\n",
       "StockCode                              ...                              \n",
       "10002           0.0      0.0      0.0  ...      0.0      0.0      0.0   \n",
       "10080           0.0      0.0      0.0  ...      0.0      0.0      0.0   \n",
       "10120           0.0      0.0      0.0  ...      0.0      0.0      0.0   \n",
       "10123C          0.0      0.0      0.0  ...      0.0      0.0      0.0   \n",
       "10124A          0.0      0.0      0.0  ...      0.0      0.0      0.0   \n",
       "\n",
       "CustomerID  18277.0  18278.0  18280.0  18281.0  18282.0  18283.0  18287.0  \n",
       "StockCode                                                                  \n",
       "10002           0.0      0.0      0.0      0.0      0.0      0.0      0.0  \n",
       "10080           0.0      0.0      0.0      0.0      0.0      0.0      0.0  \n",
       "10120           0.0      0.0      0.0      0.0      0.0      0.0      0.0  \n",
       "10123C          0.0      0.0      0.0      0.0      0.0      0.0      0.0  \n",
       "10124A          0.0      0.0      0.0      0.0      0.0      0.0      0.0  \n",
       "\n",
       "[5 rows x 4278 columns]"
      ]
     },
     "execution_count": 234,
     "metadata": {},
     "output_type": "execute_result"
    }
   ],
   "source": [
    "X = ratings_utility_matrix.T\n",
    "X.head()"
   ]
  },
  {
   "cell_type": "code",
   "execution_count": 235,
   "metadata": {},
   "outputs": [],
   "source": [
    "X1 = X"
   ]
  },
  {
   "cell_type": "code",
   "execution_count": 236,
   "metadata": {},
   "outputs": [],
   "source": [
    "import sklearn\n",
    "from sklearn.decomposition import TruncatedSVD"
   ]
  },
  {
   "cell_type": "code",
   "execution_count": 237,
   "metadata": {},
   "outputs": [
    {
     "data": {
      "text/plain": [
       "(3665, 10)"
      ]
     },
     "execution_count": 237,
     "metadata": {},
     "output_type": "execute_result"
    }
   ],
   "source": [
    "SVD = TruncatedSVD(n_components=10)\n",
    "decomposed_matrix = SVD.fit_transform(X)\n",
    "decomposed_matrix.shape"
   ]
  },
  {
   "cell_type": "code",
   "execution_count": 243,
   "metadata": {},
   "outputs": [
    {
     "data": {
      "text/plain": [
       "(3665, 3665)"
      ]
     },
     "execution_count": 243,
     "metadata": {},
     "output_type": "execute_result"
    }
   ],
   "source": [
    "correlation_matrix = np.corrcoef(decomposed_matrix)\n",
    "correlation_matrix.shape"
   ]
  },
  {
   "cell_type": "code",
   "execution_count": 247,
   "metadata": {},
   "outputs": [],
   "source": [
    "product_names = list(X.index)"
   ]
  },
  {
   "cell_type": "code",
   "execution_count": 249,
   "metadata": {},
   "outputs": [],
   "source": [
    "i = X.index[99]"
   ]
  },
  {
   "cell_type": "code",
   "execution_count": 250,
   "metadata": {},
   "outputs": [
    {
     "data": {
      "text/plain": [
       "99"
      ]
     },
     "execution_count": 250,
     "metadata": {},
     "output_type": "execute_result"
    }
   ],
   "source": [
    "product_ID = product_names.index(i)\n",
    "product_ID"
   ]
  },
  {
   "cell_type": "code",
   "execution_count": 251,
   "metadata": {},
   "outputs": [
    {
     "data": {
      "text/plain": [
       "(3665,)"
      ]
     },
     "execution_count": 251,
     "metadata": {},
     "output_type": "execute_result"
    }
   ],
   "source": [
    "correlation_product_ID = correlation_matrix[product_ID]\n",
    "correlation_product_ID.shape"
   ]
  },
  {
   "cell_type": "code",
   "execution_count": 252,
   "metadata": {},
   "outputs": [
    {
     "data": {
      "text/plain": [
       "['10135',\n",
       " '15058C',\n",
       " '15060B',\n",
       " '16008',\n",
       " '16015',\n",
       " '16045',\n",
       " '16048',\n",
       " '16054',\n",
       " '16161G']"
      ]
     },
     "execution_count": 252,
     "metadata": {},
     "output_type": "execute_result"
    }
   ],
   "source": [
    "Recommend = list(X.index[correlation_product_ID > 0.90])\n",
    "\n",
    "# Removes the item already bought by the customer\n",
    "Recommend.remove(i) \n",
    "\n",
    "Recommend[0:9]"
   ]
  },
  {
   "cell_type": "markdown",
   "metadata": {},
   "source": [
    "## Item to item based recommendation system based on product description"
   ]
  },
  {
   "cell_type": "code",
   "execution_count": 373,
   "metadata": {},
   "outputs": [],
   "source": [
    "from sklearn.feature_extraction.text import TfidfVectorizer, CountVectorizer\n",
    "from sklearn.neighbors import NearestNeighbors\n",
    "from sklearn.cluster import KMeans\n",
    "from sklearn.metrics import adjusted_rand_score"
   ]
  },
  {
   "cell_type": "code",
   "execution_count": 420,
   "metadata": {},
   "outputs": [],
   "source": [
    "itemset = original_data[['StockCode','Description']]"
   ]
  },
  {
   "cell_type": "code",
   "execution_count": 421,
   "metadata": {},
   "outputs": [
    {
     "name": "stderr",
     "output_type": "stream",
     "text": [
      "<ipython-input-421-6bced51bed25>:1: SettingWithCopyWarning:\n",
      "\n",
      "\n",
      "A value is trying to be set on a copy of a slice from a DataFrame.\n",
      "Try using .loc[row_indexer,col_indexer] = value instead\n",
      "\n",
      "See the caveats in the documentation: https://pandas.pydata.org/pandas-docs/stable/user_guide/indexing.html#returning-a-view-versus-a-copy\n",
      "\n"
     ]
    }
   ],
   "source": [
    "itemset['Description']=itemset['Description'].astype(str)"
   ]
  },
  {
   "cell_type": "code",
   "execution_count": 406,
   "metadata": {},
   "outputs": [
    {
     "name": "stderr",
     "output_type": "stream",
     "text": [
      "<ipython-input-406-31acb3c3a0f2>:2: SettingWithCopyWarning:\n",
      "\n",
      "\n",
      "A value is trying to be set on a copy of a slice from a DataFrame.\n",
      "Try using .loc[row_indexer,col_indexer] = value instead\n",
      "\n",
      "See the caveats in the documentation: https://pandas.pydata.org/pandas-docs/stable/user_guide/indexing.html#returning-a-view-versus-a-copy\n",
      "\n"
     ]
    }
   ],
   "source": [
    "#if not all(c.islower() for c in itemset['Description']):\n",
    "itemset['Description'] = [(np.where((x.isupper()),x, np.NaN)) for x in itemset['Description']]"
   ]
  },
  {
   "cell_type": "code",
   "execution_count": 407,
   "metadata": {},
   "outputs": [
    {
     "data": {
      "text/html": [
       "<div>\n",
       "<style scoped>\n",
       "    .dataframe tbody tr th:only-of-type {\n",
       "        vertical-align: middle;\n",
       "    }\n",
       "\n",
       "    .dataframe tbody tr th {\n",
       "        vertical-align: top;\n",
       "    }\n",
       "\n",
       "    .dataframe thead th {\n",
       "        text-align: right;\n",
       "    }\n",
       "</style>\n",
       "<table border=\"1\" class=\"dataframe\">\n",
       "  <thead>\n",
       "    <tr style=\"text-align: right;\">\n",
       "      <th></th>\n",
       "      <th>StockCode</th>\n",
       "      <th>Description</th>\n",
       "    </tr>\n",
       "  </thead>\n",
       "  <tbody>\n",
       "    <tr>\n",
       "      <th>141</th>\n",
       "      <td>D</td>\n",
       "      <td>nan</td>\n",
       "    </tr>\n",
       "    <tr>\n",
       "      <th>482</th>\n",
       "      <td>21705</td>\n",
       "      <td>nan</td>\n",
       "    </tr>\n",
       "    <tr>\n",
       "      <th>622</th>\n",
       "      <td>22139</td>\n",
       "      <td>nan</td>\n",
       "    </tr>\n",
       "    <tr>\n",
       "      <th>918</th>\n",
       "      <td>46000M</td>\n",
       "      <td>nan</td>\n",
       "    </tr>\n",
       "    <tr>\n",
       "      <th>1961</th>\n",
       "      <td>21703</td>\n",
       "      <td>nan</td>\n",
       "    </tr>\n",
       "    <tr>\n",
       "      <th>...</th>\n",
       "      <td>...</td>\n",
       "      <td>...</td>\n",
       "    </tr>\n",
       "    <tr>\n",
       "      <th>540654</th>\n",
       "      <td>21704</td>\n",
       "      <td>nan</td>\n",
       "    </tr>\n",
       "    <tr>\n",
       "      <th>541054</th>\n",
       "      <td>22965</td>\n",
       "      <td>nan</td>\n",
       "    </tr>\n",
       "    <tr>\n",
       "      <th>541541</th>\n",
       "      <td>M</td>\n",
       "      <td>nan</td>\n",
       "    </tr>\n",
       "    <tr>\n",
       "      <th>541612</th>\n",
       "      <td>21705</td>\n",
       "      <td>nan</td>\n",
       "    </tr>\n",
       "    <tr>\n",
       "      <th>541615</th>\n",
       "      <td>21705</td>\n",
       "      <td>nan</td>\n",
       "    </tr>\n",
       "  </tbody>\n",
       "</table>\n",
       "<p>4546 rows × 2 columns</p>\n",
       "</div>"
      ],
      "text/plain": [
       "       StockCode Description\n",
       "141            D         nan\n",
       "482        21705         nan\n",
       "622        22139         nan\n",
       "918       46000M         nan\n",
       "1961       21703         nan\n",
       "...          ...         ...\n",
       "540654     21704         nan\n",
       "541054     22965         nan\n",
       "541541         M         nan\n",
       "541612     21705         nan\n",
       "541615     21705         nan\n",
       "\n",
       "[4546 rows x 2 columns]"
      ]
     },
     "execution_count": 407,
     "metadata": {},
     "output_type": "execute_result"
    }
   ],
   "source": [
    "itemset[itemset['Description'] =='nan']"
   ]
  },
  {
   "cell_type": "code",
   "execution_count": 386,
   "metadata": {},
   "outputs": [],
   "source": [
    "# filling NANs with most frequent value \n",
    "\n",
    "#df2 = itemset.groupby('StockCode')['Description'].apply(lambda x: x.fillna(x.mode().iloc[0])).reset_index(drop=True)\n",
    "\n",
    "#df2 = df2.to_frame()"
   ]
  },
  {
   "cell_type": "code",
   "execution_count": 410,
   "metadata": {},
   "outputs": [
    {
     "data": {
      "text/html": [
       "<div>\n",
       "<style scoped>\n",
       "    .dataframe tbody tr th:only-of-type {\n",
       "        vertical-align: middle;\n",
       "    }\n",
       "\n",
       "    .dataframe tbody tr th {\n",
       "        vertical-align: top;\n",
       "    }\n",
       "\n",
       "    .dataframe thead th {\n",
       "        text-align: right;\n",
       "    }\n",
       "</style>\n",
       "<table border=\"1\" class=\"dataframe\">\n",
       "  <thead>\n",
       "    <tr style=\"text-align: right;\">\n",
       "      <th></th>\n",
       "      <th>Description</th>\n",
       "    </tr>\n",
       "  </thead>\n",
       "  <tbody>\n",
       "    <tr>\n",
       "      <th>141</th>\n",
       "      <td>nan</td>\n",
       "    </tr>\n",
       "    <tr>\n",
       "      <th>482</th>\n",
       "      <td>nan</td>\n",
       "    </tr>\n",
       "    <tr>\n",
       "      <th>622</th>\n",
       "      <td>nan</td>\n",
       "    </tr>\n",
       "    <tr>\n",
       "      <th>918</th>\n",
       "      <td>nan</td>\n",
       "    </tr>\n",
       "    <tr>\n",
       "      <th>1961</th>\n",
       "      <td>nan</td>\n",
       "    </tr>\n",
       "    <tr>\n",
       "      <th>...</th>\n",
       "      <td>...</td>\n",
       "    </tr>\n",
       "    <tr>\n",
       "      <th>540654</th>\n",
       "      <td>nan</td>\n",
       "    </tr>\n",
       "    <tr>\n",
       "      <th>541054</th>\n",
       "      <td>nan</td>\n",
       "    </tr>\n",
       "    <tr>\n",
       "      <th>541541</th>\n",
       "      <td>nan</td>\n",
       "    </tr>\n",
       "    <tr>\n",
       "      <th>541612</th>\n",
       "      <td>nan</td>\n",
       "    </tr>\n",
       "    <tr>\n",
       "      <th>541615</th>\n",
       "      <td>nan</td>\n",
       "    </tr>\n",
       "  </tbody>\n",
       "</table>\n",
       "<p>4546 rows × 1 columns</p>\n",
       "</div>"
      ],
      "text/plain": [
       "       Description\n",
       "141            nan\n",
       "482            nan\n",
       "622            nan\n",
       "918            nan\n",
       "1961           nan\n",
       "...            ...\n",
       "540654         nan\n",
       "541054         nan\n",
       "541541         nan\n",
       "541612         nan\n",
       "541615         nan\n",
       "\n",
       "[4546 rows x 1 columns]"
      ]
     },
     "execution_count": 410,
     "metadata": {},
     "output_type": "execute_result"
    }
   ],
   "source": [
    "df2[df2['Description']=='nan']"
   ]
  },
  {
   "cell_type": "code",
   "execution_count": 423,
   "metadata": {},
   "outputs": [],
   "source": [
    "product_descriptions = itemset.dropna()"
   ]
  },
  {
   "cell_type": "code",
   "execution_count": 428,
   "metadata": {},
   "outputs": [
    {
     "data": {
      "text/html": [
       "<div>\n",
       "<style scoped>\n",
       "    .dataframe tbody tr th:only-of-type {\n",
       "        vertical-align: middle;\n",
       "    }\n",
       "\n",
       "    .dataframe tbody tr th {\n",
       "        vertical-align: top;\n",
       "    }\n",
       "\n",
       "    .dataframe thead th {\n",
       "        text-align: right;\n",
       "    }\n",
       "</style>\n",
       "<table border=\"1\" class=\"dataframe\">\n",
       "  <thead>\n",
       "    <tr style=\"text-align: right;\">\n",
       "      <th></th>\n",
       "      <th>StockCode</th>\n",
       "      <th>Description</th>\n",
       "    </tr>\n",
       "  </thead>\n",
       "  <tbody>\n",
       "    <tr>\n",
       "      <th>0</th>\n",
       "      <td>85123A</td>\n",
       "      <td>WHITE HANGING HEART T-LIGHT HOLDER</td>\n",
       "    </tr>\n",
       "    <tr>\n",
       "      <th>1</th>\n",
       "      <td>71053</td>\n",
       "      <td>WHITE METAL LANTERN</td>\n",
       "    </tr>\n",
       "    <tr>\n",
       "      <th>2</th>\n",
       "      <td>84406B</td>\n",
       "      <td>CREAM CUPID HEARTS COAT HANGER</td>\n",
       "    </tr>\n",
       "    <tr>\n",
       "      <th>3</th>\n",
       "      <td>84029G</td>\n",
       "      <td>KNITTED UNION FLAG HOT WATER BOTTLE</td>\n",
       "    </tr>\n",
       "    <tr>\n",
       "      <th>4</th>\n",
       "      <td>84029E</td>\n",
       "      <td>RED WOOLLY HOTTIE WHITE HEART.</td>\n",
       "    </tr>\n",
       "    <tr>\n",
       "      <th>...</th>\n",
       "      <td>...</td>\n",
       "      <td>...</td>\n",
       "    </tr>\n",
       "    <tr>\n",
       "      <th>509369</th>\n",
       "      <td>85179a</td>\n",
       "      <td>GREEN BITTY LIGHT CHAIN</td>\n",
       "    </tr>\n",
       "    <tr>\n",
       "      <th>512588</th>\n",
       "      <td>23617</td>\n",
       "      <td>SET 10 CARDS SWIRLY XMAS TREE 17104</td>\n",
       "    </tr>\n",
       "    <tr>\n",
       "      <th>527065</th>\n",
       "      <td>90214U</td>\n",
       "      <td>LETTER \"U\" BLING KEY RING</td>\n",
       "    </tr>\n",
       "    <tr>\n",
       "      <th>537224</th>\n",
       "      <td>47591b</td>\n",
       "      <td>SCOTTIES CHILDRENS APRON</td>\n",
       "    </tr>\n",
       "    <tr>\n",
       "      <th>540421</th>\n",
       "      <td>23843</td>\n",
       "      <td>PAPER CRAFT , LITTLE BIRDIE</td>\n",
       "    </tr>\n",
       "  </tbody>\n",
       "</table>\n",
       "<p>4070 rows × 2 columns</p>\n",
       "</div>"
      ],
      "text/plain": [
       "       StockCode                          Description\n",
       "0         85123A   WHITE HANGING HEART T-LIGHT HOLDER\n",
       "1          71053                  WHITE METAL LANTERN\n",
       "2         84406B       CREAM CUPID HEARTS COAT HANGER\n",
       "3         84029G  KNITTED UNION FLAG HOT WATER BOTTLE\n",
       "4         84029E       RED WOOLLY HOTTIE WHITE HEART.\n",
       "...          ...                                  ...\n",
       "509369    85179a              GREEN BITTY LIGHT CHAIN\n",
       "512588     23617  SET 10 CARDS SWIRLY XMAS TREE 17104\n",
       "527065    90214U            LETTER \"U\" BLING KEY RING\n",
       "537224    47591b             SCOTTIES CHILDRENS APRON\n",
       "540421     23843          PAPER CRAFT , LITTLE BIRDIE\n",
       "\n",
       "[4070 rows x 2 columns]"
      ]
     },
     "execution_count": 428,
     "metadata": {},
     "output_type": "execute_result"
    }
   ],
   "source": [
    "product_descriptions.drop_duplicates(inplace=True)\n",
    "product_descriptions.drop_duplicates(subset='StockCode',inplace=True)\n",
    "product_descriptions"
   ]
  },
  {
   "cell_type": "code",
   "execution_count": 429,
   "metadata": {},
   "outputs": [
    {
     "data": {
      "text/plain": [
       "<4070x2053 sparse matrix of type '<class 'numpy.float64'>'\n",
       "\twith 16116 stored elements in Compressed Sparse Row format>"
      ]
     },
     "execution_count": 429,
     "metadata": {},
     "output_type": "execute_result"
    }
   ],
   "source": [
    "vectorizer = TfidfVectorizer(stop_words='english')\n",
    "X1 = vectorizer.fit_transform(product_descriptions[\"Description\"])\n",
    "X1"
   ]
  },
  {
   "cell_type": "code",
   "execution_count": 430,
   "metadata": {},
   "outputs": [
    {
     "data": {
      "image/png": "[encoded data removed]",
      "text/plain": [
       "<Figure size 432x288 with 1 Axes>"
      ]
     },
     "metadata": {},
     "output_type": "display_data"
    }
   ],
   "source": [
    "# Fitting K-Means to the dataset\n",
    "\n",
    "X=X1\n",
    "\n",
    "kmeans = KMeans(n_clusters = 10, init = 'k-means++')\n",
    "y_kmeans = kmeans.fit_predict(X)\n",
    "plt.plot(y_kmeans, \".\")\n",
    "plt.show()"
   ]
  },
  {
   "cell_type": "code",
   "execution_count": 431,
   "metadata": {},
   "outputs": [],
   "source": [
    "def print_cluster(i):\n",
    "    print(\"Cluster %d:\" % i),\n",
    "    for ind in order_centroids[i, :10]:\n",
    "        print(' %s' % terms[ind]),\n",
    "    print"
   ]
  },
  {
   "cell_type": "markdown",
   "metadata": {},
   "source": [
    "Recommendation of product based on current product selected by user. Recommend related product based on frequently bought together"
   ]
  },
  {
   "cell_type": "code",
   "execution_count": 432,
   "metadata": {},
   "outputs": [
    {
     "name": "stdout",
     "output_type": "stream",
     "text": [
      "Top terms per cluster:\n",
      "Cluster 0:\n",
      " set\n",
      " 10\n",
      " bling\n",
      " cards\n",
      " key\n",
      " letter\n",
      " ring\n",
      " lights\n",
      " tins\n",
      " paper\n",
      "Cluster 1:\n",
      " metal\n",
      " sign\n",
      " french\n",
      " door\n",
      " blue\n",
      " cupcake\n",
      " single\n",
      " hook\n",
      " heart\n",
      " stamped\n",
      "Cluster 2:\n",
      " nan\n",
      " zinc\n",
      " erasers\n",
      " eau\n",
      " ebay\n",
      " economy\n",
      " edge\n",
      " edwardian\n",
      " egg\n",
      " eggs\n",
      "Cluster 3:\n",
      " vintage\n",
      " christmas\n",
      " tree\n",
      " bag\n",
      " star\n",
      " 50\n",
      " font\n",
      " number\n",
      " tile\n",
      " heart\n",
      "Cluster 4:\n",
      " blue\n",
      " design\n",
      " polkadot\n",
      " bag\n",
      " ceramic\n",
      " mug\n",
      " garden\n",
      " box\n",
      " paisley\n",
      " bowl\n",
      "Cluster 5:\n",
      " red\n",
      " retrospot\n",
      " bag\n",
      " vintage\n",
      " heart\n",
      " large\n",
      " bowl\n",
      " small\n",
      " box\n",
      " mug\n",
      "Cluster 6:\n",
      " black\n",
      " earrings\n",
      " necklace\n",
      " bracelet\n",
      " glass\n",
      " baroque\n",
      " drop\n",
      " clock\n",
      " bead\n",
      " silver\n",
      "Cluster 7:\n",
      " pink\n",
      " polkadot\n",
      " heart\n",
      " flock\n",
      " glass\n",
      " bag\n",
      " bracelet\n",
      " cover\n",
      " butterfly\n",
      " bowl\n",
      "Cluster 8:\n",
      " heart\n",
      " glass\n",
      " white\n",
      " holder\n",
      " light\n",
      " green\n",
      " box\n",
      " hanging\n",
      " small\n",
      " decoration\n",
      "Cluster 9:\n",
      " flower\n",
      " pink\n",
      " enamel\n",
      " artificial\n",
      " blue\n",
      " art\n",
      " big\n",
      " silver\n",
      " white\n",
      " mug\n"
     ]
    }
   ],
   "source": [
    "# # Optimal clusters is \n",
    "\n",
    "true_k = 10\n",
    "\n",
    "model = KMeans(n_clusters=true_k, init='k-means++', max_iter=100, n_init=1)\n",
    "model.fit(X1)\n",
    "\n",
    "print(\"Top terms per cluster:\")\n",
    "order_centroids = model.cluster_centers_.argsort()[:, ::-1]\n",
    "terms = vectorizer.get_feature_names()\n",
    "for i in range(true_k):\n",
    "    print_cluster(i)"
   ]
  },
  {
   "cell_type": "code",
   "execution_count": 433,
   "metadata": {},
   "outputs": [],
   "source": [
    "def show_recommendations(product):\n",
    "    #print(\"Cluster ID:\")\n",
    "    Y = vectorizer.transform([product])\n",
    "    prediction = model.predict(Y)\n",
    "    #print(prediction)\n",
    "    print_cluster(prediction[0])"
   ]
  },
  {
   "cell_type": "code",
   "execution_count": 435,
   "metadata": {},
   "outputs": [
    {
     "name": "stdout",
     "output_type": "stream",
     "text": [
      "Cluster 8:\n",
      " heart\n",
      " glass\n",
      " white\n",
      " holder\n",
      " light\n",
      " green\n",
      " box\n",
      " hanging\n",
      " small\n",
      " decoration\n"
     ]
    }
   ],
   "source": [
    "show_recommendations('water')"
   ]
  },
  {
   "cell_type": "code",
   "execution_count": null,
   "metadata": {},
   "outputs": [],
   "source": []
  }
 ],
 "metadata": {
  "kernelspec": {
   "display_name": "Python 3",
   "language": "python",
   "name": "python3"
  },
  "language_info": {
   "codemirror_mode": {
    "name": "ipython",
    "version": 3
   },
   "file_extension": ".py",
   "mimetype": "text/x-python",
   "name": "python",
   "nbconvert_exporter": "python",
   "pygments_lexer": "ipython3",
   "version": "3.8.3"
  }
 },
 "nbformat": 4,
 "nbformat_minor": 4
}
