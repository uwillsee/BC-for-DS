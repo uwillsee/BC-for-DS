{
 "cells": [
  {
   "cell_type": "markdown",
   "metadata": {},
   "source": [
    "# Business Cases for Data Science\n",
    "## Business Case 4 - ManyGiftsUK recommender system\n",
    "### Group AA\n",
    "**Members**:\n",
    "- Emil Ahmadov (m20201004@novaims.unl.pt)\n",
    "- Doris Macean (m20200609@novaims.unl.pt)\n",
    "- Doyun Shin (m20200565@novaims.unl.pt)\n",
    "- Anastasiia Tagiltseva (m20200041@novaims.unl.pt)"
   ]
  },
  {
   "cell_type": "markdown",
   "metadata": {},
   "source": [
    "<a class=\"anchor\" id=\"0.1\"></a>\n",
    "\n",
    "# **Table of Contents**\n",
    "\n",
    "1. [Business Understanding](#1)\n",
    "\n",
    "2. [Data Understanding](#2)\n",
    "   - 2.1 [Exploratory Data Analysis](#2.1)\n",
    "  \n",
    "3. [Data Preparation](#3)\n",
    "   - 3.1 [Handling missing values](#3.1)\n",
    "   - 3.2 [Outliers](#3.2) \n",
    "   - 3.3 [Feature engineering](#3.3) \n",
    "   - 3.4 [Feature Selection](#3.4) \n",
    "   - 3.5 [Encoding](#3.5)\n",
    "   - 3.6 [Scaling](#3.6)\n",
    "   \n",
    "4. [Modeling](#4)\n",
    "   - 4.1 [](#4.1) \n",
    "   - 4.2 [](#4.2)\n",
    "   - 4.3 [](#4.3)\n",
    "   \n",
    "5. [Evaluation](#5)\n",
    " \n",
    "6. [Deployment](#6)"
   ]
  },
  {
   "cell_type": "markdown",
   "metadata": {},
   "source": [
    "# **1. Business Understanding** <a class=\"anchor\" id=\"1\"></a>"
   ]
  },
  {
   "cell_type": "markdown",
   "metadata": {},
   "source": [
    "ManyGiftsUK asked us \n",
    "\n",
    "1. Explore the data and build models to answer the problems:\n",
    "\n",
    "    -Recommender system: the website homepage offers a wide range of products the user might be interested on\n",
    "    \n",
    "    -Cold start: offer relevant products to new customers\n",
    "    \n",
    "2. Implement adequate evaluation strategies and select an appropriate quality measure\n",
    "3. In the deployment phase, elaborate on the challenges and recommendations in implementing the recommender system"
   ]
  },
  {
   "cell_type": "markdown",
   "metadata": {},
   "source": [
    "### Project Plan\n",
    "| Phase | Time | Resources | Risks |\n",
    "| :--: | :--------: |:--: | :--------: |\n",
    "| Business Understanding | 2 days | All analysts | Economic and market changes |\n",
    "| Data Understanding | 2 days | All analysts | Data problems, technological problems |\n",
    "| Data Preparation | 2 days | Data scientists, DB engineers | Data problems, technological problems |\n",
    "| Modeling |4 days | Data scientists | Technological problems, inability to build adequate model |\n",
    "| Evaluation | 2 days | All analysts | Economic change inability to implement results |\n",
    "| Deployment | 2 days | Data scientists, DB engineers, implementation team | Economic change inability to implement results |"
   ]
  },
  {
   "cell_type": "markdown",
   "metadata": {},
   "source": [
    "# **2. Data Understanding** <a class=\"anchor\" id=\"2\"></a>"
   ]
  },
  {
   "cell_type": "markdown",
   "metadata": {},
   "source": [
    "### Metadata\n",
    "| Name | Meaning | \n",
    "| :--: | :--------|\n",
    "| InvoiceNo | Invoice number. Nominal, a 6-digit integral number uniquely assigned to each transaction. If this code starts with letter 'c', it indicates a cancellation|\n",
    "| StockCode | Product (item) code. Nominal, a 5-digit integral number uniquely assigned to each distinct product|\n",
    "| Description | Product (item) name. Nominal|\n",
    "| Quantity | The quantities of each product (item) per transaction. Numeric|\n",
    "| InvoiceDate | Invoice Date and time. Numeric, the day and time when each transaction was generated|\n",
    "| UnitPrice | Unit price. Numeric, Product price per unit in pounds|\n",
    "| CustomerID | Customer number. Nominal, a 5-digit integral number uniquely assigned to each customer|\n",
    "| Country | Country name. Nominal, the name of the country where each customer resides|"
   ]
  },
  {
   "cell_type": "markdown",
   "metadata": {},
   "source": [
    "## 2.1 Exploratory Data Analysis <a class=\"anchor\" id=\"2.1\"></a>"
   ]
  },
  {
   "cell_type": "code",
   "execution_count": 4,
   "metadata": {},
   "outputs": [],
   "source": [
    "import pandas as pd\n",
    "import numpy as np\n",
    "\n",
    "import plotly.express as px\n",
    "import plotly.graph_objects as go"
   ]
  },
  {
   "cell_type": "code",
   "execution_count": null,
   "metadata": {},
   "outputs": [],
   "source": [
    "data = pd.read_csv('events_example.csv')\n",
    "data['timestamp'] = pd.to_datetime(data['timestamp'], unit='ms')\n",
    "data.head()"
   ]
  },
  {
   "cell_type": "code",
   "execution_count": null,
   "metadata": {},
   "outputs": [],
   "source": [
    "print('Data size: ', data.shape)\n",
    "print('Unique visitors: ', data['visitorid'].unique().shape[0])\n",
    "print('Unique items: ', data['itemid'].unique().shape[0])"
   ]
  },
  {
   "cell_type": "code",
   "execution_count": null,
   "metadata": {},
   "outputs": [],
   "source": [
    "counts = data['event'].value_counts()\n",
    "fig = px.bar(counts, log_y = True, labels = {'index':'Event', 'value':'Count'}, color_discrete_sequence = ['rgba(126, 165, 222, 0.8)'])\n",
    "fig.update_layout(showlegend = False, title = 'Events distribution')\n",
    "fig.show()"
   ]
  },
  {
   "cell_type": "code",
   "execution_count": null,
   "metadata": {},
   "outputs": [],
   "source": [
    "print(f\"There is only {round((counts['transaction'] / counts['view']) * 1000) } transaction per 1000 views\")"
   ]
  },
  {
   "cell_type": "code",
   "execution_count": null,
   "metadata": {},
   "outputs": [],
   "source": [
    "counts = data['visitorid'].value_counts().value_counts()\n",
    "temp = [*counts[:10], counts[10:].sum()]\n",
    "index = list(map(str, [1, 2, 3, 4, 5, 6, 7, 8, 9, 10, '>10']))\n",
    "fig = px.bar(x = index, y = temp,  labels = {'x':'Count of events by visitor', 'y':'Frequency'}, color_discrete_sequence = ['rgba(126, 165, 222, 0.8)'])\n",
    "fig.show()"
   ]
  },
  {
   "cell_type": "code",
   "execution_count": null,
   "metadata": {},
   "outputs": [],
   "source": [
    "counts = data['itemid'].value_counts().value_counts()\n",
    "temp = [*counts[:10], counts[10:].sum()]\n",
    "index = list(map(str, [1, 2, 3, 4, 5, 6, 7, 8, 9, 10, '>10']))\n",
    "fig = px.bar(x = index, y = temp, labels = {'x':'Count of events with item', 'y':'Frequency'}, color_discrete_sequence = ['rgba(126, 165, 222, 0.8)'])\n",
    "fig.show()"
   ]
  },
  {
   "cell_type": "code",
   "execution_count": null,
   "metadata": {},
   "outputs": [],
   "source": [
    "fig = px.line(data['timestamp'].value_counts().groupby(pd.Grouper(freq='D')).sum(), labels = {'index':'', 'value':''}, color_discrete_sequence = ['rgba(12, 24, 41, 0.8)'], width = 1200)\n",
    "fig.update_layout(\n",
    "    showlegend = False,\n",
    "    title = 'Event frequencies by day'\n",
    ")\n",
    "fig.show()"
   ]
  },
  {
   "cell_type": "code",
   "execution_count": null,
   "metadata": {},
   "outputs": [],
   "source": [
    "temp = data['timestamp'].value_counts()\n",
    "temp = temp.groupby(temp.index.month).sum()\n",
    "fig = px.bar(temp, color_discrete_sequence = ['rgba(126, 165, 222, 0.8)'], labels = {'index':'', 'value':''})\n",
    "fig.update_layout(\n",
    "    showlegend = False,\n",
    "    title = 'Event frequencies by month'\n",
    ")\n",
    "fig.show()"
   ]
  },
  {
   "cell_type": "code",
   "execution_count": null,
   "metadata": {},
   "outputs": [],
   "source": [
    "temp = data['timestamp'].value_counts()\n",
    "temp = temp.groupby(temp.index.day_name()).sum()\n",
    "fig = px.bar(temp, color_discrete_sequence = ['rgba(126, 165, 222, 0.8)'], labels = {'index':'', 'value':''})\n",
    "fig.update_layout(\n",
    "    showlegend = False,\n",
    "    title = 'Event frequencies by weekday'\n",
    ")\n",
    "fig.show()"
   ]
  },
  {
   "cell_type": "code",
   "execution_count": null,
   "metadata": {},
   "outputs": [],
   "source": []
  }
 ],
 "metadata": {
  "kernelspec": {
   "display_name": "Python 3",
   "language": "python",
   "name": "python3"
  },
  "language_info": {
   "codemirror_mode": {
    "name": "ipython",
    "version": 3
   },
   "file_extension": ".py",
   "mimetype": "text/x-python",
   "name": "python",
   "nbconvert_exporter": "python",
   "pygments_lexer": "ipython3",
   "version": "3.8.3"
  }
 },
 "nbformat": 4,
 "nbformat_minor": 4
}
